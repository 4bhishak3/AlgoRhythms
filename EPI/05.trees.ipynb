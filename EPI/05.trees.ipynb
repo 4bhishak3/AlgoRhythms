{
 "cells": [
  {
   "cell_type": "markdown",
   "metadata": {},
   "source": [
    "# Binary Trees\n",
    "- is either empty, or\n",
    "- a root node r together with a left binary tree and a right binary tree."
   ]
  },
  {
   "cell_type": "code",
   "execution_count": 1,
   "metadata": {},
   "outputs": [],
   "source": [
    "class BinaryTreeNode:\n",
    "    def __init__(self, data=None, left=None, right=None):\n",
    "        self.data = data\n",
    "        self.left = left\n",
    "        self.right = right\n",
    "    def __repr__(self):\n",
    "        return f\"BinaryTreeNode(data:{self.data})\""
   ]
  },
  {
   "cell_type": "markdown",
   "metadata": {},
   "source": [
    "### Search Path\n",
    "For every node, there exists a unique path from root to that node with each node in the sequence being a child of previous node. This sequence is known as Search Path from root to that node."
   ]
  },
  {
   "cell_type": "markdown",
   "metadata": {},
   "source": [
    "### Ancestor-Descendant\n",
    "We say a node is a ancestor of a node d, if it lies in the search path of d and d will be it's descendant.\n",
    "\n",
    "A node is a ancestor and descendant of itself."
   ]
  },
  {
   "cell_type": "markdown",
   "metadata": {},
   "source": [
    "### Depth\n",
    "depth of a node n is the number of nodes on the search path from root to n, not including n itself.\n",
    "### Height\n",
    "height of a binary tree is the maximum depth of any node in the tree.\n",
    "### Level\n",
    "all nodes at same depth are called to be at same level."
   ]
  },
  {
   "cell_type": "markdown",
   "metadata": {},
   "source": [
    "### Full Binary Tree\n",
    "binary tree in which every node other than the leaves has two children.<br>\n",
    "min-nodes: $2^{h} + 1$, for height $h$. <br>\n",
    "max-nodes: $2^{h+1} - 1$, for height $h$. <br>\n",
    "height: $\\big\\lfloor \\lg(n) \\big\\rfloor$ ,for $n$ nodes.\n",
    "\n",
    "### Perfect Binary Tree\n",
    "full binary tree in which all leaves are at same depth.<br>\n",
    "min-height = max-height = $\\lg(n+1) - 1$, for $n$ nodes.<br>\n",
    "number of nodes = $2^{h+1} - 1$ for $h$ height\n",
    "\n",
    "### Complete Binary Tree\n",
    "binary tree in which every level, except possibly the last, is completely filled.<br>\n",
    "min-nodes: $2^{h}$, for height $h$ <br>\n",
    "max-nodes: $2^{h+1} - 1$ for height $h$ <br>\n",
    "height: $\\big\\lfloor \\lg(n) \\big\\rfloor$ ,for $n$ nodes.\n",
    "\n",
    "### Skewed Binary Tree\n",
    "**Left-skewed:** A tree in which no node has a right child.<br>\n",
    "**Right-skewed:** A tree in which no node has a left child."
   ]
  },
  {
   "cell_type": "markdown",
   "metadata": {},
   "source": [
    "## Traversal\n",
    "**Preorder:** root -> left -> right <br>\n",
    "**Postorder:** left -> right -> root <br>\n",
    "**Inorder:** left -> root -> right"
   ]
  },
  {
   "cell_type": "code",
   "execution_count": 2,
   "metadata": {},
   "outputs": [],
   "source": [
    "c = BinaryTreeNode(4)\n",
    "d = BinaryTreeNode(5)\n",
    "e = BinaryTreeNode(6)\n",
    "\n",
    "a = BinaryTreeNode(2, c ,d)\n",
    "b = BinaryTreeNode(3, e)\n",
    "root = BinaryTreeNode(1, a, b)"
   ]
  },
  {
   "cell_type": "code",
   "execution_count": 3,
   "metadata": {},
   "outputs": [],
   "source": [
    "import iplantuml"
   ]
  },
  {
   "cell_type": "code",
   "execution_count": 4,
   "metadata": {},
   "outputs": [
    {
     "ename": "FileNotFoundError",
     "evalue": "[Errno 2] No such file or directory: 'plantweb'",
     "output_type": "error",
     "traceback": [
      "\u001b[0;31m---------------------------------------------------------------------------\u001b[0m",
      "\u001b[0;31mFileNotFoundError\u001b[0m                         Traceback (most recent call last)",
      "\u001b[1;32m/home/shaker/Documents/Github/AlgoRhythms/EPI/05.trees.ipynb Cell 10\u001b[0m in \u001b[0;36m<cell line: 1>\u001b[0;34m()\u001b[0m\n\u001b[0;32m----> <a href='vscode-notebook-cell:/home/shaker/Documents/Github/AlgoRhythms/EPI/05.trees.ipynb#X12sZmlsZQ%3D%3D?line=0'>1</a>\u001b[0m get_ipython()\u001b[39m.\u001b[39;49mrun_cell_magic(\u001b[39m'\u001b[39;49m\u001b[39mplantuml\u001b[39;49m\u001b[39m'\u001b[39;49m, \u001b[39m'\u001b[39;49m\u001b[39m'\u001b[39;49m, \u001b[39m'\u001b[39;49m\u001b[39m@startuml\u001b[39;49m\u001b[39m\\n\u001b[39;49;00m\u001b[39m(1) --> (2)\u001b[39;49m\u001b[39m\\n\u001b[39;49;00m\u001b[39m(1) --> (3)\u001b[39;49m\u001b[39m\\n\u001b[39;49;00m\u001b[39m(2) --> (4)\u001b[39;49m\u001b[39m\\n\u001b[39;49;00m\u001b[39m(2) --> (5)\u001b[39;49m\u001b[39m\\n\u001b[39;49;00m\u001b[39m(3) --> (6)\u001b[39;49m\u001b[39m\\n\u001b[39;49;00m\u001b[39m@enduml\u001b[39;49m\u001b[39m\\n\u001b[39;49;00m\u001b[39m'\u001b[39;49m)\n",
      "File \u001b[0;32m~/.local/lib/python3.10/site-packages/IPython/core/interactiveshell.py:2358\u001b[0m, in \u001b[0;36mInteractiveShell.run_cell_magic\u001b[0;34m(self, magic_name, line, cell)\u001b[0m\n\u001b[1;32m   2356\u001b[0m \u001b[39mwith\u001b[39;00m \u001b[39mself\u001b[39m\u001b[39m.\u001b[39mbuiltin_trap:\n\u001b[1;32m   2357\u001b[0m     args \u001b[39m=\u001b[39m (magic_arg_s, cell)\n\u001b[0;32m-> 2358\u001b[0m     result \u001b[39m=\u001b[39m fn(\u001b[39m*\u001b[39;49margs, \u001b[39m*\u001b[39;49m\u001b[39m*\u001b[39;49mkwargs)\n\u001b[1;32m   2359\u001b[0m \u001b[39mreturn\u001b[39;00m result\n",
      "File \u001b[0;32m~/.local/lib/python3.10/site-packages/iplantuml/__init__.py:101\u001b[0m, in \u001b[0;36mplantuml\u001b[0;34m(line, cell)\u001b[0m\n\u001b[1;32m     99\u001b[0m output \u001b[39m=\u001b[39m \u001b[39mNone\u001b[39;00m\n\u001b[1;32m    100\u001b[0m \u001b[39mif\u001b[39;00m use_web:\n\u001b[0;32m--> 101\u001b[0m     output \u001b[39m=\u001b[39m plantuml_web(uml_path)\n\u001b[1;32m    102\u001b[0m \u001b[39melse\u001b[39;00m:\n\u001b[1;32m    103\u001b[0m     plantuml_path \u001b[39m=\u001b[39m os\u001b[39m.\u001b[39mpath\u001b[39m.\u001b[39mabspath(args\u001b[39m.\u001b[39mplantuml_path \u001b[39mor\u001b[39;00m PLANTUMLPATH)\n",
      "File \u001b[0;32m~/.local/lib/python3.10/site-packages/iplantuml/__init__.py:68\u001b[0m, in \u001b[0;36mplantuml_web\u001b[0;34m(*file_names, **kwargs)\u001b[0m\n\u001b[1;32m     57\u001b[0m \u001b[39m\"\"\"\u001b[39;00m\n\u001b[1;32m     58\u001b[0m \u001b[39mGiven a list of UML documents, generate corresponding SVG diagrams, using\u001b[39;00m\n\u001b[1;32m     59\u001b[0m \u001b[39mPlantUML's web service via the plantweb module.\u001b[39;00m\n\u001b[0;32m   (...)\u001b[0m\n\u001b[1;32m     62\u001b[0m \u001b[39m:return: the path to the generated SVG UML diagram.\u001b[39;00m\n\u001b[1;32m     63\u001b[0m \u001b[39m\"\"\"\u001b[39;00m\n\u001b[1;32m     64\u001b[0m cmd \u001b[39m=\u001b[39m [\u001b[39m\"\u001b[39m\u001b[39mplantweb\u001b[39m\u001b[39m\"\u001b[39m,\n\u001b[1;32m     65\u001b[0m        \u001b[39m\"\u001b[39m\u001b[39m--format\u001b[39m\u001b[39m\"\u001b[39m,\n\u001b[1;32m     66\u001b[0m        \u001b[39m\"\u001b[39m\u001b[39mauto\u001b[39m\u001b[39m\"\u001b[39m] \u001b[39m+\u001b[39m \u001b[39mlist\u001b[39m(file_names)\n\u001b[0;32m---> 68\u001b[0m \u001b[39mreturn\u001b[39;00m _exec_and_get_paths(cmd, file_names)\n",
      "File \u001b[0;32m~/.local/lib/python3.10/site-packages/iplantuml/__init__.py:32\u001b[0m, in \u001b[0;36m_exec_and_get_paths\u001b[0;34m(cmd, file_names)\u001b[0m\n\u001b[1;32m     31\u001b[0m \u001b[39mdef\u001b[39;00m \u001b[39m_exec_and_get_paths\u001b[39m(cmd, file_names):\n\u001b[0;32m---> 32\u001b[0m     subprocess\u001b[39m.\u001b[39;49mcheck_call(cmd, shell\u001b[39m=\u001b[39;49m\u001b[39mFalse\u001b[39;49;00m, stderr\u001b[39m=\u001b[39;49msubprocess\u001b[39m.\u001b[39;49mSTDOUT)\n\u001b[1;32m     34\u001b[0m     \u001b[39mreturn\u001b[39;00m [os\u001b[39m.\u001b[39mpath\u001b[39m.\u001b[39msplitext(f)[\u001b[39m0\u001b[39m] \u001b[39m+\u001b[39m \u001b[39m\"\u001b[39m\u001b[39m.svg\u001b[39m\u001b[39m\"\u001b[39m \u001b[39mfor\u001b[39;00m f \u001b[39min\u001b[39;00m file_names]\n",
      "File \u001b[0;32m/usr/lib/python3.10/subprocess.py:364\u001b[0m, in \u001b[0;36mcheck_call\u001b[0;34m(*popenargs, **kwargs)\u001b[0m\n\u001b[1;32m    354\u001b[0m \u001b[39mdef\u001b[39;00m \u001b[39mcheck_call\u001b[39m(\u001b[39m*\u001b[39mpopenargs, \u001b[39m*\u001b[39m\u001b[39m*\u001b[39mkwargs):\n\u001b[1;32m    355\u001b[0m     \u001b[39m\"\"\"Run command with arguments.  Wait for command to complete.  If\u001b[39;00m\n\u001b[1;32m    356\u001b[0m \u001b[39m    the exit code was zero then return, otherwise raise\u001b[39;00m\n\u001b[1;32m    357\u001b[0m \u001b[39m    CalledProcessError.  The CalledProcessError object will have the\u001b[39;00m\n\u001b[0;32m   (...)\u001b[0m\n\u001b[1;32m    362\u001b[0m \u001b[39m    check_call([\"ls\", \"-l\"])\u001b[39;00m\n\u001b[1;32m    363\u001b[0m \u001b[39m    \"\"\"\u001b[39;00m\n\u001b[0;32m--> 364\u001b[0m     retcode \u001b[39m=\u001b[39m call(\u001b[39m*\u001b[39;49mpopenargs, \u001b[39m*\u001b[39;49m\u001b[39m*\u001b[39;49mkwargs)\n\u001b[1;32m    365\u001b[0m     \u001b[39mif\u001b[39;00m retcode:\n\u001b[1;32m    366\u001b[0m         cmd \u001b[39m=\u001b[39m kwargs\u001b[39m.\u001b[39mget(\u001b[39m\"\u001b[39m\u001b[39margs\u001b[39m\u001b[39m\"\u001b[39m)\n",
      "File \u001b[0;32m/usr/lib/python3.10/subprocess.py:345\u001b[0m, in \u001b[0;36mcall\u001b[0;34m(timeout, *popenargs, **kwargs)\u001b[0m\n\u001b[1;32m    337\u001b[0m \u001b[39mdef\u001b[39;00m \u001b[39mcall\u001b[39m(\u001b[39m*\u001b[39mpopenargs, timeout\u001b[39m=\u001b[39m\u001b[39mNone\u001b[39;00m, \u001b[39m*\u001b[39m\u001b[39m*\u001b[39mkwargs):\n\u001b[1;32m    338\u001b[0m     \u001b[39m\"\"\"Run command with arguments.  Wait for command to complete or\u001b[39;00m\n\u001b[1;32m    339\u001b[0m \u001b[39m    timeout, then return the returncode attribute.\u001b[39;00m\n\u001b[1;32m    340\u001b[0m \n\u001b[0;32m   (...)\u001b[0m\n\u001b[1;32m    343\u001b[0m \u001b[39m    retcode = call([\"ls\", \"-l\"])\u001b[39;00m\n\u001b[1;32m    344\u001b[0m \u001b[39m    \"\"\"\u001b[39;00m\n\u001b[0;32m--> 345\u001b[0m     \u001b[39mwith\u001b[39;00m Popen(\u001b[39m*\u001b[39;49mpopenargs, \u001b[39m*\u001b[39;49m\u001b[39m*\u001b[39;49mkwargs) \u001b[39mas\u001b[39;00m p:\n\u001b[1;32m    346\u001b[0m         \u001b[39mtry\u001b[39;00m:\n\u001b[1;32m    347\u001b[0m             \u001b[39mreturn\u001b[39;00m p\u001b[39m.\u001b[39mwait(timeout\u001b[39m=\u001b[39mtimeout)\n",
      "File \u001b[0;32m/usr/lib/python3.10/subprocess.py:969\u001b[0m, in \u001b[0;36mPopen.__init__\u001b[0;34m(self, args, bufsize, executable, stdin, stdout, stderr, preexec_fn, close_fds, shell, cwd, env, universal_newlines, startupinfo, creationflags, restore_signals, start_new_session, pass_fds, user, group, extra_groups, encoding, errors, text, umask, pipesize)\u001b[0m\n\u001b[1;32m    965\u001b[0m         \u001b[39mif\u001b[39;00m \u001b[39mself\u001b[39m\u001b[39m.\u001b[39mtext_mode:\n\u001b[1;32m    966\u001b[0m             \u001b[39mself\u001b[39m\u001b[39m.\u001b[39mstderr \u001b[39m=\u001b[39m io\u001b[39m.\u001b[39mTextIOWrapper(\u001b[39mself\u001b[39m\u001b[39m.\u001b[39mstderr,\n\u001b[1;32m    967\u001b[0m                     encoding\u001b[39m=\u001b[39mencoding, errors\u001b[39m=\u001b[39merrors)\n\u001b[0;32m--> 969\u001b[0m     \u001b[39mself\u001b[39;49m\u001b[39m.\u001b[39;49m_execute_child(args, executable, preexec_fn, close_fds,\n\u001b[1;32m    970\u001b[0m                         pass_fds, cwd, env,\n\u001b[1;32m    971\u001b[0m                         startupinfo, creationflags, shell,\n\u001b[1;32m    972\u001b[0m                         p2cread, p2cwrite,\n\u001b[1;32m    973\u001b[0m                         c2pread, c2pwrite,\n\u001b[1;32m    974\u001b[0m                         errread, errwrite,\n\u001b[1;32m    975\u001b[0m                         restore_signals,\n\u001b[1;32m    976\u001b[0m                         gid, gids, uid, umask,\n\u001b[1;32m    977\u001b[0m                         start_new_session)\n\u001b[1;32m    978\u001b[0m \u001b[39mexcept\u001b[39;00m:\n\u001b[1;32m    979\u001b[0m     \u001b[39m# Cleanup if the child failed starting.\u001b[39;00m\n\u001b[1;32m    980\u001b[0m     \u001b[39mfor\u001b[39;00m f \u001b[39min\u001b[39;00m \u001b[39mfilter\u001b[39m(\u001b[39mNone\u001b[39;00m, (\u001b[39mself\u001b[39m\u001b[39m.\u001b[39mstdin, \u001b[39mself\u001b[39m\u001b[39m.\u001b[39mstdout, \u001b[39mself\u001b[39m\u001b[39m.\u001b[39mstderr)):\n",
      "File \u001b[0;32m/usr/lib/python3.10/subprocess.py:1845\u001b[0m, in \u001b[0;36mPopen._execute_child\u001b[0;34m(self, args, executable, preexec_fn, close_fds, pass_fds, cwd, env, startupinfo, creationflags, shell, p2cread, p2cwrite, c2pread, c2pwrite, errread, errwrite, restore_signals, gid, gids, uid, umask, start_new_session)\u001b[0m\n\u001b[1;32m   1843\u001b[0m     \u001b[39mif\u001b[39;00m errno_num \u001b[39m!=\u001b[39m \u001b[39m0\u001b[39m:\n\u001b[1;32m   1844\u001b[0m         err_msg \u001b[39m=\u001b[39m os\u001b[39m.\u001b[39mstrerror(errno_num)\n\u001b[0;32m-> 1845\u001b[0m     \u001b[39mraise\u001b[39;00m child_exception_type(errno_num, err_msg, err_filename)\n\u001b[1;32m   1846\u001b[0m \u001b[39mraise\u001b[39;00m child_exception_type(err_msg)\n",
      "\u001b[0;31mFileNotFoundError\u001b[0m: [Errno 2] No such file or directory: 'plantweb'"
     ]
    }
   ],
   "source": [
    "%%plantuml\n",
    "@startuml\n",
    "(1) --> (2)\n",
    "(1) --> (3)\n",
    "(2) --> (4)\n",
    "(2) --> (5)\n",
    "(3) --> (6)\n",
    "@enduml"
   ]
  },
  {
   "cell_type": "code",
   "execution_count": 6,
   "metadata": {},
   "outputs": [
    {
     "name": "stdout",
     "output_type": "stream",
     "text": [
      "4 2 5 1 6 3 "
     ]
    }
   ],
   "source": [
    "def inorder_tree_traversal(root):\n",
    "    if root:\n",
    "        inorder_tree_traversal(root.left)\n",
    "        print(root.data, end=\" \")\n",
    "        inorder_tree_traversal(root.right)\n",
    "inorder_tree_traversal(root)"
   ]
  },
  {
   "cell_type": "code",
   "execution_count": 7,
   "metadata": {},
   "outputs": [
    {
     "name": "stdout",
     "output_type": "stream",
     "text": [
      "4 5 2 6 3 1 "
     ]
    }
   ],
   "source": [
    "def postorder_tree_traversal(root):\n",
    "    if root:\n",
    "        postorder_tree_traversal(root.left)\n",
    "        postorder_tree_traversal(root.right)\n",
    "        print(root.data, end=\" \")\n",
    "postorder_tree_traversal(root)"
   ]
  },
  {
   "cell_type": "code",
   "execution_count": 8,
   "metadata": {},
   "outputs": [
    {
     "name": "stdout",
     "output_type": "stream",
     "text": [
      "1 2 4 5 3 6 "
     ]
    }
   ],
   "source": [
    "def preorder_tree_traversal(root):\n",
    "    if root:\n",
    "        print(root.data, end=\" \")\n",
    "        preorder_tree_traversal(root.left)\n",
    "        preorder_tree_traversal(root.right)\n",
    "preorder_tree_traversal(root)"
   ]
  },
  {
   "cell_type": "code",
   "execution_count": 9,
   "metadata": {},
   "outputs": [
    {
     "data": {
      "text/plain": [
       "2"
      ]
     },
     "execution_count": 9,
     "metadata": {},
     "output_type": "execute_result"
    }
   ],
   "source": [
    "def height(root):\n",
    "    if not root:\n",
    "        return -1\n",
    "    ldepth = height(root.left)\n",
    "    rdepth = height(root.right)\n",
    "    return max(ldepth, rdepth) + 1\n",
    "height(root)"
   ]
  },
  {
   "cell_type": "markdown",
   "metadata": {},
   "source": [
    "## Binary Tree from list"
   ]
  },
  {
   "cell_type": "code",
   "execution_count": 10,
   "metadata": {},
   "outputs": [],
   "source": [
    "def binary_tree(nodes: list) -> BinaryTreeNode:\n",
    "    if not nodes: return None\n",
    "    from collections import deque\n",
    "    queue = deque()\n",
    "    root = BinaryTreeNode(nodes[0])\n",
    "    queue.append(root)\n",
    "    for i in range(len(nodes) // 2):\n",
    "        node = queue.popleft()\n",
    "        while not node:\n",
    "            node = queue.popleft()\n",
    "            if not queue: return root\n",
    "        node.left = None if nodes[2*i+1] is None else BinaryTreeNode(nodes[2*i+1])\n",
    "        node.right = None if nodes[2*i+2] is None else BinaryTreeNode(nodes[2*i+2])\n",
    "        queue.append(node.left)\n",
    "        queue.append(node.right)\n",
    "    return root"
   ]
  },
  {
   "cell_type": "markdown",
   "metadata": {},
   "source": [
    "## Test If a binary tree is height-balanced"
   ]
  },
  {
   "cell_type": "code",
   "execution_count": 11,
   "metadata": {},
   "outputs": [
    {
     "ename": "FileNotFoundError",
     "evalue": "[Errno 2] No such file or directory: 'plantweb'",
     "output_type": "error",
     "traceback": [
      "\u001b[0;31m---------------------------------------------------------------------------\u001b[0m",
      "\u001b[0;31mFileNotFoundError\u001b[0m                         Traceback (most recent call last)",
      "\u001b[1;32m/home/shaker/Documents/Github/AlgoRhythms/EPI/05.trees.ipynb Cell 18\u001b[0m in \u001b[0;36m<cell line: 1>\u001b[0;34m()\u001b[0m\n\u001b[0;32m----> <a href='vscode-notebook-cell:/home/shaker/Documents/Github/AlgoRhythms/EPI/05.trees.ipynb#X23sZmlsZQ%3D%3D?line=0'>1</a>\u001b[0m get_ipython()\u001b[39m.\u001b[39;49mrun_cell_magic(\u001b[39m'\u001b[39;49m\u001b[39mplantuml\u001b[39;49m\u001b[39m'\u001b[39;49m, \u001b[39m'\u001b[39;49m\u001b[39m'\u001b[39;49m, \u001b[39m'\u001b[39;49m\u001b[39m@startuml\u001b[39;49m\u001b[39m\\n\u001b[39;49;00m\u001b[39m(A) --> (B)\u001b[39;49m\u001b[39m\\n\u001b[39;49;00m\u001b[39m(B) --> (C)\u001b[39;49m\u001b[39m\\n\u001b[39;49;00m\u001b[39m(B) --> (H)\u001b[39;49m\u001b[39m\\n\u001b[39;49;00m\u001b[39m(C) --> (D)\u001b[39;49m\u001b[39m\\n\u001b[39;49;00m\u001b[39m(C) --> (G)\u001b[39;49m\u001b[39m\\n\u001b[39;49;00m\u001b[39m(D) --> (E)\u001b[39;49m\u001b[39m\\n\u001b[39;49;00m\u001b[39m(D) --> (F)\u001b[39;49m\u001b[39m\\n\u001b[39;49;00m\u001b[39m(H) --> (I)\u001b[39;49m\u001b[39m\\n\u001b[39;49;00m\u001b[39m(H) --> (J)\u001b[39;49m\u001b[39m\\n\u001b[39;49;00m\u001b[39m(A) --> (K)\u001b[39;49m\u001b[39m\\n\u001b[39;49;00m\u001b[39m(K) --> (L)\u001b[39;49m\u001b[39m\\n\u001b[39;49;00m\u001b[39m(L) --> (M)\u001b[39;49m\u001b[39m\\n\u001b[39;49;00m\u001b[39m(L) --> (N)\u001b[39;49m\u001b[39m\\n\u001b[39;49;00m\u001b[39m(K) --> (O)\u001b[39;49m\u001b[39m\\n\u001b[39;49;00m\u001b[39m@enduml\u001b[39;49m\u001b[39m\\n\u001b[39;49;00m\u001b[39m'\u001b[39;49m)\n",
      "File \u001b[0;32m~/.local/lib/python3.10/site-packages/IPython/core/interactiveshell.py:2358\u001b[0m, in \u001b[0;36mInteractiveShell.run_cell_magic\u001b[0;34m(self, magic_name, line, cell)\u001b[0m\n\u001b[1;32m   2356\u001b[0m \u001b[39mwith\u001b[39;00m \u001b[39mself\u001b[39m\u001b[39m.\u001b[39mbuiltin_trap:\n\u001b[1;32m   2357\u001b[0m     args \u001b[39m=\u001b[39m (magic_arg_s, cell)\n\u001b[0;32m-> 2358\u001b[0m     result \u001b[39m=\u001b[39m fn(\u001b[39m*\u001b[39;49margs, \u001b[39m*\u001b[39;49m\u001b[39m*\u001b[39;49mkwargs)\n\u001b[1;32m   2359\u001b[0m \u001b[39mreturn\u001b[39;00m result\n",
      "File \u001b[0;32m~/.local/lib/python3.10/site-packages/iplantuml/__init__.py:101\u001b[0m, in \u001b[0;36mplantuml\u001b[0;34m(line, cell)\u001b[0m\n\u001b[1;32m     99\u001b[0m output \u001b[39m=\u001b[39m \u001b[39mNone\u001b[39;00m\n\u001b[1;32m    100\u001b[0m \u001b[39mif\u001b[39;00m use_web:\n\u001b[0;32m--> 101\u001b[0m     output \u001b[39m=\u001b[39m plantuml_web(uml_path)\n\u001b[1;32m    102\u001b[0m \u001b[39melse\u001b[39;00m:\n\u001b[1;32m    103\u001b[0m     plantuml_path \u001b[39m=\u001b[39m os\u001b[39m.\u001b[39mpath\u001b[39m.\u001b[39mabspath(args\u001b[39m.\u001b[39mplantuml_path \u001b[39mor\u001b[39;00m PLANTUMLPATH)\n",
      "File \u001b[0;32m~/.local/lib/python3.10/site-packages/iplantuml/__init__.py:68\u001b[0m, in \u001b[0;36mplantuml_web\u001b[0;34m(*file_names, **kwargs)\u001b[0m\n\u001b[1;32m     57\u001b[0m \u001b[39m\"\"\"\u001b[39;00m\n\u001b[1;32m     58\u001b[0m \u001b[39mGiven a list of UML documents, generate corresponding SVG diagrams, using\u001b[39;00m\n\u001b[1;32m     59\u001b[0m \u001b[39mPlantUML's web service via the plantweb module.\u001b[39;00m\n\u001b[0;32m   (...)\u001b[0m\n\u001b[1;32m     62\u001b[0m \u001b[39m:return: the path to the generated SVG UML diagram.\u001b[39;00m\n\u001b[1;32m     63\u001b[0m \u001b[39m\"\"\"\u001b[39;00m\n\u001b[1;32m     64\u001b[0m cmd \u001b[39m=\u001b[39m [\u001b[39m\"\u001b[39m\u001b[39mplantweb\u001b[39m\u001b[39m\"\u001b[39m,\n\u001b[1;32m     65\u001b[0m        \u001b[39m\"\u001b[39m\u001b[39m--format\u001b[39m\u001b[39m\"\u001b[39m,\n\u001b[1;32m     66\u001b[0m        \u001b[39m\"\u001b[39m\u001b[39mauto\u001b[39m\u001b[39m\"\u001b[39m] \u001b[39m+\u001b[39m \u001b[39mlist\u001b[39m(file_names)\n\u001b[0;32m---> 68\u001b[0m \u001b[39mreturn\u001b[39;00m _exec_and_get_paths(cmd, file_names)\n",
      "File \u001b[0;32m~/.local/lib/python3.10/site-packages/iplantuml/__init__.py:32\u001b[0m, in \u001b[0;36m_exec_and_get_paths\u001b[0;34m(cmd, file_names)\u001b[0m\n\u001b[1;32m     31\u001b[0m \u001b[39mdef\u001b[39;00m \u001b[39m_exec_and_get_paths\u001b[39m(cmd, file_names):\n\u001b[0;32m---> 32\u001b[0m     subprocess\u001b[39m.\u001b[39;49mcheck_call(cmd, shell\u001b[39m=\u001b[39;49m\u001b[39mFalse\u001b[39;49;00m, stderr\u001b[39m=\u001b[39;49msubprocess\u001b[39m.\u001b[39;49mSTDOUT)\n\u001b[1;32m     34\u001b[0m     \u001b[39mreturn\u001b[39;00m [os\u001b[39m.\u001b[39mpath\u001b[39m.\u001b[39msplitext(f)[\u001b[39m0\u001b[39m] \u001b[39m+\u001b[39m \u001b[39m\"\u001b[39m\u001b[39m.svg\u001b[39m\u001b[39m\"\u001b[39m \u001b[39mfor\u001b[39;00m f \u001b[39min\u001b[39;00m file_names]\n",
      "File \u001b[0;32m/usr/lib/python3.10/subprocess.py:364\u001b[0m, in \u001b[0;36mcheck_call\u001b[0;34m(*popenargs, **kwargs)\u001b[0m\n\u001b[1;32m    354\u001b[0m \u001b[39mdef\u001b[39;00m \u001b[39mcheck_call\u001b[39m(\u001b[39m*\u001b[39mpopenargs, \u001b[39m*\u001b[39m\u001b[39m*\u001b[39mkwargs):\n\u001b[1;32m    355\u001b[0m     \u001b[39m\"\"\"Run command with arguments.  Wait for command to complete.  If\u001b[39;00m\n\u001b[1;32m    356\u001b[0m \u001b[39m    the exit code was zero then return, otherwise raise\u001b[39;00m\n\u001b[1;32m    357\u001b[0m \u001b[39m    CalledProcessError.  The CalledProcessError object will have the\u001b[39;00m\n\u001b[0;32m   (...)\u001b[0m\n\u001b[1;32m    362\u001b[0m \u001b[39m    check_call([\"ls\", \"-l\"])\u001b[39;00m\n\u001b[1;32m    363\u001b[0m \u001b[39m    \"\"\"\u001b[39;00m\n\u001b[0;32m--> 364\u001b[0m     retcode \u001b[39m=\u001b[39m call(\u001b[39m*\u001b[39;49mpopenargs, \u001b[39m*\u001b[39;49m\u001b[39m*\u001b[39;49mkwargs)\n\u001b[1;32m    365\u001b[0m     \u001b[39mif\u001b[39;00m retcode:\n\u001b[1;32m    366\u001b[0m         cmd \u001b[39m=\u001b[39m kwargs\u001b[39m.\u001b[39mget(\u001b[39m\"\u001b[39m\u001b[39margs\u001b[39m\u001b[39m\"\u001b[39m)\n",
      "File \u001b[0;32m/usr/lib/python3.10/subprocess.py:345\u001b[0m, in \u001b[0;36mcall\u001b[0;34m(timeout, *popenargs, **kwargs)\u001b[0m\n\u001b[1;32m    337\u001b[0m \u001b[39mdef\u001b[39;00m \u001b[39mcall\u001b[39m(\u001b[39m*\u001b[39mpopenargs, timeout\u001b[39m=\u001b[39m\u001b[39mNone\u001b[39;00m, \u001b[39m*\u001b[39m\u001b[39m*\u001b[39mkwargs):\n\u001b[1;32m    338\u001b[0m     \u001b[39m\"\"\"Run command with arguments.  Wait for command to complete or\u001b[39;00m\n\u001b[1;32m    339\u001b[0m \u001b[39m    timeout, then return the returncode attribute.\u001b[39;00m\n\u001b[1;32m    340\u001b[0m \n\u001b[0;32m   (...)\u001b[0m\n\u001b[1;32m    343\u001b[0m \u001b[39m    retcode = call([\"ls\", \"-l\"])\u001b[39;00m\n\u001b[1;32m    344\u001b[0m \u001b[39m    \"\"\"\u001b[39;00m\n\u001b[0;32m--> 345\u001b[0m     \u001b[39mwith\u001b[39;00m Popen(\u001b[39m*\u001b[39;49mpopenargs, \u001b[39m*\u001b[39;49m\u001b[39m*\u001b[39;49mkwargs) \u001b[39mas\u001b[39;00m p:\n\u001b[1;32m    346\u001b[0m         \u001b[39mtry\u001b[39;00m:\n\u001b[1;32m    347\u001b[0m             \u001b[39mreturn\u001b[39;00m p\u001b[39m.\u001b[39mwait(timeout\u001b[39m=\u001b[39mtimeout)\n",
      "File \u001b[0;32m/usr/lib/python3.10/subprocess.py:969\u001b[0m, in \u001b[0;36mPopen.__init__\u001b[0;34m(self, args, bufsize, executable, stdin, stdout, stderr, preexec_fn, close_fds, shell, cwd, env, universal_newlines, startupinfo, creationflags, restore_signals, start_new_session, pass_fds, user, group, extra_groups, encoding, errors, text, umask, pipesize)\u001b[0m\n\u001b[1;32m    965\u001b[0m         \u001b[39mif\u001b[39;00m \u001b[39mself\u001b[39m\u001b[39m.\u001b[39mtext_mode:\n\u001b[1;32m    966\u001b[0m             \u001b[39mself\u001b[39m\u001b[39m.\u001b[39mstderr \u001b[39m=\u001b[39m io\u001b[39m.\u001b[39mTextIOWrapper(\u001b[39mself\u001b[39m\u001b[39m.\u001b[39mstderr,\n\u001b[1;32m    967\u001b[0m                     encoding\u001b[39m=\u001b[39mencoding, errors\u001b[39m=\u001b[39merrors)\n\u001b[0;32m--> 969\u001b[0m     \u001b[39mself\u001b[39;49m\u001b[39m.\u001b[39;49m_execute_child(args, executable, preexec_fn, close_fds,\n\u001b[1;32m    970\u001b[0m                         pass_fds, cwd, env,\n\u001b[1;32m    971\u001b[0m                         startupinfo, creationflags, shell,\n\u001b[1;32m    972\u001b[0m                         p2cread, p2cwrite,\n\u001b[1;32m    973\u001b[0m                         c2pread, c2pwrite,\n\u001b[1;32m    974\u001b[0m                         errread, errwrite,\n\u001b[1;32m    975\u001b[0m                         restore_signals,\n\u001b[1;32m    976\u001b[0m                         gid, gids, uid, umask,\n\u001b[1;32m    977\u001b[0m                         start_new_session)\n\u001b[1;32m    978\u001b[0m \u001b[39mexcept\u001b[39;00m:\n\u001b[1;32m    979\u001b[0m     \u001b[39m# Cleanup if the child failed starting.\u001b[39;00m\n\u001b[1;32m    980\u001b[0m     \u001b[39mfor\u001b[39;00m f \u001b[39min\u001b[39;00m \u001b[39mfilter\u001b[39m(\u001b[39mNone\u001b[39;00m, (\u001b[39mself\u001b[39m\u001b[39m.\u001b[39mstdin, \u001b[39mself\u001b[39m\u001b[39m.\u001b[39mstdout, \u001b[39mself\u001b[39m\u001b[39m.\u001b[39mstderr)):\n",
      "File \u001b[0;32m/usr/lib/python3.10/subprocess.py:1845\u001b[0m, in \u001b[0;36mPopen._execute_child\u001b[0;34m(self, args, executable, preexec_fn, close_fds, pass_fds, cwd, env, startupinfo, creationflags, shell, p2cread, p2cwrite, c2pread, c2pwrite, errread, errwrite, restore_signals, gid, gids, uid, umask, start_new_session)\u001b[0m\n\u001b[1;32m   1843\u001b[0m     \u001b[39mif\u001b[39;00m errno_num \u001b[39m!=\u001b[39m \u001b[39m0\u001b[39m:\n\u001b[1;32m   1844\u001b[0m         err_msg \u001b[39m=\u001b[39m os\u001b[39m.\u001b[39mstrerror(errno_num)\n\u001b[0;32m-> 1845\u001b[0m     \u001b[39mraise\u001b[39;00m child_exception_type(errno_num, err_msg, err_filename)\n\u001b[1;32m   1846\u001b[0m \u001b[39mraise\u001b[39;00m child_exception_type(err_msg)\n",
      "\u001b[0;31mFileNotFoundError\u001b[0m: [Errno 2] No such file or directory: 'plantweb'"
     ]
    }
   ],
   "source": [
    "%%plantuml\n",
    "@startuml\n",
    "(A) --> (B)\n",
    "(B) --> (C)\n",
    "(B) --> (H)\n",
    "(C) --> (D)\n",
    "(C) --> (G)\n",
    "(D) --> (E)\n",
    "(D) --> (F)\n",
    "(H) --> (I)\n",
    "(H) --> (J)\n",
    "(A) --> (K)\n",
    "(K) --> (L)\n",
    "(L) --> (M)\n",
    "(L) --> (N)\n",
    "(K) --> (O)\n",
    "@enduml"
   ]
  },
  {
   "cell_type": "code",
   "execution_count": null,
   "metadata": {},
   "outputs": [
    {
     "data": {
      "text/plain": [
       "False"
      ]
     },
     "execution_count": 14,
     "metadata": {},
     "output_type": "execute_result"
    }
   ],
   "source": [
    "def is_height_balanced(root):\n",
    "    if not root:\n",
    "        return 1\n",
    "    l = is_height_balanced(root.left)\n",
    "    r = is_height_balanced(root.right)\n",
    "    if not (l and r) or abs(l - r) > 1:\n",
    "        return False\n",
    "    else:\n",
    "        if abs(l - r) < 2:\n",
    "            return max(l, r) + 1\n",
    "root = binary_tree([\"A\", \"B\", \"K\", \"C\", \"H\", \"L\", \"O\", \"D\", \"G\", \"I\", \"J\", \"M\", \"N\", None, None, \"E\", \"F\"])\n",
    "root = binary_tree([3,9,20,None,None,15,7])\n",
    "root = binary_tree([1,2,2,3,3,None,None,4,4])\n",
    "bool(is_height_balanced(root))"
   ]
  },
  {
   "cell_type": "markdown",
   "metadata": {},
   "source": [
    "## Book Solution"
   ]
  },
  {
   "cell_type": "code",
   "execution_count": 12,
   "metadata": {},
   "outputs": [
    {
     "data": {
      "text/plain": [
       "True"
      ]
     },
     "execution_count": 12,
     "metadata": {},
     "output_type": "execute_result"
    }
   ],
   "source": [
    "def is_balanced_tree(root):\n",
    "    from collections import namedtuple\n",
    "    BalancedStatusWithHeight = namedtuple('BalancedStatusWithHeight', ('balanced', 'height'))\n",
    "    def check_balanced(tree):\n",
    "        if not tree:\n",
    "            return BalancedStatusWithHeight(True, -1)\n",
    "\n",
    "        left_result = check_balanced(tree.left)\n",
    "        if not left_result.balanced:\n",
    "            return BalancedStatusWithHeight(False, 0)\n",
    "        \n",
    "        right_result = check_balanced(tree.right)\n",
    "        if not right_result.balanced:\n",
    "            return BalancedStatusWithHeight(False, 0)\n",
    "\n",
    "        is_balanced = abs(left_result.height - right_result.height) <= 1\n",
    "        height = max(left_result.height, right_result.height) + 1\n",
    "        return BalancedStatusWithHeight(is_balanced, height)\n",
    "\n",
    "    return check_balanced(root).balanced\n",
    "root = binary_tree([1,2,2,3,3,None,None,4,4])\n",
    "root = binary_tree([3,9,20,None,None,15,7])\n",
    "is_balanced_tree(root)"
   ]
  },
  {
   "cell_type": "markdown",
   "metadata": {},
   "source": [
    "## Variants\n",
    "Q. Write a program that returns the size of the largest subtree that is complete\n",
    "\n",
    "Q. Define a node in a binary tree to be k-balanced if the difference in the number of nodes in its left and right subtrees is no more than k. Design an algorithm that takes as input a binary tree and positive integer k, and retums a node in the binary tree such that the node is not k-balanced, but all of its descendants are k-balanced. "
   ]
  },
  {
   "cell_type": "markdown",
   "metadata": {},
   "source": [
    "# Test if  a binary tree is symmetric"
   ]
  },
  {
   "cell_type": "code",
   "execution_count": 28,
   "metadata": {},
   "outputs": [
    {
     "name": "stdout",
     "output_type": "stream",
     "text": [
      "[BinaryTreeNode(data:2), BinaryTreeNode(data:2)]\n",
      "[BinaryTreeNode(data:3), BinaryTreeNode(data:4), BinaryTreeNode(data:4), BinaryTreeNode(data:3)]\n",
      "[None, None, None, None, None, None, None, None]\n",
      "[]\n"
     ]
    },
    {
     "data": {
      "text/plain": [
       "True"
      ]
     },
     "execution_count": 28,
     "metadata": {},
     "output_type": "execute_result"
    }
   ],
   "source": [
    "def is_tree_symmetric(root):\n",
    "    from collections import deque\n",
    "    queue = deque([root])\n",
    "    while queue:\n",
    "        level = []\n",
    "        while queue:\n",
    "            node = queue.popleft()\n",
    "            if node is not None:\n",
    "                level.extend([node.left, node.right])\n",
    "        if not all([(level[i].data if level[i] is not None else None) == (level[~i].data if level[~i] is not None else None) for i in range(len(level)//2)]):\n",
    "            return False\n",
    "        queue.extend(level)\n",
    "    return True\n",
    "root = binary_tree([1,2,2,3,4,4,3])\n",
    "is_tree_symmetric(root)"
   ]
  },
  {
   "cell_type": "code",
   "execution_count": null,
   "metadata": {},
   "outputs": [],
   "source": []
  },
  {
   "cell_type": "code",
   "execution_count": null,
   "metadata": {},
   "outputs": [],
   "source": []
  }
 ],
 "metadata": {
  "kernelspec": {
   "display_name": "Python 3 (ipykernel)",
   "language": "python",
   "name": "python3"
  },
  "language_info": {
   "codemirror_mode": {
    "name": "ipython",
    "version": 3
   },
   "file_extension": ".py",
   "mimetype": "text/x-python",
   "name": "python",
   "nbconvert_exporter": "python",
   "pygments_lexer": "ipython3",
   "version": "3.10.6"
  },
  "vscode": {
   "interpreter": {
    "hash": "916dbcbb3f70747c44a77c7bcd40155683ae19c65e1c03b4aa3499c5328201f1"
   }
  }
 },
 "nbformat": 4,
 "nbformat_minor": 4
}

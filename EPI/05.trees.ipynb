{
 "cells": [
  {
   "cell_type": "markdown",
   "metadata": {},
   "source": [
    "# Binary Trees\n",
    "- is either empty, or\n",
    "- a root node r together with a left binary tree and a right binary tree."
   ]
  },
  {
   "cell_type": "code",
   "execution_count": 1,
   "metadata": {},
   "outputs": [],
   "source": [
    "class BinaryTreeNode:\n",
    "    def __init__(self, data=None, left=None, right=None):\n",
    "        self.data = data\n",
    "        self.left = left\n",
    "        self.right = right\n",
    "    def __repr__(self):\n",
    "        return f\"BinaryTreeNode(data:{self.data})\""
   ]
  },
  {
   "cell_type": "markdown",
   "metadata": {},
   "source": [
    "### Search Path\n",
    "For every node, there exists a unique path from root to that node with each node in the sequence being a child of previous node. This sequence is known as Search Path from root to that node."
   ]
  },
  {
   "cell_type": "markdown",
   "metadata": {},
   "source": [
    "### Ancestor-Descendant\n",
    "We say a node is a ancestor of a node d, if it lies in the search path of d and d will be it's descendant.\n",
    "\n",
    "A node is a ancestor and descendant of itself."
   ]
  },
  {
   "cell_type": "markdown",
   "metadata": {},
   "source": [
    "### Depth\n",
    "depth of a node n is the number of nodes on the search path from root to n, not including n itself.\n",
    "### Height\n",
    "height of a binary tree is the maximum depth of any node in the tree.\n",
    "### Level\n",
    "all nodes at same depth are called to be at same level."
   ]
  },
  {
   "cell_type": "markdown",
   "metadata": {},
   "source": [
    "### Full Binary Tree\n",
    "binary tree in which every node other than the leaves has two children.<br>\n",
    "min-nodes: $2^{h} + 1$, for height $h$. <br>\n",
    "max-nodes: $2^{h+1} - 1$, for height $h$. <br>\n",
    "height: $\\big\\lfloor \\lg(n) \\big\\rfloor$ ,for $n$ nodes.\n",
    "\n",
    "### Perfect Binary Tree\n",
    "full binary tree in which all leaves are at same depth.<br>\n",
    "min-height = max-height = $\\lg(n+1) - 1$, for $n$ nodes.<br>\n",
    "number of nodes = $2^{h+1} - 1$ for $h$ height\n",
    "\n",
    "### Complete Binary Tree\n",
    "binary tree in which every level, except possibly the last, is completely filled.<br>\n",
    "min-nodes: $2^{h}$, for height $h$ <br>\n",
    "max-nodes: $2^{h+1} - 1$ for height $h$ <br>\n",
    "height: $\\big\\lfloor \\lg(n) \\big\\rfloor$ ,for $n$ nodes.\n",
    "\n",
    "### Skewed Binary Tree\n",
    "**Left-skewed:** A tree in which no node has a right child.<br>\n",
    "**Right-skewed:** A tree in which no node has a left child."
   ]
  },
  {
   "cell_type": "markdown",
   "metadata": {},
   "source": [
    "## Traversal\n",
    "**Preorder:** root -> left -> right <br>\n",
    "**Postorder:** left -> right -> root <br>\n",
    "**Inorder:** left -> root -> right"
   ]
  },
  {
   "cell_type": "code",
   "execution_count": 2,
   "metadata": {},
   "outputs": [],
   "source": [
    "c = BinaryTreeNode(4)\n",
    "d = BinaryTreeNode(5)\n",
    "e = BinaryTreeNode(6)\n",
    "\n",
    "a = BinaryTreeNode(2, c ,d)\n",
    "b = BinaryTreeNode(3, e)\n",
    "root = BinaryTreeNode(1, a, b)"
   ]
  },
  {
   "cell_type": "code",
   "execution_count": 3,
   "metadata": {},
   "outputs": [],
   "source": [
    "import iplantuml"
   ]
  },
  {
   "cell_type": "code",
   "execution_count": 4,
   "metadata": {},
   "outputs": [
    {
     "name": "stdout",
     "output_type": "stream",
     "text": [
      "Writing output for /home/shaker/Documents/Github/AlgoRhythms/EPI/49d20ae8-573f-41b1-b836-d0e511567065.uml to 49d20ae8-573f-41b1-b836-d0e511567065.svg\n"
     ]
    },
    {
     "data": {
      "image/svg+xml": [
       "<svg xmlns=\"http://www.w3.org/2000/svg\" xmlns:xlink=\"http://www.w3.org/1999/xlink\" contentStyleType=\"text/css\" height=\"219px\" preserveAspectRatio=\"none\" style=\"width:189px;height:219px;background:#FFFFFF;\" version=\"1.1\" viewBox=\"0 0 189 219\" width=\"189px\" zoomAndPan=\"magnify\"><defs/><g><g id=\"elem_1\"><ellipse cx=\"129.3492\" cy=\"20.5236\" fill=\"#F1F1F1\" rx=\"17.8492\" ry=\"14.5236\" style=\"stroke:#181818;stroke-width:0.5;\"/><text fill=\"#000000\" font-family=\"sans-serif\" font-size=\"14\" lengthAdjust=\"spacing\" textLength=\"9\" x=\"124.8492\" y=\"23.3703\">1</text></g><g id=\"elem_2\"><ellipse cx=\"94.2739\" cy=\"109.4192\" fill=\"#F1F1F1\" rx=\"17.2739\" ry=\"14.4192\" style=\"stroke:#181818;stroke-width:0.5;\"/><text fill=\"#000000\" font-family=\"sans-serif\" font-size=\"14\" lengthAdjust=\"spacing\" textLength=\"8\" x=\"90.2739\" y=\"112.2658\">2</text></g><g id=\"elem_3\"><ellipse cx=\"165.3492\" cy=\"109.5236\" fill=\"#F1F1F1\" rx=\"17.8492\" ry=\"14.5236\" style=\"stroke:#181818;stroke-width:0.5;\"/><text fill=\"#000000\" font-family=\"sans-serif\" font-size=\"14\" lengthAdjust=\"spacing\" textLength=\"9\" x=\"160.8492\" y=\"112.3703\">3</text></g><g id=\"elem_4\"><ellipse cx=\"23.2739\" cy=\"198.4192\" fill=\"#F1F1F1\" rx=\"17.2739\" ry=\"14.4192\" style=\"stroke:#181818;stroke-width:0.5;\"/><text fill=\"#000000\" font-family=\"sans-serif\" font-size=\"14\" lengthAdjust=\"spacing\" textLength=\"8\" x=\"19.2739\" y=\"201.2658\">4</text></g><g id=\"elem_5\"><ellipse cx=\"94.3492\" cy=\"198.5236\" fill=\"#F1F1F1\" rx=\"17.8492\" ry=\"14.5236\" style=\"stroke:#181818;stroke-width:0.5;\"/><text fill=\"#000000\" font-family=\"sans-serif\" font-size=\"14\" lengthAdjust=\"spacing\" textLength=\"9\" x=\"89.8492\" y=\"201.3703\">5</text></g><g id=\"elem_6\"><ellipse cx=\"165.3492\" cy=\"198.5236\" fill=\"#F1F1F1\" rx=\"17.8492\" ry=\"14.5236\" style=\"stroke:#181818;stroke-width:0.5;\"/><text fill=\"#000000\" font-family=\"sans-serif\" font-size=\"14\" lengthAdjust=\"spacing\" textLength=\"9\" x=\"160.8492\" y=\"201.3703\">6</text></g><!--MD5=[0ba0d8a0fd0e641c23f69743a446dfe6]\n",
       "link 1 to 2--><g id=\"link_1_2\"><path d=\"M124.184,34.713 C118.188,49.619 108.403,73.942 101.7183,90.557 \" fill=\"none\" id=\"1-to-2\" style=\"stroke:#181818;stroke-width:1.0;\"/><polygon fill=\"#181818\" points=\"99.7511,95.447,106.8224,88.5916,101.6181,90.8086,99.401,85.6044,99.7511,95.447\" style=\"stroke:#181818;stroke-width:1.0;\"/></g><!--MD5=[2d4b753efd65b00afdf467246674cbe5]\n",
       "link 1 to 3--><g id=\"link_1_3\"><path d=\"M134.968,34.713 C141.135,49.619 151.2,73.942 158.075,90.557 \" fill=\"none\" id=\"1-to-3\" style=\"stroke:#181818;stroke-width:1.0;\"/><polygon fill=\"#181818\" points=\"160.099,95.447,160.3544,85.6015,158.1875,90.8268,152.9621,88.6599,160.099,95.447\" style=\"stroke:#181818;stroke-width:1.0;\"/></g><!--MD5=[d209f2622dd5d3103b9c9b4670e2d6db]\n",
       "link 2 to 4--><g id=\"link_2_4\"><path d=\"M85.218,121.8737 C72.6739,137.2446 50.2622,164.7069 36.1753,181.9683 \" fill=\"none\" id=\"2-to-4\" style=\"stroke:#181818;stroke-width:1.0;\"/><polygon fill=\"#181818\" points=\"32.7843,186.1235,41.5737,181.6798,35.9456,182.2498,35.3757,176.6217,32.7843,186.1235\" style=\"stroke:#181818;stroke-width:1.0;\"/></g><!--MD5=[4e74f4bf4b09d37138dfb3a42c5ccc13]\n",
       "link 2 to 5--><g id=\"link_2_5\"><path d=\"M94.5,124.0938 C94.5,138.6923 94.5,162.0005 94.5,178.4293 \" fill=\"none\" id=\"2-to-5\" style=\"stroke:#181818;stroke-width:1.0;\"/><polygon fill=\"#181818\" points=\"94.5,183.7146,98.5,174.7146,94.5,178.7146,90.5,174.7146,94.5,183.7146\" style=\"stroke:#181818;stroke-width:1.0;\"/></g><!--MD5=[b2ac855d378984b70ee6a5bd13272cbd]\n",
       "link 3 to 6--><g id=\"link_3_6\"><path d=\"M165.5,124.0938 C165.5,138.6923 165.5,162.0005 165.5,178.4293 \" fill=\"none\" id=\"3-to-6\" style=\"stroke:#181818;stroke-width:1.0;\"/><polygon fill=\"#181818\" points=\"165.5,183.7146,169.5,174.7146,165.5,178.7146,161.5,174.7146,165.5,183.7146\" style=\"stroke:#181818;stroke-width:1.0;\"/></g><!--MD5=[434514cd82bbd234ece96ebe9b6ad8cd]\n",
       "@startuml\n",
       "(1) - -> (2)\n",
       "(1) - -> (3)\n",
       "(2) - -> (4)\n",
       "(2) - -> (5)\n",
       "(3) - -> (6)\n",
       "@enduml\n",
       "\n",
       "PlantUML version 1.2022.7beta11(Unknown compile time)\n",
       "(GPL source distribution)\n",
       "Java Runtime: Java(TM) SE Runtime Environment\n",
       "JVM: Java HotSpot(TM) 64-Bit Server VM\n",
       "Default Encoding: UTF-8\n",
       "Language: en\n",
       "Country: US\n",
       "--></g></svg>"
      ],
      "text/plain": [
       "<IPython.core.display.SVG object>"
      ]
     },
     "execution_count": 4,
     "metadata": {},
     "output_type": "execute_result"
    }
   ],
   "source": [
    "%%plantuml\n",
    "@startuml\n",
    "(1) --> (2)\n",
    "(1) --> (3)\n",
    "(2) --> (4)\n",
    "(2) --> (5)\n",
    "(3) --> (6)\n",
    "@enduml"
   ]
  },
  {
   "cell_type": "code",
   "execution_count": 5,
   "metadata": {},
   "outputs": [
    {
     "name": "stdout",
     "output_type": "stream",
     "text": [
      "4 2 5 1 6 3 "
     ]
    }
   ],
   "source": [
    "def inorder_tree_traversal(root):\n",
    "    if root:\n",
    "        inorder_tree_traversal(root.left)\n",
    "        print(root.data, end=\" \")\n",
    "        inorder_tree_traversal(root.right)\n",
    "inorder_tree_traversal(root)"
   ]
  },
  {
   "cell_type": "code",
   "execution_count": 6,
   "metadata": {},
   "outputs": [
    {
     "name": "stdout",
     "output_type": "stream",
     "text": [
      "4 5 2 6 3 1 "
     ]
    }
   ],
   "source": [
    "def postorder_tree_traversal(root):\n",
    "    if root:\n",
    "        postorder_tree_traversal(root.left)\n",
    "        postorder_tree_traversal(root.right)\n",
    "        print(root.data, end=\" \")\n",
    "postorder_tree_traversal(root)"
   ]
  },
  {
   "cell_type": "code",
   "execution_count": 7,
   "metadata": {},
   "outputs": [
    {
     "name": "stdout",
     "output_type": "stream",
     "text": [
      "1 2 4 5 3 6 "
     ]
    }
   ],
   "source": [
    "def preorder_tree_traversal(root):\n",
    "    if root:\n",
    "        print(root.data, end=\" \")\n",
    "        preorder_tree_traversal(root.left)\n",
    "        preorder_tree_traversal(root.right)\n",
    "preorder_tree_traversal(root)"
   ]
  },
  {
   "cell_type": "code",
   "execution_count": 8,
   "metadata": {},
   "outputs": [
    {
     "data": {
      "text/plain": [
       "2"
      ]
     },
     "execution_count": 8,
     "metadata": {},
     "output_type": "execute_result"
    }
   ],
   "source": [
    "def height(root):\n",
    "    if not root:\n",
    "        return -1\n",
    "    ldepth = height(root.left)\n",
    "    rdepth = height(root.right)\n",
    "    return max(ldepth, rdepth) + 1\n",
    "height(root)"
   ]
  },
  {
   "cell_type": "markdown",
   "metadata": {},
   "source": [
    "## Binary Tree from list"
   ]
  },
  {
   "cell_type": "code",
   "execution_count": 9,
   "metadata": {},
   "outputs": [],
   "source": [
    "def binary_tree(nodes: list) -> BinaryTreeNode:\n",
    "    if not nodes: return None\n",
    "    from collections import deque\n",
    "    queue = deque()\n",
    "    root = BinaryTreeNode(nodes[0])\n",
    "    queue.append(root)\n",
    "    for i in range(len(nodes) // 2):\n",
    "        node = queue.popleft()\n",
    "        while not node:\n",
    "            node = queue.popleft()\n",
    "            if not queue: return root\n",
    "        node.left = None if nodes[2*i+1] is None else BinaryTreeNode(nodes[2*i+1])\n",
    "        node.right = None if nodes[2*i+2] is None else BinaryTreeNode(nodes[2*i+2])\n",
    "        queue.append(node.left)\n",
    "        queue.append(node.right)\n",
    "    return root"
   ]
  },
  {
   "cell_type": "markdown",
   "metadata": {},
   "source": [
    "## Test If a binary tree is height-balanced"
   ]
  },
  {
   "cell_type": "code",
   "execution_count": 10,
   "metadata": {},
   "outputs": [
    {
     "name": "stdout",
     "output_type": "stream",
     "text": [
      "Writing output for /home/shaker/Documents/Github/AlgoRhythms/EPI/ef390746-4154-45c4-8942-8617cf713841.uml to ef390746-4154-45c4-8942-8617cf713841.svg\n"
     ]
    },
    {
     "data": {
      "image/svg+xml": [
       "<svg xmlns=\"http://www.w3.org/2000/svg\" xmlns:xlink=\"http://www.w3.org/1999/xlink\" contentStyleType=\"text/css\" height=\"397px\" preserveAspectRatio=\"none\" style=\"width:440px;height:397px;background:#FFFFFF;\" version=\"1.1\" viewBox=\"0 0 440 397\" width=\"440px\" zoomAndPan=\"magnify\"><defs/><g><g id=\"elem_A\"><ellipse cx=\"290.0563\" cy=\"20.5236\" fill=\"#F1F1F1\" rx=\"18.5563\" ry=\"14.5236\" style=\"stroke:#181818;stroke-width:0.5;\"/><text fill=\"#000000\" font-family=\"sans-serif\" font-size=\"14\" lengthAdjust=\"spacing\" textLength=\"10\" x=\"285.0563\" y=\"23.3703\">A</text></g><g id=\"elem_B\"><ellipse cx=\"238.0563\" cy=\"109.5236\" fill=\"#F1F1F1\" rx=\"18.5563\" ry=\"14.5236\" style=\"stroke:#181818;stroke-width:0.5;\"/><text fill=\"#000000\" font-family=\"sans-serif\" font-size=\"14\" lengthAdjust=\"spacing\" textLength=\"10\" x=\"233.0563\" y=\"112.3703\">B</text></g><g id=\"elem_C\"><ellipse cx=\"133.0563\" cy=\"198.5236\" fill=\"#F1F1F1\" rx=\"18.5563\" ry=\"14.5236\" style=\"stroke:#181818;stroke-width:0.5;\"/><text fill=\"#000000\" font-family=\"sans-serif\" font-size=\"14\" lengthAdjust=\"spacing\" textLength=\"10\" x=\"128.0563\" y=\"201.3703\">C</text></g><g id=\"elem_H\"><ellipse cx=\"238.0563\" cy=\"198.5236\" fill=\"#F1F1F1\" rx=\"18.5563\" ry=\"14.5236\" style=\"stroke:#181818;stroke-width:0.5;\"/><text fill=\"#000000\" font-family=\"sans-serif\" font-size=\"14\" lengthAdjust=\"spacing\" textLength=\"10\" x=\"233.0563\" y=\"201.3703\">H</text></g><g id=\"elem_D\"><ellipse cx=\"58.7635\" cy=\"287.5236\" fill=\"#F1F1F1\" rx=\"19.2635\" ry=\"14.5236\" style=\"stroke:#181818;stroke-width:0.5;\"/><text fill=\"#000000\" font-family=\"sans-serif\" font-size=\"14\" lengthAdjust=\"spacing\" textLength=\"11\" x=\"53.2635\" y=\"290.3703\">D</text></g><g id=\"elem_G\"><ellipse cx=\"132.7635\" cy=\"287.5236\" fill=\"#F1F1F1\" rx=\"19.2635\" ry=\"14.5236\" style=\"stroke:#181818;stroke-width:0.5;\"/><text fill=\"#000000\" font-family=\"sans-serif\" font-size=\"14\" lengthAdjust=\"spacing\" textLength=\"11\" x=\"127.2635\" y=\"290.3703\">G</text></g><g id=\"elem_E\"><ellipse cx=\"23.8492\" cy=\"376.5236\" fill=\"#F1F1F1\" rx=\"17.8492\" ry=\"14.5236\" style=\"stroke:#181818;stroke-width:0.5;\"/><text fill=\"#000000\" font-family=\"sans-serif\" font-size=\"14\" lengthAdjust=\"spacing\" textLength=\"9\" x=\"19.3492\" y=\"379.3703\">E</text></g><g id=\"elem_F\"><ellipse cx=\"94.7739\" cy=\"376.4192\" fill=\"#F1F1F1\" rx=\"17.2739\" ry=\"14.4192\" style=\"stroke:#181818;stroke-width:0.5;\"/><text fill=\"#000000\" font-family=\"sans-serif\" font-size=\"14\" lengthAdjust=\"spacing\" textLength=\"8\" x=\"90.7739\" y=\"379.2658\">F</text></g><g id=\"elem_I\"><ellipse cx=\"203.9517\" cy=\"287.3613\" fill=\"#F1F1F1\" rx=\"15.9517\" ry=\"13.3613\" style=\"stroke:#181818;stroke-width:0.5;\"/><text fill=\"#000000\" font-family=\"sans-serif\" font-size=\"14\" lengthAdjust=\"spacing\" textLength=\"4\" x=\"201.9517\" y=\"290.208\">I</text></g><g id=\"elem_J\"><ellipse cx=\"270.9517\" cy=\"287.3613\" fill=\"#F1F1F1\" rx=\"15.9517\" ry=\"13.3613\" style=\"stroke:#181818;stroke-width:0.5;\"/><text fill=\"#000000\" font-family=\"sans-serif\" font-size=\"14\" lengthAdjust=\"spacing\" textLength=\"4\" x=\"268.9517\" y=\"290.208\">J</text></g><g id=\"elem_K\"><ellipse cx=\"342.0563\" cy=\"109.5236\" fill=\"#F1F1F1\" rx=\"18.5563\" ry=\"14.5236\" style=\"stroke:#181818;stroke-width:0.5;\"/><text fill=\"#000000\" font-family=\"sans-serif\" font-size=\"14\" lengthAdjust=\"spacing\" textLength=\"10\" x=\"337.0563\" y=\"112.3703\">K</text></g><g id=\"elem_L\"><ellipse cx=\"341.7739\" cy=\"198.4192\" fill=\"#F1F1F1\" rx=\"17.2739\" ry=\"14.4192\" style=\"stroke:#181818;stroke-width:0.5;\"/><text fill=\"#000000\" font-family=\"sans-serif\" font-size=\"14\" lengthAdjust=\"spacing\" textLength=\"8\" x=\"337.7739\" y=\"201.2658\">L</text></g><g id=\"elem_M\"><ellipse cx=\"341.9706\" cy=\"287.5236\" fill=\"#F1F1F1\" rx=\"19.9706\" ry=\"14.5236\" style=\"stroke:#181818;stroke-width:0.5;\"/><text fill=\"#000000\" font-family=\"sans-serif\" font-size=\"14\" lengthAdjust=\"spacing\" textLength=\"12\" x=\"335.9706\" y=\"290.3703\">M</text></g><g id=\"elem_N\"><ellipse cx=\"416.0563\" cy=\"287.5236\" fill=\"#F1F1F1\" rx=\"18.5563\" ry=\"14.5236\" style=\"stroke:#181818;stroke-width:0.5;\"/><text fill=\"#000000\" font-family=\"sans-serif\" font-size=\"14\" lengthAdjust=\"spacing\" textLength=\"10\" x=\"411.0563\" y=\"290.3703\">N</text></g><g id=\"elem_O\"><ellipse cx=\"413.7635\" cy=\"198.5236\" fill=\"#F1F1F1\" rx=\"19.2635\" ry=\"14.5236\" style=\"stroke:#181818;stroke-width:0.5;\"/><text fill=\"#000000\" font-family=\"sans-serif\" font-size=\"14\" lengthAdjust=\"spacing\" textLength=\"11\" x=\"408.2635\" y=\"201.3703\">O</text></g><!--MD5=[5e2eec62a50b26b6b0db6c12e4ee289c]\n",
       "link A to B--><g id=\"link_A_B\"><path d=\"M282.55,33.965 C273.514,49.082 258.242,74.634 248.139,91.536 \" fill=\"none\" id=\"A-to-B\" style=\"stroke:#181818;stroke-width:1.0;\"/><polygon fill=\"#181818\" points=\"245.437,96.058,253.4885,90.3859,248.0028,91.7665,246.6222,86.2807,245.437,96.058\" style=\"stroke:#181818;stroke-width:1.0;\"/></g><!--MD5=[cd25d8247324207f828a4db9f58ed69d]\n",
       "link B to C--><g id=\"link_B_C\"><path d=\"M225.543,120.822 C206.496,136.604 170.136,166.73 149.108,184.153 \" fill=\"none\" id=\"B-to-C\" style=\"stroke:#181818;stroke-width:1.0;\"/><polygon fill=\"#181818\" points=\"145.117,187.46,154.5993,184.7979,148.9671,184.2699,149.4951,178.6378,145.117,187.46\" style=\"stroke:#181818;stroke-width:1.0;\"/></g><!--MD5=[9716e23ad6e0799522a36e7961875af1]\n",
       "link B to H--><g id=\"link_B_H\"><path d=\"M238,124.094 C238,138.692 238,162.001 238,178.429 \" fill=\"none\" id=\"B-to-H\" style=\"stroke:#181818;stroke-width:1.0;\"/><polygon fill=\"#181818\" points=\"238,183.715,242,174.715,238,178.715,234,174.715,238,183.715\" style=\"stroke:#181818;stroke-width:1.0;\"/></g><!--MD5=[95ca888c4bb7ed1df160562281720a5c]\n",
       "link C to D--><g id=\"link_C_D\"><path d=\"M123.326,210.874 C110.324,226.16 87.1507,253.404 72.455,270.681 \" fill=\"none\" id=\"C-to-D\" style=\"stroke:#181818;stroke-width:1.0;\"/><polygon fill=\"#181818\" points=\"68.9128,274.846,77.7912,270.5828,72.1526,271.0376,71.6978,265.3991,68.9128,274.846\" style=\"stroke:#181818;stroke-width:1.0;\"/></g><!--MD5=[80a3efbc162ec9a29a5e48a2a8b8bfdd]\n",
       "link C to G--><g id=\"link_C_G\"><path d=\"M133,213.094 C133,227.692 133,251.001 133,267.429 \" fill=\"none\" id=\"C-to-G\" style=\"stroke:#181818;stroke-width:1.0;\"/><polygon fill=\"#181818\" points=\"133,272.715,137,263.715,133,267.715,129,263.715,133,272.715\" style=\"stroke:#181818;stroke-width:1.0;\"/></g><!--MD5=[9ee2c6850258a89d754920901add40c0]\n",
       "link D to E--><g id=\"link_D_E\"><path d=\"M53.6843,301.7134 C47.6879,316.6187 37.9026,340.942 31.2183,357.5573 \" fill=\"none\" id=\"D-to-E\" style=\"stroke:#181818;stroke-width:1.0;\"/><polygon fill=\"#181818\" points=\"29.2511,362.4473,36.3211,355.5906,31.1172,357.8086,28.8992,352.6047,29.2511,362.4473\" style=\"stroke:#181818;stroke-width:1.0;\"/></g><!--MD5=[b5b953319cf24ea105ede322ce2bfc63]\n",
       "link D to F--><g id=\"link_D_F\"><path d=\"M64.4676,301.7134 C70.6353,316.6187 80.7002,340.942 87.5754,357.5573 \" fill=\"none\" id=\"D-to-F\" style=\"stroke:#181818;stroke-width:1.0;\"/><polygon fill=\"#181818\" points=\"89.5989,362.4473,89.8539,352.6017,87.6872,357.8272,82.4618,355.6605,89.5989,362.4473\" style=\"stroke:#181818;stroke-width:1.0;\"/></g><!--MD5=[7d7dacdd86ed224e8851a13334be42fd]\n",
       "link H to I--><g id=\"link_H_I\"><path d=\"M232.836,212.713 C226.876,227.963 217.064,253.072 210.567,269.697 \" fill=\"none\" id=\"H-to-I\" style=\"stroke:#181818;stroke-width:1.0;\"/><polygon fill=\"#181818\" points=\"208.665,274.564,215.6665,267.6373,210.4849,269.907,208.2153,264.7254,208.665,274.564\" style=\"stroke:#181818;stroke-width:1.0;\"/></g><!--MD5=[ba35221a6f08d391265bf52b96dbddba]\n",
       "link H to J--><g id=\"link_H_J\"><path d=\"M243.012,212.713 C248.764,227.877 258.213,252.788 264.519,269.415 \" fill=\"none\" id=\"H-to-J\" style=\"stroke:#181818;stroke-width:1.0;\"/><polygon fill=\"#181818\" points=\"266.368,274.288,266.9174,264.4545,264.5953,269.6128,259.437,267.2907,266.368,274.288\" style=\"stroke:#181818;stroke-width:1.0;\"/></g><!--MD5=[2b82573237f2c331154edf96a45fa0df]\n",
       "link A to K--><g id=\"link_A_K\"><path d=\"M297.45,33.965 C306.486,49.082 321.758,74.634 331.861,91.536 \" fill=\"none\" id=\"A-to-K\" style=\"stroke:#181818;stroke-width:1.0;\"/><polygon fill=\"#181818\" points=\"334.563,96.058,333.3778,86.2807,331.9972,91.7665,326.5115,90.3859,334.563,96.058\" style=\"stroke:#181818;stroke-width:1.0;\"/></g><!--MD5=[eada28b63b3843c3c30fc61fede252c5]\n",
       "link K to L--><g id=\"link_K_L\"><path d=\"M342,124.094 C342,138.692 342,162.001 342,178.429 \" fill=\"none\" id=\"K-to-L\" style=\"stroke:#181818;stroke-width:1.0;\"/><polygon fill=\"#181818\" points=\"342,183.715,346,174.715,342,178.715,338,174.715,342,183.715\" style=\"stroke:#181818;stroke-width:1.0;\"/></g><!--MD5=[680657d857fd7981444d7c9e9e58a27c]\n",
       "link L to M--><g id=\"link_L_M\"><path d=\"M342,213.094 C342,227.692 342,251.001 342,267.429 \" fill=\"none\" id=\"L-to-M\" style=\"stroke:#181818;stroke-width:1.0;\"/><polygon fill=\"#181818\" points=\"342,272.715,346,263.715,342,267.715,338,263.715,342,272.715\" style=\"stroke:#181818;stroke-width:1.0;\"/></g><!--MD5=[4ec426a3d3b67f6a5f64ed178cebc58c]\n",
       "link L to N--><g id=\"link_L_N\"><path d=\"M351.674,210.874 C364.748,226.245 388.107,253.707 402.789,270.968 \" fill=\"none\" id=\"L-to-N\" style=\"stroke:#181818;stroke-width:1.0;\"/><polygon fill=\"#181818\" points=\"406.323,275.123,403.538,265.6761,403.0832,271.3146,397.4446,270.8598,406.323,275.123\" style=\"stroke:#181818;stroke-width:1.0;\"/></g><!--MD5=[7de1d7f7d981e034e1170e318286d489]\n",
       "link K to O--><g id=\"link_K_O\"><path d=\"M351.71,122.233 C364.378,137.541 386.596,164.387 400.789,181.537 \" fill=\"none\" id=\"K-to-O\" style=\"stroke:#181818;stroke-width:1.0;\"/><polygon fill=\"#181818\" points=\"404.214,185.675,401.5557,176.1917,401.0255,181.8236,395.3935,181.2933,404.214,185.675\" style=\"stroke:#181818;stroke-width:1.0;\"/></g><!--MD5=[680f1aeb2d553fc850e26fd16e55d452]\n",
       "@startuml\n",
       "(A) - -> (B)\n",
       "(B) - -> (C)\n",
       "(B) - -> (H)\n",
       "(C) - -> (D)\n",
       "(C) - -> (G)\n",
       "(D) - -> (E)\n",
       "(D) - -> (F)\n",
       "(H) - -> (I)\n",
       "(H) - -> (J)\n",
       "(A) - -> (K)\n",
       "(K) - -> (L)\n",
       "(L) - -> (M)\n",
       "(L) - -> (N)\n",
       "(K) - -> (O)\n",
       "@enduml\n",
       "\n",
       "PlantUML version 1.2022.7beta11(Unknown compile time)\n",
       "(GPL source distribution)\n",
       "Java Runtime: Java(TM) SE Runtime Environment\n",
       "JVM: Java HotSpot(TM) 64-Bit Server VM\n",
       "Default Encoding: UTF-8\n",
       "Language: en\n",
       "Country: US\n",
       "--></g></svg>"
      ],
      "text/plain": [
       "<IPython.core.display.SVG object>"
      ]
     },
     "execution_count": 10,
     "metadata": {},
     "output_type": "execute_result"
    }
   ],
   "source": [
    "%%plantuml\n",
    "@startuml\n",
    "(A) --> (B)\n",
    "(B) --> (C)\n",
    "(B) --> (H)\n",
    "(C) --> (D)\n",
    "(C) --> (G)\n",
    "(D) --> (E)\n",
    "(D) --> (F)\n",
    "(H) --> (I)\n",
    "(H) --> (J)\n",
    "(A) --> (K)\n",
    "(K) --> (L)\n",
    "(L) --> (M)\n",
    "(L) --> (N)\n",
    "(K) --> (O)\n",
    "@enduml"
   ]
  },
  {
   "cell_type": "code",
   "execution_count": 11,
   "metadata": {},
   "outputs": [
    {
     "data": {
      "text/plain": [
       "False"
      ]
     },
     "execution_count": 11,
     "metadata": {},
     "output_type": "execute_result"
    }
   ],
   "source": [
    "def is_height_balanced(root):\n",
    "    if not root:\n",
    "        return 1\n",
    "    l = is_height_balanced(root.left)\n",
    "    r = is_height_balanced(root.right)\n",
    "    if not (l and r) or abs(l - r) > 1:\n",
    "        return False\n",
    "    else:\n",
    "        if abs(l - r) < 2:\n",
    "            return max(l, r) + 1\n",
    "root = binary_tree([\"A\", \"B\", \"K\", \"C\", \"H\", \"L\", \"O\", \"D\", \"G\", \"I\", \"J\", \"M\", \"N\", None, None, \"E\", \"F\"])\n",
    "root = binary_tree([3,9,20,None,None,15,7])\n",
    "root = binary_tree([1,2,2,3,3,None,None,4,4])\n",
    "bool(is_height_balanced(root))"
   ]
  },
  {
   "cell_type": "markdown",
   "metadata": {},
   "source": [
    "## Book Solution"
   ]
  },
  {
   "cell_type": "code",
   "execution_count": 12,
   "metadata": {},
   "outputs": [
    {
     "data": {
      "text/plain": [
       "True"
      ]
     },
     "execution_count": 12,
     "metadata": {},
     "output_type": "execute_result"
    }
   ],
   "source": [
    "def is_balanced_tree(root):\n",
    "    from collections import namedtuple\n",
    "    BalancedStatusWithHeight = namedtuple('BalancedStatusWithHeight', ('balanced', 'height'))\n",
    "    def check_balanced(tree):\n",
    "        if not tree:\n",
    "            return BalancedStatusWithHeight(True, -1)\n",
    "\n",
    "        left_result = check_balanced(tree.left)\n",
    "        if not left_result.balanced:\n",
    "            return BalancedStatusWithHeight(False, 0)\n",
    "        \n",
    "        right_result = check_balanced(tree.right)\n",
    "        if not right_result.balanced:\n",
    "            return BalancedStatusWithHeight(False, 0)\n",
    "\n",
    "        is_balanced = abs(left_result.height - right_result.height) <= 1\n",
    "        height = max(left_result.height, right_result.height) + 1\n",
    "        return BalancedStatusWithHeight(is_balanced, height)\n",
    "\n",
    "    return check_balanced(root).balanced\n",
    "root = binary_tree([1,2,2,3,3,None,None,4,4])\n",
    "root = binary_tree([3,9,20,None,None,15,7])\n",
    "is_balanced_tree(root)"
   ]
  },
  {
   "cell_type": "markdown",
   "metadata": {},
   "source": [
    "## Variants\n",
    "Q. Write a program that returns the size of the largest subtree that is complete\n",
    "\n",
    "Q. Define a node in a binary tree to be k-balanced if the difference in the number of nodes in its left and right subtrees is no more than k. Design an algorithm that takes as input a binary tree and positive integer k, and retums a node in the binary tree such that the node is not k-balanced, but all of its descendants are k-balanced. "
   ]
  },
  {
   "cell_type": "markdown",
   "metadata": {},
   "source": [
    "# Test if  a binary tree is symmetric"
   ]
  },
  {
   "cell_type": "markdown",
   "metadata": {},
   "source": [
    "## My Try with Py\n",
    "In this approach I am checking each level one by one if it is palindromic or not.\n",
    "I am storing every level in a list and then checking if it is a palimdrome. If this runs all the way then tree is symmetric else not symmetric."
   ]
  },
  {
   "cell_type": "code",
   "execution_count": 13,
   "metadata": {},
   "outputs": [
    {
     "data": {
      "text/plain": [
       "True"
      ]
     },
     "execution_count": 13,
     "metadata": {},
     "output_type": "execute_result"
    }
   ],
   "source": [
    "def is_tree_symmetric(root):\n",
    "    from collections import deque\n",
    "    queue = deque([root])\n",
    "    while queue:\n",
    "        level = []\n",
    "        while queue:\n",
    "            node = queue.popleft()\n",
    "            if node is not None:\n",
    "                level.extend([node.left, node.right])\n",
    "        if not all([(level[i].data if level[i] else None) == (level[~i].data if level[~i] else None) for i in range(len(level)//2)]):\n",
    "            return False\n",
    "        queue.extend(level)\n",
    "    return True\n",
    "root = binary_tree([1,2,2,3,4,4,3])\n",
    "is_tree_symmetric(root)"
   ]
  },
  {
   "cell_type": "markdown",
   "metadata": {},
   "source": [
    "## Better Approach\n",
    "We are comparing the left and right of all subtrees and if they are equal then inner function will return true or else false."
   ]
  },
  {
   "cell_type": "code",
   "execution_count": 14,
   "metadata": {},
   "outputs": [
    {
     "data": {
      "text/plain": [
       "True"
      ]
     },
     "execution_count": 14,
     "metadata": {},
     "output_type": "execute_result"
    }
   ],
   "source": [
    "def is_tree_symmetric(root):\n",
    "    def check_symmetric(subtree_0, subtree_1):\n",
    "        if not subtree_0 and not subtree_1:\n",
    "            return True\n",
    "        elif subtree_0 and subtree_1:\n",
    "            return (\n",
    "                subtree_0.data == subtree_1.data\n",
    "                and check_symmetric(subtree_0.left, subtree_1.right)\n",
    "                and check_symmetric(subtree_0.right, subtree_1.left)\n",
    "            )\n",
    "        return False\n",
    "    return not root or check_symmetric(root.left, root.right)\n",
    "root = binary_tree([1,2,2,3,4,4,3])\n",
    "is_tree_symmetric(root)"
   ]
  },
  {
   "cell_type": "markdown",
   "metadata": {},
   "source": [
    "# Compute the lowest common ancestor in a binary tree"
   ]
  },
  {
   "cell_type": "code",
   "execution_count": 15,
   "metadata": {},
   "outputs": [
    {
     "name": "stdout",
     "output_type": "stream",
     "text": [
      "1 2 4 5 8 9 3 6 7 "
     ]
    }
   ],
   "source": [
    "preorder_tree_traversal(binary_tree([1,2,3,4,5,6,7,None,None,8,9]))"
   ]
  },
  {
   "cell_type": "code",
   "execution_count": 16,
   "metadata": {},
   "outputs": [
    {
     "data": {
      "text/plain": [
       "BinaryTreeNode(data:3)"
      ]
     },
     "execution_count": 16,
     "metadata": {},
     "output_type": "execute_result"
    }
   ],
   "source": [
    "def lca(root, p, q):\n",
    "    #from collections import namedtuple\n",
    "    #status = namedtuple(\"status\", (\"flag\", \"final\", \"min_depth\", \"ca\"))\n",
    "    class status:\n",
    "        def __init__(self, flag, final, min_depth, ca):\n",
    "            self.flag = flag\n",
    "            self.final = final \n",
    "            self.min_depth = min_depth\n",
    "            self.ca = ca\n",
    "    Status = status(0, None, float(\"inf\"), None)\n",
    "\n",
    "    def dfs(root, depth=0):\n",
    "        depth += 1\n",
    "        if not root: return None\n",
    "        if root.data == p or root.data == q:\n",
    "            if not Status.flag:\n",
    "                Status.min_depth = depth\n",
    "                Status.flag = 1\n",
    "            else:\n",
    "                Status.final = Status.ca\n",
    "\n",
    "        dfs(root.left, depth)\n",
    "        if Status.min_depth > depth:\n",
    "            Status.min_depth = depth\n",
    "            Status.ca = root\n",
    "        \n",
    "        dfs(root.right, depth)\n",
    "        if Status.min_depth > depth:\n",
    "            Status.min_depth = depth\n",
    "            Status.ca = root\n",
    "\n",
    "    dfs(root)\n",
    "    return Status.final\n",
    "\n",
    "root = binary_tree([1,2,3,4,5,6,7,None,None,8,9])\n",
    "root = binary_tree([3,5,1,6,2,0,8,None,None,7,4])\n",
    "lca(root,5,1)"
   ]
  },
  {
   "cell_type": "code",
   "execution_count": 17,
   "metadata": {},
   "outputs": [],
   "source": [
    "def lca(tree, node0, node1):\n",
    "    from collections import namedtuple\n",
    "    Status = namedtuple(\"Status\", (\"num_nodes\", \"ancestor\"))\n",
    "    def lca_helper(tree, node0, node1):\n",
    "        if not tree:\n",
    "            return Status(0, None)\n",
    "        left = lca_helper(tree.left, node0, node1)\n",
    "        if left.num_nodes == 2:\n",
    "            return left\n",
    "        right = lca_helper(tree.right, node0, node1)\n",
    "        if right.num_nodes == 2:\n",
    "            return right\n",
    "        num_nodes = (\n",
    "            left.num_nodes\n",
    "            + right.num_nodes\n",
    "            + int(tree is node0)\n",
    "            + int(tree is node1)\n",
    "        )\n",
    "        return Status(num_nodes, tree if num_nodes == 2 else None)\n",
    "    return lca_helper(tree, node0, node1).ancestor\n",
    "\n",
    "root = binary_tree([1,2,3,4,5,6,7,None,None,8,9])\n",
    "root = binary_tree([3,5,1,6,2,0,8,None,None,7,4])\n",
    "lca(root, root.left.left.left, root.left.right)"
   ]
  },
  {
   "cell_type": "markdown",
   "metadata": {},
   "source": [
    "# Sum The root-to-leaf paths in a binary tree\n",
    "Consider a binary tree in which each node contains a binary digit. A root to leaf path can be associated with a binary number - the MSB at root. Find sum of binary numbers represented by all root-to-leaf paths"
   ]
  },
  {
   "cell_type": "code",
   "execution_count": 18,
   "metadata": {},
   "outputs": [
    {
     "data": {
      "text/plain": [
       "100"
      ]
     },
     "execution_count": 18,
     "metadata": {},
     "output_type": "execute_result"
    }
   ],
   "source": [
    "def root_to_leaf_sum(tree, total=0):\n",
    "    if not tree:\n",
    "        return 0\n",
    "    \n",
    "    curr_total = total*2 + tree.data\n",
    "    if not tree.left and not tree.right:\n",
    "        return curr_total\n",
    "    \n",
    "    return (\n",
    "        root_to_leaf_sum(tree.left, curr_total)\n",
    "        + root_to_leaf_sum(tree.right, curr_total)\n",
    "    )\n",
    "\n",
    "root = binary_tree([1,0,1,0,1,0,0,0,1,None,1,None,0,None,0,None,None,None,None,0,None,1,0,None,None])\n",
    "root_to_leaf_sum(root)"
   ]
  },
  {
   "cell_type": "markdown",
   "metadata": {},
   "source": [
    "# Root to leaf path with specified sum"
   ]
  },
  {
   "cell_type": "code",
   "execution_count": 19,
   "metadata": {},
   "outputs": [
    {
     "data": {
      "text/plain": [
       "True"
      ]
     },
     "execution_count": 19,
     "metadata": {},
     "output_type": "execute_result"
    }
   ],
   "source": [
    "def path_root_to_leaf_sum(tree, sm, total=0):\n",
    "    if not tree:\n",
    "        return False\n",
    "    \n",
    "    curr_total = total*2 + tree.data\n",
    "    if not tree.left and not tree.right:\n",
    "        return sm == curr_total\n",
    "    \n",
    "    return (\n",
    "        path_root_to_leaf_sum(tree.left, sm, curr_total)\n",
    "        or path_root_to_leaf_sum(tree.right, sm, curr_total)\n",
    "    )\n",
    "\n",
    "root = binary_tree([1,0,1,0,1,0,0,0,1,None,1,None,0,None,0,None,None,None,None,0,None,1,0,None,None])\n",
    "path_root_to_leaf_sum(root, 25)"
   ]
  },
  {
   "cell_type": "markdown",
   "metadata": {},
   "source": [
    "# Preorder traversal without recursion"
   ]
  },
  {
   "cell_type": "code",
   "execution_count": 20,
   "metadata": {},
   "outputs": [
    {
     "data": {
      "text/plain": [
       "['A', 'B', 'D', 'I', 'E', 'C', 'F']"
      ]
     },
     "execution_count": 20,
     "metadata": {},
     "output_type": "execute_result"
    }
   ],
   "source": [
    "def preorder_traversal(tree):\n",
    "    stack, res = [tree], []\n",
    "    while stack:\n",
    "        curr = stack.pop()\n",
    "        if curr:\n",
    "            res.append(curr.data)\n",
    "            stack += [curr.right, curr.left]\n",
    "    return res\n",
    "tree = binary_tree([\"A\",\"B\",\"C\",\"D\",\"E\",\"F\",None,None,\"I\"])\n",
    "preorder_traversal(tree)"
   ]
  },
  {
   "cell_type": "markdown",
   "metadata": {},
   "source": [
    "# Inorder Traversal without recursion"
   ]
  },
  {
   "cell_type": "code",
   "execution_count": 21,
   "metadata": {},
   "outputs": [
    {
     "data": {
      "text/plain": [
       "[BinaryTreeNode(data:E),\n",
       " BinaryTreeNode(data:B),\n",
       " BinaryTreeNode(data:F),\n",
       " BinaryTreeNode(data:A),\n",
       " BinaryTreeNode(data:D)]"
      ]
     },
     "execution_count": 21,
     "metadata": {},
     "output_type": "execute_result"
    }
   ],
   "source": [
    "def inorder_traversal(tree):\n",
    "    def goto_left(tree, stack):\n",
    "        while tree:\n",
    "            stack.append(tree)\n",
    "            tree = tree.left\n",
    "        return tree\n",
    "    stack = []\n",
    "    goto_left(tree, stack)\n",
    "    res = []\n",
    "    while stack:\n",
    "        node = stack.pop()\n",
    "        res.append(node)\n",
    "        if node.right: \n",
    "            node = node.right\n",
    "            goto_left(node, stack)\n",
    "    return res\n",
    "tree = binary_tree([\"A\",\"B\",\"D\",\"E\",\"F\"])\n",
    "inorder_traversal(tree)"
   ]
  },
  {
   "cell_type": "code",
   "execution_count": 22,
   "metadata": {},
   "outputs": [
    {
     "data": {
      "text/plain": [
       "[BinaryTreeNode(data:E),\n",
       " BinaryTreeNode(data:B),\n",
       " BinaryTreeNode(data:F),\n",
       " BinaryTreeNode(data:A),\n",
       " BinaryTreeNode(data:D)]"
      ]
     },
     "execution_count": 22,
     "metadata": {},
     "output_type": "execute_result"
    }
   ],
   "source": [
    "#cleaner version\n",
    "def inorder_traversal(tree):\n",
    "    stack, result = [], []\n",
    "    while stack or tree:\n",
    "        if tree:\n",
    "            stack.append(tree)\n",
    "            tree = tree.left\n",
    "        else:\n",
    "            tree = stack.pop()\n",
    "            result.append(tree)\n",
    "            tree = tree.right\n",
    "    return result\n",
    "inorder_traversal(tree)"
   ]
  },
  {
   "cell_type": "markdown",
   "metadata": {},
   "source": [
    "# PostOrder Traversal without recursion"
   ]
  },
  {
   "cell_type": "code",
   "execution_count": 23,
   "metadata": {},
   "outputs": [],
   "source": [
    "def postorder_without_recursion(tree):\n",
    "    stack, result = [tree], []"
   ]
  },
  {
   "cell_type": "markdown",
   "metadata": {},
   "source": [
    "# kth node in inorder traversal"
   ]
  },
  {
   "cell_type": "code",
   "execution_count": 24,
   "metadata": {},
   "outputs": [],
   "source": [
    "def kth_node_inorder(tree, k):\n",
    "    \"\"\"We can basically use this as BST if we have information about how many nodes are to the left stored in our node as `size`\"\"\"\n",
    "    while tree:\n",
    "        curr = tree.left.size + 1\n",
    "        if curr > k:\n",
    "            tree = tree.left\n",
    "        elif curr < k:\n",
    "            tree = tree.right\n",
    "        else:\n",
    "            return tree\n",
    "    return None"
   ]
  },
  {
   "cell_type": "markdown",
   "metadata": {},
   "source": [
    "# Compute the successor"
   ]
  },
  {
   "cell_type": "code",
   "execution_count": 25,
   "metadata": {},
   "outputs": [
    {
     "name": "stdout",
     "output_type": "stream",
     "text": [
      "successor of BinaryTreeNode(data:2) is BinaryTreeNode(data:3)\n"
     ]
    }
   ],
   "source": [
    "def successor(node):\n",
    "    if node.right:\n",
    "        node = node.right\n",
    "        while node.left:\n",
    "            node = node.left\n",
    "        return node\n",
    "    while node.parent and node is node.parent.right:\n",
    "        node = node.parent\n",
    "    return node.parent\n",
    "tree = binary_tree([5,2,7,1,4,6,8,None,None,3,None])\n",
    "print(f\"successor of {tree.left} is {successor(tree.left)}\")"
   ]
  },
  {
   "cell_type": "markdown",
   "metadata": {},
   "source": [
    "# Inorder Traversal with O(1) Space (using parent field)"
   ]
  },
  {
   "cell_type": "code",
   "execution_count": 26,
   "metadata": {},
   "outputs": [],
   "source": [
    "def inorder_traversal(tree):\n",
    "    \"\"\"using successor method\"\"\"\n",
    "    result = []\n",
    "    while tree.left:\n",
    "        tree = tree.left\n",
    "    while tree:\n",
    "        result.append(tree)\n",
    "        tree = successor(tree)\n",
    "    return result"
   ]
  },
  {
   "cell_type": "code",
   "execution_count": 27,
   "metadata": {},
   "outputs": [],
   "source": [
    "def inorder_traversal(tree):\n",
    "    \"\"\"just writing successor method instead of calling it.\"\"\"\n",
    "    result = []\n",
    "    while tree.left:\n",
    "        tree = tree.left\n",
    "    while tree:\n",
    "        result.append(tree)\n",
    "        if tree.right:\n",
    "            while tree.left:\n",
    "                tree = tree.left\n",
    "        else:\n",
    "            while tree.parent and tree.parent.right:\n",
    "                tree = tree.parent\n",
    "            tree = tree.parent"
   ]
  },
  {
   "cell_type": "markdown",
   "metadata": {},
   "source": [
    "We need to know when we return to a parent if the just completed subtree was the parent's left child (in which case we need to visit the parent and then traverse its right subtree) or right subtree (in which case we have completed traversing the parent). \n",
    "\n",
    "We can achieve this by recording the subtree's root before we move to the parent. We can then compare the subtree's root before we move to the parent.\n",
    "\n",
    "We are maintaing three pointers prev, curr(tree) and next."
   ]
  },
  {
   "cell_type": "code",
   "execution_count": 28,
   "metadata": {},
   "outputs": [],
   "source": [
    "def inorder_traversal_o1_space(tree):\n",
    "    prev, res = None, []\n",
    "    while tree:\n",
    "        if prev is tree.parent: # we are going down\n",
    "            if tree.left: # going towards leftmost node\n",
    "                nxt = tree.left\n",
    "            else: # when no more left nodes go to right\n",
    "                result.append(tree)\n",
    "                # go to right if right is present otherwise go to parent.\n",
    "                nxt = tree.right or tree.parent\n",
    "        if prev is tree.left:\n",
    "            result.append(tree)\n",
    "            nxt = tree.right\n",
    "        if prev is tree.right:\n",
    "            nxt = tree.parent\n",
    "        prev, tree = tree, nxt\n",
    "    return result"
   ]
  },
  {
   "cell_type": "markdown",
   "metadata": {},
   "source": [
    "### Follow ups\n",
    "* Perform the same for preorder and postorder traversal."
   ]
  },
  {
   "cell_type": "markdown",
   "metadata": {},
   "source": [
    "# Reconstruct Binary Tree from inorder travesal data\n"
   ]
  },
  {
   "cell_type": "code",
   "execution_count": 29,
   "metadata": {},
   "outputs": [
    {
     "name": "stdout",
     "output_type": "stream",
     "text": [
      "Writing output for /home/shaker/Documents/Github/AlgoRhythms/EPI/3bf8e68c-c4dc-4566-987d-95ff3778a18a.uml to 3bf8e68c-c4dc-4566-987d-95ff3778a18a.svg\n"
     ]
    },
    {
     "data": {
      "image/svg+xml": [
       "<svg xmlns=\"http://www.w3.org/2000/svg\" xmlns:xlink=\"http://www.w3.org/1999/xlink\" contentStyleType=\"text/css\" height=\"486px\" preserveAspectRatio=\"none\" style=\"width:445px;height:486px;background:#FFFFFF;\" version=\"1.1\" viewBox=\"0 0 445 486\" width=\"445px\" zoomAndPan=\"magnify\"><defs/><g><g id=\"elem_H\"><ellipse cx=\"197.5563\" cy=\"20.5236\" fill=\"#F1F1F1\" rx=\"18.5563\" ry=\"14.5236\" style=\"stroke:#181818;stroke-width:0.5;\"/><text fill=\"#000000\" font-family=\"sans-serif\" font-size=\"14\" lengthAdjust=\"spacing\" textLength=\"10\" x=\"192.5563\" y=\"23.3703\">H</text></g><g id=\"elem_B\"><ellipse cx=\"160.5563\" cy=\"109.5236\" fill=\"#F1F1F1\" rx=\"18.5563\" ry=\"14.5236\" style=\"stroke:#181818;stroke-width:0.5;\"/><text fill=\"#000000\" font-family=\"sans-serif\" font-size=\"14\" lengthAdjust=\"spacing\" textLength=\"10\" x=\"155.5563\" y=\"112.3703\">B</text></g><g id=\"elem_C\"><ellipse cx=\"235.5563\" cy=\"109.5236\" fill=\"#F1F1F1\" rx=\"18.5563\" ry=\"14.5236\" style=\"stroke:#181818;stroke-width:0.5;\"/><text fill=\"#000000\" font-family=\"sans-serif\" font-size=\"14\" lengthAdjust=\"spacing\" textLength=\"10\" x=\"230.5563\" y=\"112.3703\">C</text></g><g id=\"elem_F\"><ellipse cx=\"89.2739\" cy=\"198.4192\" fill=\"#F1F1F1\" rx=\"17.2739\" ry=\"14.4192\" style=\"stroke:#181818;stroke-width:0.5;\"/><text fill=\"#000000\" font-family=\"sans-serif\" font-size=\"14\" lengthAdjust=\"spacing\" textLength=\"8\" x=\"85.2739\" y=\"201.2658\">F</text></g><g id=\"elem_E\"><ellipse cx=\"160.3492\" cy=\"198.5236\" fill=\"#F1F1F1\" rx=\"17.8492\" ry=\"14.5236\" style=\"stroke:#181818;stroke-width:0.5;\"/><text fill=\"#000000\" font-family=\"sans-serif\" font-size=\"14\" lengthAdjust=\"spacing\" textLength=\"9\" x=\"155.8492\" y=\"201.3703\">E</text></g><g id=\"elem_.\"><ellipse cx=\"22.2663\" cy=\"287.6131\" fill=\"#F1F1F1\" rx=\"16.2663\" ry=\"13.6131\" style=\"stroke:#181818;stroke-width:0.5;\"/><text fill=\"#000000\" font-family=\"sans-serif\" font-size=\"14\" lengthAdjust=\"spacing\" textLength=\"5\" x=\"19.7663\" y=\"290.4597\">.</text></g><g id=\"elem_!\"><ellipse cx=\"90.2663\" cy=\"287.6131\" fill=\"#F1F1F1\" rx=\"16.2663\" ry=\"13.6131\" style=\"stroke:#181818;stroke-width:0.5;\"/><text fill=\"#000000\" font-family=\"sans-serif\" font-size=\"14\" lengthAdjust=\"spacing\" textLength=\"5\" x=\"87.7663\" y=\"290.4597\">!</text></g><g id=\"elem_A\"><ellipse cx=\"160.5563\" cy=\"287.5236\" fill=\"#F1F1F1\" rx=\"18.5563\" ry=\"14.5236\" style=\"stroke:#181818;stroke-width:0.5;\"/><text fill=\"#000000\" font-family=\"sans-serif\" font-size=\"14\" lengthAdjust=\"spacing\" textLength=\"10\" x=\"155.5563\" y=\"290.3703\">A</text></g><g id=\"elem_#\"><ellipse cx=\"234.4706\" cy=\"287.5236\" fill=\"#F1F1F1\" rx=\"19.9706\" ry=\"14.5236\" style=\"stroke:#181818;stroke-width:0.5;\"/><text fill=\"#000000\" font-family=\"sans-serif\" font-size=\"14\" lengthAdjust=\"spacing\" textLength=\"12\" x=\"228.4706\" y=\"290.3703\">#</text></g><g id=\"elem_%\"><ellipse cx=\"235.3848\" cy=\"198.5236\" fill=\"#F1F1F1\" rx=\"21.3848\" ry=\"14.5236\" style=\"stroke:#181818;stroke-width:0.5;\"/><text fill=\"#000000\" font-family=\"sans-serif\" font-size=\"14\" lengthAdjust=\"spacing\" textLength=\"14\" x=\"228.3848\" y=\"201.3703\">%</text></g><g id=\"elem_D\"><ellipse cx=\"311.2635\" cy=\"198.5236\" fill=\"#F1F1F1\" rx=\"19.2635\" ry=\"14.5236\" style=\"stroke:#181818;stroke-width:0.5;\"/><text fill=\"#000000\" font-family=\"sans-serif\" font-size=\"14\" lengthAdjust=\"spacing\" textLength=\"11\" x=\"305.7635\" y=\"201.3703\">D</text></g><g id=\"elem_^\"><ellipse cx=\"310.4706\" cy=\"287.5236\" fill=\"#F1F1F1\" rx=\"19.9706\" ry=\"14.5236\" style=\"stroke:#181818;stroke-width:0.5;\"/><text fill=\"#000000\" font-family=\"sans-serif\" font-size=\"14\" lengthAdjust=\"spacing\" textLength=\"12\" x=\"304.4706\" y=\"290.3703\">^</text></g><g id=\"elem_G\"><ellipse cx=\"385.2635\" cy=\"287.5236\" fill=\"#F1F1F1\" rx=\"19.2635\" ry=\"14.5236\" style=\"stroke:#181818;stroke-width:0.5;\"/><text fill=\"#000000\" font-family=\"sans-serif\" font-size=\"14\" lengthAdjust=\"spacing\" textLength=\"11\" x=\"379.7635\" y=\"290.3703\">G</text></g><g id=\"elem_I\"><ellipse cx=\"349.4517\" cy=\"376.3613\" fill=\"#F1F1F1\" rx=\"15.9517\" ry=\"13.3613\" style=\"stroke:#181818;stroke-width:0.5;\"/><text fill=\"#000000\" font-family=\"sans-serif\" font-size=\"14\" lengthAdjust=\"spacing\" textLength=\"4\" x=\"347.4517\" y=\"379.208\">I</text></g><g id=\"elem_&amp;\"><ellipse cx=\"420.2635\" cy=\"376.5236\" fill=\"#F1F1F1\" rx=\"19.2635\" ry=\"14.5236\" style=\"stroke:#181818;stroke-width:0.5;\"/><text fill=\"#000000\" font-family=\"sans-serif\" font-size=\"14\" lengthAdjust=\"spacing\" textLength=\"11\" x=\"414.7635\" y=\"379.3703\">&amp;</text></g><g id=\"elem_\\*\"><ellipse cx=\"314.4706\" cy=\"465.5236\" fill=\"#F1F1F1\" rx=\"19.9706\" ry=\"14.5236\" style=\"stroke:#181818;stroke-width:0.5;\"/><text fill=\"#000000\" font-family=\"sans-serif\" font-size=\"14\" lengthAdjust=\"spacing\" textLength=\"12\" x=\"308.4706\" y=\"468.3703\">\\*</text></g><g id=\"elem_ \"><ellipse cx=\"385.4517\" cy=\"465.3613\" fill=\"#F1F1F1\" rx=\"15.9517\" ry=\"13.3613\" style=\"stroke:#181818;stroke-width:0.5;\"/><text fill=\"#000000\" font-family=\"sans-serif\" font-size=\"14\" lengthAdjust=\"spacing\" textLength=\"4\" x=\"383.4517\" y=\"468.208\"> </text></g><!--MD5=[af9cc9a1f43ef18524c32b0c4191f660]\n",
       "link H to B--><g id=\"link_H_B\"><path d=\"M191.88,34.713 C185.541,49.619 175.197,73.942 168.131,90.557 \" fill=\"none\" id=\"H-to-B\" style=\"stroke:#181818;stroke-width:1.0;\"/><polygon fill=\"#181818\" points=\"166.051,95.447,173.2552,88.7314,168.0085,90.8461,165.8938,85.5994,166.051,95.447\" style=\"stroke:#181818;stroke-width:1.0;\"/></g><!--MD5=[5cc0440d4b577c7f3722d4b432749962]\n",
       "link H to C--><g id=\"link_H_C\"><path d=\"M203.107,34.337 C209.618,49.244 220.398,73.925 227.718,90.683 \" fill=\"none\" id=\"H-to-C\" style=\"stroke:#181818;stroke-width:1.0;\"/><polygon fill=\"#181818\" points=\"229.87,95.61,229.9326,85.7613,227.8684,91.0281,222.6016,88.9639,229.87,95.61\" style=\"stroke:#181818;stroke-width:1.0;\"/></g><!--MD5=[2da0b8035371ea79faad2bfd2c32f4b5]\n",
       "link B to F--><g id=\"link_B_F\"><path d=\"M150.925,122.233 C138.363,137.626 116.278,164.687 102.2937,181.823 \" fill=\"none\" id=\"B-to-F\" style=\"stroke:#181818;stroke-width:1.0;\"/><polygon fill=\"#181818\" points=\"98.9237,185.953,107.7131,181.5093,102.085,182.0793,101.5151,176.4512,98.9237,185.953\" style=\"stroke:#181818;stroke-width:1.0;\"/></g><!--MD5=[7f2f3d3eec3815d2ae4615844545f843]\n",
       "link B to E--><g id=\"link_B_E\"><path d=\"M160.5,124.094 C160.5,138.692 160.5,162.001 160.5,178.429 \" fill=\"none\" id=\"B-to-E\" style=\"stroke:#181818;stroke-width:1.0;\"/><polygon fill=\"#181818\" points=\"160.5,183.715,164.5,174.715,160.5,178.715,156.5,174.715,160.5,183.715\" style=\"stroke:#181818;stroke-width:1.0;\"/></g><!--MD5=[799551d4c8ccd686e5ea212ae97b25be]\n",
       "link F to .--><g id=\"link_F_.\"><path d=\"M80.4641,211.233 C68.4123,226.883 47.0722,254.593 33.9196,271.672 \" fill=\"none\" id=\"F-to-.\" style=\"stroke:#181818;stroke-width:1.0;\"/><polygon fill=\"#181818\" points=\"30.7627,275.771,39.4226,271.08,33.813,271.8092,33.0838,266.1996,30.7627,275.771\" style=\"stroke:#181818;stroke-width:1.0;\"/></g><!--MD5=[4c01ae34ddacf902884a8bbaebb13109]\n",
       "link F to !--><g id=\"link_F_!\"><path d=\"M89.6562,213.094 C89.828,228.036 90.1046,252.102 90.294,268.577 \" fill=\"none\" id=\"F-to-!\" style=\"stroke:#181818;stroke-width:1.0;\"/><polygon fill=\"#181818\" points=\"90.3546,273.849,94.2515,264.8039,90.2975,268.8493,86.252,264.8953,90.3546,273.849\" style=\"stroke:#181818;stroke-width:1.0;\"/></g><!--MD5=[ee344346890028aa79ecfe638cbee1f3]\n",
       "link E to A--><g id=\"link_E_A\"><path d=\"M160.5,213.094 C160.5,227.692 160.5,251.001 160.5,267.429 \" fill=\"none\" id=\"E-to-A\" style=\"stroke:#181818;stroke-width:1.0;\"/><polygon fill=\"#181818\" points=\"160.5,272.715,164.5,263.715,160.5,267.715,156.5,263.715,160.5,272.715\" style=\"stroke:#181818;stroke-width:1.0;\"/></g><!--MD5=[e4906b40934402321681e1353c43eda0]\n",
       "link E to #--><g id=\"link_E_#\"><path d=\"M170.174,210.874 C183.176,226.16 206.349,253.404 221.045,270.681 \" fill=\"none\" id=\"E-to-#\" style=\"stroke:#181818;stroke-width:1.0;\"/><polygon fill=\"#181818\" points=\"224.587,274.846,221.802,265.3991,221.3472,271.0376,215.7086,270.5828,224.587,274.846\" style=\"stroke:#181818;stroke-width:1.0;\"/></g><!--MD5=[9d69961c2e6399e8f2265fd1e275aa95]\n",
       "link C to %--><g id=\"link_C_%\"><path d=\"M235.5,124.094 C235.5,138.692 235.5,162.001 235.5,178.429 \" fill=\"none\" id=\"C-to-%\" style=\"stroke:#181818;stroke-width:1.0;\"/><polygon fill=\"#181818\" points=\"235.5,183.715,239.5,174.715,235.5,178.715,231.5,174.715,235.5,183.715\" style=\"stroke:#181818;stroke-width:1.0;\"/></g><!--MD5=[95ca888c4bb7ed1df160562281720a5c]\n",
       "link C to D--><g id=\"link_C_D\"><path d=\"M245.436,121.874 C258.789,137.16 282.588,164.404 297.681,181.681 \" fill=\"none\" id=\"C-to-D\" style=\"stroke:#181818;stroke-width:1.0;\"/><polygon fill=\"#181818\" points=\"301.319,185.846,298.4098,176.4366,298.0293,182.0806,292.3853,181.7001,301.319,185.846\" style=\"stroke:#181818;stroke-width:1.0;\"/></g><!--MD5=[04878b28ee6c050dbaf104378759b389]\n",
       "link D to ^--><g id=\"link_D_^\"><path d=\"M311.344,213.094 C311.176,227.692 310.908,251.001 310.719,267.429 \" fill=\"none\" id=\"D-to-^\" style=\"stroke:#181818;stroke-width:1.0;\"/><polygon fill=\"#181818\" points=\"310.658,272.715,314.7606,263.7613,310.7151,267.7153,306.7611,263.6699,310.658,272.715\" style=\"stroke:#181818;stroke-width:1.0;\"/></g><!--MD5=[a237a4036bc185c3ad6b67d996fe4e1c]\n",
       "link D to G--><g id=\"link_D_G\"><path d=\"M321.48,211.233 C334.573,226.626 357.591,253.687 372.166,270.823 \" fill=\"none\" id=\"D-to-G\" style=\"stroke:#181818;stroke-width:1.0;\"/><polygon fill=\"#181818\" points=\"375.678,274.953,372.893,265.5061,372.4382,271.1446,366.7996,270.6898,375.678,274.953\" style=\"stroke:#181818;stroke-width:1.0;\"/></g><!--MD5=[82e3f994a9765b9fce80a6bb55fb652b]\n",
       "link G to I--><g id=\"link_G_I\"><path d=\"M380.032,301.713 C373.722,316.963 363.332,342.072 356.453,358.697 \" fill=\"none\" id=\"G-to-I\" style=\"stroke:#181818;stroke-width:1.0;\"/><polygon fill=\"#181818\" points=\"354.439,363.564,361.5759,356.7769,356.3505,358.9438,354.1836,353.7185,354.439,363.564\" style=\"stroke:#181818;stroke-width:1.0;\"/></g><!--MD5=[94009b2cda87c4c22119c09240f04899]\n",
       "link G to &--><g id=\"link_G_&amp;\"><path d=\"M390.816,301.713 C396.812,316.619 406.597,340.942 413.282,357.557 \" fill=\"none\" id=\"G-to-&amp;\" style=\"stroke:#181818;stroke-width:1.0;\"/><polygon fill=\"#181818\" points=\"415.249,362.447,415.599,352.6044,413.382,357.8087,408.1776,355.5916,415.249,362.447\" style=\"stroke:#181818;stroke-width:1.0;\"/></g><!--MD5=[86d5569e3e88560056d364a1d99332fa]\n",
       "link I to \\*--><g id=\"link_I_\\*\"><path d=\"M344.633,389.597 C338.71,404.3218 328.65,429.326 321.798,446.3592 \" fill=\"none\" id=\"I-to-\\*\" style=\"stroke:#181818;stroke-width:1.0;\"/><polygon fill=\"#181818\" points=\"319.782,451.3692,326.8521,444.5125,321.6482,446.7305,319.4302,441.5266,319.782,451.3692\" style=\"stroke:#181818;stroke-width:1.0;\"/></g><!--MD5=[3a31e4c034fc511720957fdc615b0e85]\n",
       "link I to  --><g id=\"link_I_ \"><path d=\"M354.506,389.597 C360.739,404.6603 371.423,430.481 378.474,447.521 \" fill=\"none\" id=\"I-to- \" style=\"stroke:#181818;stroke-width:1.0;\"/><polygon fill=\"#181818\" points=\"380.537,452.5058,380.7917,442.6602,378.6251,447.8858,373.3996,445.7192,380.537,452.5058\" style=\"stroke:#181818;stroke-width:1.0;\"/></g><!--MD5=[430a97a9f5e5e105c7a44294130f3037]\n",
       "@startuml\n",
       "(H) - -> (B)\n",
       "(H) - -> (C)\n",
       "(B) - -> (F)\n",
       "(B) - -> (E)\n",
       "(F) - -> (.)\n",
       "(F) - -> (!)\n",
       "(E) - -> (A)\n",
       "(E) - -> (#)\n",
       "(C) - -> (%)\n",
       "(C) - -> (D)\n",
       "(D) - -> (^)\n",
       "(D) - -> (G)\n",
       "(G) - -> (I)\n",
       "(G) - -> (&)\n",
       "(I) - -> (\\*)\n",
       "(I) - -> ( )\n",
       "@enduml\n",
       "\n",
       "PlantUML version 1.2022.13beta5(Unknown compile time)\n",
       "(GPL source distribution)\n",
       "Java Runtime: Java(TM) SE Runtime Environment\n",
       "JVM: Java HotSpot(TM) 64-Bit Server VM\n",
       "Default Encoding: UTF-8\n",
       "Language: en\n",
       "Country: US\n",
       "--></g></svg>"
      ],
      "text/plain": [
       "<IPython.core.display.SVG object>"
      ]
     },
     "execution_count": 29,
     "metadata": {},
     "output_type": "execute_result"
    }
   ],
   "source": [
    "%%plantuml\n",
    "@startuml\n",
    "(H) --> (B)\n",
    "(H) --> (C)\n",
    "(B) --> (F)\n",
    "(B) --> (E)\n",
    "(F) --> (.)\n",
    "(F) --> (!)\n",
    "(E) --> (A)\n",
    "(E) --> (#)\n",
    "(C) --> (%)\n",
    "(C) --> (D)\n",
    "(D) --> (^)\n",
    "(D) --> (G)\n",
    "(G) --> (I)\n",
    "(G) --> (&)\n",
    "(I) --> (\\*)\n",
    "(I) --> ( )\n",
    "@enduml"
   ]
  },
  {
   "cell_type": "code",
   "execution_count": 30,
   "metadata": {},
   "outputs": [],
   "source": [
    "def binary_tree_from_traversal(preorder, inorder):\n",
    "    if not inorder:\n",
    "        return None\n",
    "    root = BinaryTreeNode(preorder[0])\n",
    "    \n",
    "    # here we are lagging. We can store associate index with data using hashmap.\n",
    "    # and we can get O(1)\n",
    "    cindex = inorder.index(preorder[0])\n",
    "    \n",
    "    nxt_inorder = inorder[:cindex]\n",
    "    nxt_preorder = preorder[1:len(nxt_inorder)+1]\n",
    "    root.left = binary_tree_from_traversal(nxt_preorder, nxt_inorder)\n",
    "    \n",
    "    nxt_preorder = preorder[len(nxt_inorder)+1:]\n",
    "    nxt_inorder = inorder[cindex+1:]\n",
    "    root.right = binary_tree_from_traversal(nxt_preorder, nxt_inorder)\n",
    "    \n",
    "    return root\n",
    "preorder = [\"H\",\"B\",\"F\",\"E\",\"A\",\"C\",\"D\",\"G\",\"I\"]\n",
    "inorder = [\"F\",\"B\",\"A\",\"E\",\"H\",\"C\",\"D\",\"I\",\"G\"]\n",
    "tree = binary_tree_from_traversal(preorder, inorder)"
   ]
  },
  {
   "cell_type": "code",
   "execution_count": 31,
   "metadata": {},
   "outputs": [],
   "source": [
    "def binary_tree_from_traversal(preorder, inorder):\n",
    "    inorder_idx = {data:i for i, data in enumerate(inorder)}\n",
    "    def helper(preorder, inorder):\n",
    "        if not inorder:\n",
    "            return None\n",
    "        root = BinaryTreeNode(preorder[0])\n",
    "        \n",
    "        # here we are lagging. We can store associate index with data using hashmap.\n",
    "        # and we can get O(1)\n",
    "        cindex = inorder_idx[preorder[0]]\n",
    "        \n",
    "        # we are copying lists here which will take more space.\n",
    "        # we could improve this by using indexes\n",
    "        nxt_inorder = inorder[:cindex]\n",
    "        nxt_preorder = preorder[1:len(nxt_inorder)+1]\n",
    "        root.left = binary_tree_from_traversal(nxt_preorder, nxt_inorder)\n",
    "        \n",
    "        nxt_preorder = preorder[len(nxt_inorder)+1:]\n",
    "        nxt_inorder = inorder[cindex+1:]\n",
    "        root.right = binary_tree_from_traversal(nxt_preorder, nxt_inorder)\n",
    "    \n",
    "        return root\n",
    "    return helper(preorder, inorder)\n",
    "preorder = [\"H\",\"B\",\"F\",\"E\",\"A\",\"C\",\"D\",\"G\",\"I\"]\n",
    "inorder = [\"F\",\"B\",\"A\",\"E\",\"H\",\"C\",\"D\",\"I\",\"G\"]\n",
    "tree = binary_tree_from_traversal(preorder, inorder)"
   ]
  },
  {
   "cell_type": "code",
   "execution_count": 32,
   "metadata": {},
   "outputs": [],
   "source": [
    "def binary_tree_from_traversal(preorder, inorder):\n",
    "    inorder_idx = {data:i for i, data in enumerate(inorder)}\n",
    "    def helper(l, r, c=0):\n",
    "        if l > r:\n",
    "            return None\n",
    "        root = BinaryTreeNode(preorder[c])\n",
    "        c_index = inorder_idx[preorder[c]]\n",
    "        root.left = helper(l, c_index-1, c+1)\n",
    "        root.right = helper(c_index+1, r, c+c_index-l+1)\n",
    "        return root\n",
    "    return helper(0, len(inorder)-1)\n",
    "root = binary_tree_from_traversal(preorder, inorder)"
   ]
  },
  {
   "cell_type": "markdown",
   "metadata": {},
   "source": [
    "### Variant\n",
    "* solve same problem for inorder and postorder traversal\n",
    "* Let A be an array of n distinct integers. Let the index of the maximum element of A be m. Define the max-tree on A to be the binary tree on the entires of A in which the root contains the maximum element of A, the left child is the max tree on A\\[0,m-1\\] and the right child is the max-tree on A\\[m+1,n-1\\]. Desing and O(n) algorithm for building the max tree of A."
   ]
  },
  {
   "cell_type": "markdown",
   "metadata": {},
   "source": [
    "# Reconstruct a binary tree from a preorder traversal with markers"
   ]
  },
  {
   "cell_type": "code",
   "execution_count": 33,
   "metadata": {},
   "outputs": [
    {
     "data": {
      "text/plain": [
       "BinaryTreeNode(data:F)"
      ]
     },
     "execution_count": 33,
     "metadata": {},
     "output_type": "execute_result"
    }
   ],
   "source": [
    "def binary_tree_from_traversal_with_markers(preorder):\n",
    "    def helper(c=0):\n",
    "        if not preorder[c]:\n",
    "            return None, c\n",
    "        root = BinaryTreeNode(preorder[c])\n",
    "        root.left, c = helper(c+1)\n",
    "        root.right, c = helper(c+1)\n",
    "        return root, c\n",
    "    return helper()[0]\n",
    "preorder = [\"H\",\"B\",\"F\",None,None,\"E\",\"A\",None,None,None,\"C\",None,\"D\",None,\"G\",\"I\",None,None,None]\n",
    "root = binary_tree_from_traversal_with_markers(preorder)\n",
    "root.left.left"
   ]
  },
  {
   "cell_type": "code",
   "execution_count": 34,
   "metadata": {},
   "outputs": [
    {
     "data": {
      "text/plain": [
       "BinaryTreeNode(data:F)"
      ]
     },
     "execution_count": 34,
     "metadata": {},
     "output_type": "execute_result"
    }
   ],
   "source": [
    "def binary_tree_from_traversal_with_markers(preorder):\n",
    "    def helper(preorder_iter):\n",
    "        val = next(preorder_iter)\n",
    "        if not val:\n",
    "            return None\n",
    "        return BinaryTreeNode(val, helper(preorder_iter), helper(preorder_iter))\n",
    "    return helper(iter(preorder))\n",
    "root = binary_tree_from_traversal_with_markers(preorder)\n",
    "root.left.left"
   ]
  },
  {
   "cell_type": "markdown",
   "metadata": {},
   "source": [
    "# Form a linked list from the leaves of the binary tree\n",
    "Given a binary tree, compute a linked list from the leaves of the binary tree. The leaves should appear in left to right order."
   ]
  },
  {
   "cell_type": "code",
   "execution_count": 35,
   "metadata": {},
   "outputs": [],
   "source": [
    "class ListNode:\n",
    "    def __init__(self, data=0, next_node=None):\n",
    "        self.data = data\n",
    "        self.next = next_node\n",
    "    def __repr__(self):\n",
    "        return f\"ListNode(data={self.data})\"\n",
    "\n",
    "def search_list(L, key):\n",
    "    while L and L.data != key:\n",
    "        L = L.next\n",
    "    return L # returns null if key not present\n",
    "\n",
    "def insert_after(node, new_node):\n",
    "    new_node.next = node.next\n",
    "    node.next = new_node\n",
    "\n",
    "# Assuming node is not a tail\n",
    "def delete_after(node):\n",
    "    node.next = node.next.next\n",
    "\n",
    "def print_list(node):\n",
    "    curr = node\n",
    "    while curr:\n",
    "        print(curr.data, end=' > ')\n",
    "        curr = curr.next\n",
    "    print('(X)')"
   ]
  },
  {
   "cell_type": "code",
   "execution_count": 36,
   "metadata": {},
   "outputs": [
    {
     "name": "stdout",
     "output_type": "stream",
     "text": [
      "E > F > G > I > J > M > N > O > (X)\n"
     ]
    }
   ],
   "source": [
    "def leave_linked_list(tree):\n",
    "    node = ListNode()\n",
    "    def dfs(root, node):\n",
    "        if not root:\n",
    "            return node\n",
    "        if not root.left and not root.right:\n",
    "            node.next = ListNode(root.data)\n",
    "            return node.next\n",
    "        node = dfs(root.left, node)\n",
    "        node = dfs(root.right, node)\n",
    "        return node\n",
    "    dfs(tree, node)\n",
    "    return node.next\n",
    "tree = binary_tree([\"A\",\"B\",\"K\",\"C\",\"H\",\"L\",\"O\",\"D\",\"G\",\"I\",\"J\",\"M\",\"N\",None,None,\"E\",\"F\"])\n",
    "node = leave_linked_list(tree)\n",
    "print_list(node)"
   ]
  },
  {
   "cell_type": "code",
   "execution_count": 37,
   "metadata": {},
   "outputs": [
    {
     "name": "stdout",
     "output_type": "stream",
     "text": [
      "[BinaryTreeNode(data:E), BinaryTreeNode(data:F), BinaryTreeNode(data:G), BinaryTreeNode(data:I), BinaryTreeNode(data:J), BinaryTreeNode(data:M), BinaryTreeNode(data:N), BinaryTreeNode(data:O)]\n"
     ]
    }
   ],
   "source": [
    "def leave_list(tree):\n",
    "    if not tree:\n",
    "        return []\n",
    "    if not tree.left and not tree.right:\n",
    "        return [tree]\n",
    "    return leave_list(tree.left) + leave_list(tree.right)\n",
    "print(leave_list(tree))"
   ]
  },
  {
   "cell_type": "markdown",
   "metadata": {},
   "source": [
    "# Compute the exterior of the Binary Tree\n",
    "exterior of binary tree = the nodes from root to leftmost leaf, followed by leaves in left to right order, followed by nodes from the rightmost leaf to the root."
   ]
  },
  {
   "cell_type": "code",
   "execution_count": 38,
   "metadata": {},
   "outputs": [
    {
     "data": {
      "text/plain": [
       "[BinaryTreeNode(data:A),\n",
       " BinaryTreeNode(data:B),\n",
       " BinaryTreeNode(data:C),\n",
       " BinaryTreeNode(data:D),\n",
       " BinaryTreeNode(data:E),\n",
       " BinaryTreeNode(data:F),\n",
       " BinaryTreeNode(data:G),\n",
       " BinaryTreeNode(data:I),\n",
       " BinaryTreeNode(data:J),\n",
       " BinaryTreeNode(data:M),\n",
       " BinaryTreeNode(data:N),\n",
       " BinaryTreeNode(data:O),\n",
       " BinaryTreeNode(data:K),\n",
       " BinaryTreeNode(data:A)]"
      ]
     },
     "execution_count": 38,
     "metadata": {},
     "output_type": "execute_result"
    }
   ],
   "source": [
    "def binary_tree_exterior(tree):\n",
    "    def left_part(tree):\n",
    "        if not tree or not(tree.left or tree.right):\n",
    "            return []\n",
    "        return [tree] + left_part(tree.left or tree.right)\n",
    "    def right_part(tree):\n",
    "        if not tree or not(tree.left or tree.right):\n",
    "            return []\n",
    "        return right_part(tree.right or tree.left) + [tree]\n",
    "    def leaves(tree):\n",
    "        if not tree:\n",
    "            return []\n",
    "        if not tree.left and not tree.right:\n",
    "            return [tree]\n",
    "        return leaves(tree.left) + leaves(tree.right)\n",
    "    return left_part(tree) + leaves(tree) + right_part(tree)\n",
    "binary_tree_exterior(tree)"
   ]
  },
  {
   "cell_type": "code",
   "execution_count": 46,
   "metadata": {},
   "outputs": [
    {
     "data": {
      "text/plain": [
       "[BinaryTreeNode(data:A),\n",
       " BinaryTreeNode(data:B),\n",
       " BinaryTreeNode(data:C),\n",
       " BinaryTreeNode(data:D),\n",
       " BinaryTreeNode(data:E),\n",
       " BinaryTreeNode(data:F),\n",
       " BinaryTreeNode(data:G),\n",
       " BinaryTreeNode(data:I),\n",
       " BinaryTreeNode(data:J),\n",
       " BinaryTreeNode(data:O),\n",
       " BinaryTreeNode(data:N),\n",
       " BinaryTreeNode(data:M),\n",
       " BinaryTreeNode(data:K)]"
      ]
     },
     "execution_count": 46,
     "metadata": {},
     "output_type": "execute_result"
    }
   ],
   "source": [
    "def binary_tree_exterior(tree):\n",
    "    def is_leaf(node):\n",
    "        return not node.left and not node.right\n",
    "    def left_boundary_and_leaves(subtree, is_boundary):\n",
    "        if not subtree:\n",
    "            return []\n",
    "        return (\n",
    "            ([subtree] if is_boundary or is_leaf(subtree) else [])\n",
    "            + left_boundary_and_leaves(subtree.left, is_boundary)\n",
    "            + left_boundary_and_leaves(subtree.right, is_boundary and not subtree.left)\n",
    "        )\n",
    "    def right_boundary_and_leaves(subtree, is_boundary):\n",
    "        if not subtree:\n",
    "            return []\n",
    "        return (\n",
    "            right_boundary_and_leaves(subtree.right, is_boundary)\n",
    "            + right_boundary_and_leaves(subtree.left, is_boundary and not subtree.right)\n",
    "            + ([subtree] if is_boundary or is_leaf(subtree) else [])\n",
    "        )\n",
    "    return (\n",
    "        [tree]\n",
    "        + left_boundary_and_leaves(tree.left, is_boundary=True)\n",
    "        + right_boundary_and_leaves(tree.right, is_boundary=True)\n",
    "        if tree else []\n",
    "    )\n",
    "binary_tree_exterior(tree)"
   ]
  },
  {
   "cell_type": "code",
   "execution_count": null,
   "metadata": {},
   "outputs": [],
   "source": []
  }
 ],
 "metadata": {
  "kernelspec": {
   "display_name": "Python 3 (ipykernel)",
   "language": "python",
   "name": "python3"
  },
  "language_info": {
   "codemirror_mode": {
    "name": "ipython",
    "version": 3
   },
   "file_extension": ".py",
   "mimetype": "text/x-python",
   "name": "python",
   "nbconvert_exporter": "python",
   "pygments_lexer": "ipython3",
   "version": "3.10.8"
  },
  "vscode": {
   "interpreter": {
    "hash": "916dbcbb3f70747c44a77c7bcd40155683ae19c65e1c03b4aa3499c5328201f1"
   }
  }
 },
 "nbformat": 4,
 "nbformat_minor": 4
}

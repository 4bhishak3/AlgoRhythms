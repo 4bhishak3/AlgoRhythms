{
 "cells": [
  {
   "cell_type": "markdown",
   "metadata": {},
   "source": [
    "# Binary Trees\n",
    "- is either empty, or\n",
    "- a root node r together with a left binary tree and a right binary tree."
   ]
  },
  {
   "cell_type": "code",
   "execution_count": 1,
   "metadata": {},
   "outputs": [],
   "source": [
    "class BinaryTreeNode:\n",
    "    def __init__(self, data=None, left=None, right=None):\n",
    "        self.data = data\n",
    "        self.left = left\n",
    "        self.right = right\n",
    "    def __repr__(self):\n",
    "        return f\"BinaryTreeNode(data:{self.data})\""
   ]
  },
  {
   "cell_type": "markdown",
   "metadata": {},
   "source": [
    "### Search Path\n",
    "For every node, there exists a unique path from root to that node with each node in the sequence being a child of previous node. This sequence is known as Search Path from root to that node."
   ]
  },
  {
   "cell_type": "markdown",
   "metadata": {},
   "source": [
    "### Ancestor-Descendant\n",
    "We say a node is a ancestor of a node d, if it lies in the search path of d and d will be it's descendant.\n",
    "\n",
    "A node is a ancestor and descendant of itself."
   ]
  },
  {
   "cell_type": "markdown",
   "metadata": {},
   "source": [
    "### Depth\n",
    "depth of a node n is the number of nodes on the search path from root to n, not including n itself.\n",
    "### Height\n",
    "height of a binary tree is the maximum depth of any node in the tree.\n",
    "### Level\n",
    "all nodes at same depth are called to be at same level."
   ]
  },
  {
   "cell_type": "markdown",
   "metadata": {},
   "source": [
    "### Full Binary Tree\n",
    "binary tree in which every node other than the leaves has two children.<br>\n",
    "min-nodes: $2^{h} + 1$, for height $h$. <br>\n",
    "max-nodes: $2^{h+1} - 1$, for height $h$. <br>\n",
    "height: $\\big\\lfloor \\lg(n) \\big\\rfloor$ ,for $n$ nodes.\n",
    "\n",
    "### Perfect Binary Tree\n",
    "full binary tree in which all leaves are at same depth.<br>\n",
    "min-height = max-height = $\\lg(n+1) - 1$, for $n$ nodes.<br>\n",
    "number of nodes = $2^{h+1} - 1$ for $h$ height\n",
    "\n",
    "### Complete Binary Tree\n",
    "binary tree in which every level, except possibly the last, is completely filled.<br>\n",
    "min-nodes: $2^{h}$, for height $h$ <br>\n",
    "max-nodes: $2^{h+1} - 1$ for height $h$ <br>\n",
    "height: $\\big\\lfloor \\lg(n) \\big\\rfloor$ ,for $n$ nodes.\n",
    "\n",
    "### Skewed Binary Tree\n",
    "**Left-skewed:** A tree in which no node has a right child.<br>\n",
    "**Right-skewed:** A tree in which no node has a left child."
   ]
  },
  {
   "cell_type": "markdown",
   "metadata": {},
   "source": [
    "## Traversal\n",
    "**Preorder:** root -> left -> right <br>\n",
    "**Postorder:** left -> right -> root <br>\n",
    "**Inorder:** left -> root -> right"
   ]
  },
  {
   "cell_type": "code",
   "execution_count": 2,
   "metadata": {},
   "outputs": [],
   "source": [
    "c = BinaryTreeNode(4)\n",
    "d = BinaryTreeNode(5)\n",
    "e = BinaryTreeNode(6)\n",
    "\n",
    "a = BinaryTreeNode(2, c ,d)\n",
    "b = BinaryTreeNode(3, e)\n",
    "root = BinaryTreeNode(1, a, b)"
   ]
  },
  {
   "cell_type": "code",
   "execution_count": 3,
   "metadata": {},
   "outputs": [],
   "source": [
    "import iplantuml"
   ]
  },
  {
   "cell_type": "code",
   "execution_count": 4,
   "metadata": {},
   "outputs": [
    {
     "name": "stdout",
     "output_type": "stream",
     "text": [
      "Writing output for /home/shaker/Documents/Github/AlgoRhythms/EPI/e9724a06-677a-4a9b-84ed-d0378ca2c3be.uml to e9724a06-677a-4a9b-84ed-d0378ca2c3be.svg\n"
     ]
    },
    {
     "data": {
      "image/svg+xml": [
       "<svg xmlns=\"http://www.w3.org/2000/svg\" xmlns:xlink=\"http://www.w3.org/1999/xlink\" contentStyleType=\"text/css\" height=\"219px\" preserveAspectRatio=\"none\" style=\"width:189px;height:219px;background:#FFFFFF;\" version=\"1.1\" viewBox=\"0 0 189 219\" width=\"189px\" zoomAndPan=\"magnify\"><defs/><g><g id=\"elem_1\"><ellipse cx=\"129.3492\" cy=\"20.5236\" fill=\"#F1F1F1\" rx=\"17.8492\" ry=\"14.5236\" style=\"stroke:#181818;stroke-width:0.5;\"/><text fill=\"#000000\" font-family=\"sans-serif\" font-size=\"14\" lengthAdjust=\"spacing\" textLength=\"9\" x=\"124.8492\" y=\"23.3703\">1</text></g><g id=\"elem_2\"><ellipse cx=\"94.2739\" cy=\"109.4192\" fill=\"#F1F1F1\" rx=\"17.2739\" ry=\"14.4192\" style=\"stroke:#181818;stroke-width:0.5;\"/><text fill=\"#000000\" font-family=\"sans-serif\" font-size=\"14\" lengthAdjust=\"spacing\" textLength=\"8\" x=\"90.2739\" y=\"112.2658\">2</text></g><g id=\"elem_3\"><ellipse cx=\"165.3492\" cy=\"109.5236\" fill=\"#F1F1F1\" rx=\"17.8492\" ry=\"14.5236\" style=\"stroke:#181818;stroke-width:0.5;\"/><text fill=\"#000000\" font-family=\"sans-serif\" font-size=\"14\" lengthAdjust=\"spacing\" textLength=\"9\" x=\"160.8492\" y=\"112.3703\">3</text></g><g id=\"elem_4\"><ellipse cx=\"23.2739\" cy=\"198.4192\" fill=\"#F1F1F1\" rx=\"17.2739\" ry=\"14.4192\" style=\"stroke:#181818;stroke-width:0.5;\"/><text fill=\"#000000\" font-family=\"sans-serif\" font-size=\"14\" lengthAdjust=\"spacing\" textLength=\"8\" x=\"19.2739\" y=\"201.2658\">4</text></g><g id=\"elem_5\"><ellipse cx=\"94.3492\" cy=\"198.5236\" fill=\"#F1F1F1\" rx=\"17.8492\" ry=\"14.5236\" style=\"stroke:#181818;stroke-width:0.5;\"/><text fill=\"#000000\" font-family=\"sans-serif\" font-size=\"14\" lengthAdjust=\"spacing\" textLength=\"9\" x=\"89.8492\" y=\"201.3703\">5</text></g><g id=\"elem_6\"><ellipse cx=\"165.3492\" cy=\"198.5236\" fill=\"#F1F1F1\" rx=\"17.8492\" ry=\"14.5236\" style=\"stroke:#181818;stroke-width:0.5;\"/><text fill=\"#000000\" font-family=\"sans-serif\" font-size=\"14\" lengthAdjust=\"spacing\" textLength=\"9\" x=\"160.8492\" y=\"201.3703\">6</text></g><!--MD5=[0ba0d8a0fd0e641c23f69743a446dfe6]\n",
       "link 1 to 2--><g id=\"link_1_2\"><path d=\"M124.184,34.713 C118.188,49.619 108.403,73.942 101.7183,90.557 \" fill=\"none\" id=\"1-to-2\" style=\"stroke:#181818;stroke-width:1.0;\"/><polygon fill=\"#181818\" points=\"99.7511,95.447,106.8224,88.5916,101.6181,90.8086,99.401,85.6044,99.7511,95.447\" style=\"stroke:#181818;stroke-width:1.0;\"/></g><!--MD5=[2d4b753efd65b00afdf467246674cbe5]\n",
       "link 1 to 3--><g id=\"link_1_3\"><path d=\"M134.968,34.713 C141.135,49.619 151.2,73.942 158.075,90.557 \" fill=\"none\" id=\"1-to-3\" style=\"stroke:#181818;stroke-width:1.0;\"/><polygon fill=\"#181818\" points=\"160.099,95.447,160.3544,85.6015,158.1875,90.8268,152.9621,88.6599,160.099,95.447\" style=\"stroke:#181818;stroke-width:1.0;\"/></g><!--MD5=[d209f2622dd5d3103b9c9b4670e2d6db]\n",
       "link 2 to 4--><g id=\"link_2_4\"><path d=\"M85.218,121.8737 C72.6739,137.2446 50.2622,164.7069 36.1753,181.9683 \" fill=\"none\" id=\"2-to-4\" style=\"stroke:#181818;stroke-width:1.0;\"/><polygon fill=\"#181818\" points=\"32.7843,186.1235,41.5737,181.6798,35.9456,182.2498,35.3757,176.6217,32.7843,186.1235\" style=\"stroke:#181818;stroke-width:1.0;\"/></g><!--MD5=[4e74f4bf4b09d37138dfb3a42c5ccc13]\n",
       "link 2 to 5--><g id=\"link_2_5\"><path d=\"M94.5,124.0938 C94.5,138.6923 94.5,162.0005 94.5,178.4293 \" fill=\"none\" id=\"2-to-5\" style=\"stroke:#181818;stroke-width:1.0;\"/><polygon fill=\"#181818\" points=\"94.5,183.7146,98.5,174.7146,94.5,178.7146,90.5,174.7146,94.5,183.7146\" style=\"stroke:#181818;stroke-width:1.0;\"/></g><!--MD5=[b2ac855d378984b70ee6a5bd13272cbd]\n",
       "link 3 to 6--><g id=\"link_3_6\"><path d=\"M165.5,124.0938 C165.5,138.6923 165.5,162.0005 165.5,178.4293 \" fill=\"none\" id=\"3-to-6\" style=\"stroke:#181818;stroke-width:1.0;\"/><polygon fill=\"#181818\" points=\"165.5,183.7146,169.5,174.7146,165.5,178.7146,161.5,174.7146,165.5,183.7146\" style=\"stroke:#181818;stroke-width:1.0;\"/></g><!--MD5=[434514cd82bbd234ece96ebe9b6ad8cd]\n",
       "@startuml\n",
       "(1) - -> (2)\n",
       "(1) - -> (3)\n",
       "(2) - -> (4)\n",
       "(2) - -> (5)\n",
       "(3) - -> (6)\n",
       "@enduml\n",
       "\n",
       "PlantUML version 1.2022.7beta11(Unknown compile time)\n",
       "(GPL source distribution)\n",
       "Java Runtime: Java(TM) SE Runtime Environment\n",
       "JVM: Java HotSpot(TM) 64-Bit Server VM\n",
       "Default Encoding: UTF-8\n",
       "Language: en\n",
       "Country: US\n",
       "--></g></svg>"
      ],
      "text/plain": [
       "<IPython.core.display.SVG object>"
      ]
     },
     "execution_count": 4,
     "metadata": {},
     "output_type": "execute_result"
    }
   ],
   "source": [
    "%%plantuml\n",
    "@startuml\n",
    "(1) --> (2)\n",
    "(1) --> (3)\n",
    "(2) --> (4)\n",
    "(2) --> (5)\n",
    "(3) --> (6)\n",
    "@enduml"
   ]
  },
  {
   "cell_type": "code",
   "execution_count": 5,
   "metadata": {},
   "outputs": [
    {
     "name": "stdout",
     "output_type": "stream",
     "text": [
      "4 2 5 1 6 3 "
     ]
    }
   ],
   "source": [
    "def inorder_tree_traversal(root):\n",
    "    if root:\n",
    "        inorder_tree_traversal(root.left)\n",
    "        print(root.data, end=\" \")\n",
    "        inorder_tree_traversal(root.right)\n",
    "inorder_tree_traversal(root)"
   ]
  },
  {
   "cell_type": "code",
   "execution_count": 6,
   "metadata": {},
   "outputs": [
    {
     "name": "stdout",
     "output_type": "stream",
     "text": [
      "4 5 2 6 3 1 "
     ]
    }
   ],
   "source": [
    "def postorder_tree_traversal(root):\n",
    "    if root:\n",
    "        postorder_tree_traversal(root.left)\n",
    "        postorder_tree_traversal(root.right)\n",
    "        print(root.data, end=\" \")\n",
    "postorder_tree_traversal(root)"
   ]
  },
  {
   "cell_type": "code",
   "execution_count": 7,
   "metadata": {},
   "outputs": [
    {
     "name": "stdout",
     "output_type": "stream",
     "text": [
      "1 2 4 5 3 6 "
     ]
    }
   ],
   "source": [
    "def preorder_tree_traversal(root):\n",
    "    if root:\n",
    "        print(root.data, end=\" \")\n",
    "        preorder_tree_traversal(root.left)\n",
    "        preorder_tree_traversal(root.right)\n",
    "preorder_tree_traversal(root)"
   ]
  },
  {
   "cell_type": "code",
   "execution_count": 8,
   "metadata": {},
   "outputs": [
    {
     "data": {
      "text/plain": [
       "2"
      ]
     },
     "execution_count": 8,
     "metadata": {},
     "output_type": "execute_result"
    }
   ],
   "source": [
    "def height(root):\n",
    "    if not root:\n",
    "        return -1\n",
    "    ldepth = height(root.left)\n",
    "    rdepth = height(root.right)\n",
    "    return max(ldepth, rdepth) + 1\n",
    "height(root)"
   ]
  },
  {
   "cell_type": "markdown",
   "metadata": {},
   "source": [
    "## Binary Tree from list"
   ]
  },
  {
   "cell_type": "code",
   "execution_count": 9,
   "metadata": {},
   "outputs": [],
   "source": [
    "def binary_tree(nodes: list) -> BinaryTreeNode:\n",
    "    if not nodes: return None\n",
    "    from collections import deque\n",
    "    queue = deque()\n",
    "    root = BinaryTreeNode(nodes[0])\n",
    "    queue.append(root)\n",
    "    for i in range(len(nodes) // 2):\n",
    "        node = queue.popleft()\n",
    "        while not node:\n",
    "            node = queue.popleft()\n",
    "            if not queue: return root\n",
    "        node.left = None if nodes[2*i+1] is None else BinaryTreeNode(nodes[2*i+1])\n",
    "        node.right = None if nodes[2*i+2] is None else BinaryTreeNode(nodes[2*i+2])\n",
    "        queue.append(node.left)\n",
    "        queue.append(node.right)\n",
    "    return root"
   ]
  },
  {
   "cell_type": "markdown",
   "metadata": {},
   "source": [
    "## Test If a binary tree is height-balanced"
   ]
  },
  {
   "cell_type": "code",
   "execution_count": 10,
   "metadata": {},
   "outputs": [
    {
     "name": "stdout",
     "output_type": "stream",
     "text": [
      "Writing output for /home/shaker/Documents/Github/AlgoRhythms/EPI/ccb3aaaa-ffe8-47be-8cb1-71dd2afb9276.uml to ccb3aaaa-ffe8-47be-8cb1-71dd2afb9276.svg\n"
     ]
    },
    {
     "data": {
      "image/svg+xml": [
       "<svg xmlns=\"http://www.w3.org/2000/svg\" xmlns:xlink=\"http://www.w3.org/1999/xlink\" contentStyleType=\"text/css\" height=\"397px\" preserveAspectRatio=\"none\" style=\"width:440px;height:397px;background:#FFFFFF;\" version=\"1.1\" viewBox=\"0 0 440 397\" width=\"440px\" zoomAndPan=\"magnify\"><defs/><g><g id=\"elem_A\"><ellipse cx=\"290.0563\" cy=\"20.5236\" fill=\"#F1F1F1\" rx=\"18.5563\" ry=\"14.5236\" style=\"stroke:#181818;stroke-width:0.5;\"/><text fill=\"#000000\" font-family=\"sans-serif\" font-size=\"14\" lengthAdjust=\"spacing\" textLength=\"10\" x=\"285.0563\" y=\"23.3703\">A</text></g><g id=\"elem_B\"><ellipse cx=\"238.0563\" cy=\"109.5236\" fill=\"#F1F1F1\" rx=\"18.5563\" ry=\"14.5236\" style=\"stroke:#181818;stroke-width:0.5;\"/><text fill=\"#000000\" font-family=\"sans-serif\" font-size=\"14\" lengthAdjust=\"spacing\" textLength=\"10\" x=\"233.0563\" y=\"112.3703\">B</text></g><g id=\"elem_C\"><ellipse cx=\"133.0563\" cy=\"198.5236\" fill=\"#F1F1F1\" rx=\"18.5563\" ry=\"14.5236\" style=\"stroke:#181818;stroke-width:0.5;\"/><text fill=\"#000000\" font-family=\"sans-serif\" font-size=\"14\" lengthAdjust=\"spacing\" textLength=\"10\" x=\"128.0563\" y=\"201.3703\">C</text></g><g id=\"elem_H\"><ellipse cx=\"238.0563\" cy=\"198.5236\" fill=\"#F1F1F1\" rx=\"18.5563\" ry=\"14.5236\" style=\"stroke:#181818;stroke-width:0.5;\"/><text fill=\"#000000\" font-family=\"sans-serif\" font-size=\"14\" lengthAdjust=\"spacing\" textLength=\"10\" x=\"233.0563\" y=\"201.3703\">H</text></g><g id=\"elem_D\"><ellipse cx=\"58.7635\" cy=\"287.5236\" fill=\"#F1F1F1\" rx=\"19.2635\" ry=\"14.5236\" style=\"stroke:#181818;stroke-width:0.5;\"/><text fill=\"#000000\" font-family=\"sans-serif\" font-size=\"14\" lengthAdjust=\"spacing\" textLength=\"11\" x=\"53.2635\" y=\"290.3703\">D</text></g><g id=\"elem_G\"><ellipse cx=\"132.7635\" cy=\"287.5236\" fill=\"#F1F1F1\" rx=\"19.2635\" ry=\"14.5236\" style=\"stroke:#181818;stroke-width:0.5;\"/><text fill=\"#000000\" font-family=\"sans-serif\" font-size=\"14\" lengthAdjust=\"spacing\" textLength=\"11\" x=\"127.2635\" y=\"290.3703\">G</text></g><g id=\"elem_E\"><ellipse cx=\"23.8492\" cy=\"376.5236\" fill=\"#F1F1F1\" rx=\"17.8492\" ry=\"14.5236\" style=\"stroke:#181818;stroke-width:0.5;\"/><text fill=\"#000000\" font-family=\"sans-serif\" font-size=\"14\" lengthAdjust=\"spacing\" textLength=\"9\" x=\"19.3492\" y=\"379.3703\">E</text></g><g id=\"elem_F\"><ellipse cx=\"94.7739\" cy=\"376.4192\" fill=\"#F1F1F1\" rx=\"17.2739\" ry=\"14.4192\" style=\"stroke:#181818;stroke-width:0.5;\"/><text fill=\"#000000\" font-family=\"sans-serif\" font-size=\"14\" lengthAdjust=\"spacing\" textLength=\"8\" x=\"90.7739\" y=\"379.2658\">F</text></g><g id=\"elem_I\"><ellipse cx=\"203.9517\" cy=\"287.3613\" fill=\"#F1F1F1\" rx=\"15.9517\" ry=\"13.3613\" style=\"stroke:#181818;stroke-width:0.5;\"/><text fill=\"#000000\" font-family=\"sans-serif\" font-size=\"14\" lengthAdjust=\"spacing\" textLength=\"4\" x=\"201.9517\" y=\"290.208\">I</text></g><g id=\"elem_J\"><ellipse cx=\"270.9517\" cy=\"287.3613\" fill=\"#F1F1F1\" rx=\"15.9517\" ry=\"13.3613\" style=\"stroke:#181818;stroke-width:0.5;\"/><text fill=\"#000000\" font-family=\"sans-serif\" font-size=\"14\" lengthAdjust=\"spacing\" textLength=\"4\" x=\"268.9517\" y=\"290.208\">J</text></g><g id=\"elem_K\"><ellipse cx=\"342.0563\" cy=\"109.5236\" fill=\"#F1F1F1\" rx=\"18.5563\" ry=\"14.5236\" style=\"stroke:#181818;stroke-width:0.5;\"/><text fill=\"#000000\" font-family=\"sans-serif\" font-size=\"14\" lengthAdjust=\"spacing\" textLength=\"10\" x=\"337.0563\" y=\"112.3703\">K</text></g><g id=\"elem_L\"><ellipse cx=\"341.7739\" cy=\"198.4192\" fill=\"#F1F1F1\" rx=\"17.2739\" ry=\"14.4192\" style=\"stroke:#181818;stroke-width:0.5;\"/><text fill=\"#000000\" font-family=\"sans-serif\" font-size=\"14\" lengthAdjust=\"spacing\" textLength=\"8\" x=\"337.7739\" y=\"201.2658\">L</text></g><g id=\"elem_M\"><ellipse cx=\"341.9706\" cy=\"287.5236\" fill=\"#F1F1F1\" rx=\"19.9706\" ry=\"14.5236\" style=\"stroke:#181818;stroke-width:0.5;\"/><text fill=\"#000000\" font-family=\"sans-serif\" font-size=\"14\" lengthAdjust=\"spacing\" textLength=\"12\" x=\"335.9706\" y=\"290.3703\">M</text></g><g id=\"elem_N\"><ellipse cx=\"416.0563\" cy=\"287.5236\" fill=\"#F1F1F1\" rx=\"18.5563\" ry=\"14.5236\" style=\"stroke:#181818;stroke-width:0.5;\"/><text fill=\"#000000\" font-family=\"sans-serif\" font-size=\"14\" lengthAdjust=\"spacing\" textLength=\"10\" x=\"411.0563\" y=\"290.3703\">N</text></g><g id=\"elem_O\"><ellipse cx=\"413.7635\" cy=\"198.5236\" fill=\"#F1F1F1\" rx=\"19.2635\" ry=\"14.5236\" style=\"stroke:#181818;stroke-width:0.5;\"/><text fill=\"#000000\" font-family=\"sans-serif\" font-size=\"14\" lengthAdjust=\"spacing\" textLength=\"11\" x=\"408.2635\" y=\"201.3703\">O</text></g><!--MD5=[5e2eec62a50b26b6b0db6c12e4ee289c]\n",
       "link A to B--><g id=\"link_A_B\"><path d=\"M282.55,33.965 C273.514,49.082 258.242,74.634 248.139,91.536 \" fill=\"none\" id=\"A-to-B\" style=\"stroke:#181818;stroke-width:1.0;\"/><polygon fill=\"#181818\" points=\"245.437,96.058,253.4885,90.3859,248.0028,91.7665,246.6222,86.2807,245.437,96.058\" style=\"stroke:#181818;stroke-width:1.0;\"/></g><!--MD5=[cd25d8247324207f828a4db9f58ed69d]\n",
       "link B to C--><g id=\"link_B_C\"><path d=\"M225.543,120.822 C206.496,136.604 170.136,166.73 149.108,184.153 \" fill=\"none\" id=\"B-to-C\" style=\"stroke:#181818;stroke-width:1.0;\"/><polygon fill=\"#181818\" points=\"145.117,187.46,154.5993,184.7979,148.9671,184.2699,149.4951,178.6378,145.117,187.46\" style=\"stroke:#181818;stroke-width:1.0;\"/></g><!--MD5=[9716e23ad6e0799522a36e7961875af1]\n",
       "link B to H--><g id=\"link_B_H\"><path d=\"M238,124.094 C238,138.692 238,162.001 238,178.429 \" fill=\"none\" id=\"B-to-H\" style=\"stroke:#181818;stroke-width:1.0;\"/><polygon fill=\"#181818\" points=\"238,183.715,242,174.715,238,178.715,234,174.715,238,183.715\" style=\"stroke:#181818;stroke-width:1.0;\"/></g><!--MD5=[95ca888c4bb7ed1df160562281720a5c]\n",
       "link C to D--><g id=\"link_C_D\"><path d=\"M123.326,210.874 C110.324,226.16 87.1507,253.404 72.455,270.681 \" fill=\"none\" id=\"C-to-D\" style=\"stroke:#181818;stroke-width:1.0;\"/><polygon fill=\"#181818\" points=\"68.9128,274.846,77.7912,270.5828,72.1526,271.0376,71.6978,265.3991,68.9128,274.846\" style=\"stroke:#181818;stroke-width:1.0;\"/></g><!--MD5=[80a3efbc162ec9a29a5e48a2a8b8bfdd]\n",
       "link C to G--><g id=\"link_C_G\"><path d=\"M133,213.094 C133,227.692 133,251.001 133,267.429 \" fill=\"none\" id=\"C-to-G\" style=\"stroke:#181818;stroke-width:1.0;\"/><polygon fill=\"#181818\" points=\"133,272.715,137,263.715,133,267.715,129,263.715,133,272.715\" style=\"stroke:#181818;stroke-width:1.0;\"/></g><!--MD5=[9ee2c6850258a89d754920901add40c0]\n",
       "link D to E--><g id=\"link_D_E\"><path d=\"M53.6843,301.7134 C47.6879,316.6187 37.9026,340.942 31.2183,357.5573 \" fill=\"none\" id=\"D-to-E\" style=\"stroke:#181818;stroke-width:1.0;\"/><polygon fill=\"#181818\" points=\"29.2511,362.4473,36.3211,355.5906,31.1172,357.8086,28.8992,352.6047,29.2511,362.4473\" style=\"stroke:#181818;stroke-width:1.0;\"/></g><!--MD5=[b5b953319cf24ea105ede322ce2bfc63]\n",
       "link D to F--><g id=\"link_D_F\"><path d=\"M64.4676,301.7134 C70.6353,316.6187 80.7002,340.942 87.5754,357.5573 \" fill=\"none\" id=\"D-to-F\" style=\"stroke:#181818;stroke-width:1.0;\"/><polygon fill=\"#181818\" points=\"89.5989,362.4473,89.8539,352.6017,87.6872,357.8272,82.4618,355.6605,89.5989,362.4473\" style=\"stroke:#181818;stroke-width:1.0;\"/></g><!--MD5=[7d7dacdd86ed224e8851a13334be42fd]\n",
       "link H to I--><g id=\"link_H_I\"><path d=\"M232.836,212.713 C226.876,227.963 217.064,253.072 210.567,269.697 \" fill=\"none\" id=\"H-to-I\" style=\"stroke:#181818;stroke-width:1.0;\"/><polygon fill=\"#181818\" points=\"208.665,274.564,215.6665,267.6373,210.4849,269.907,208.2153,264.7254,208.665,274.564\" style=\"stroke:#181818;stroke-width:1.0;\"/></g><!--MD5=[ba35221a6f08d391265bf52b96dbddba]\n",
       "link H to J--><g id=\"link_H_J\"><path d=\"M243.012,212.713 C248.764,227.877 258.213,252.788 264.519,269.415 \" fill=\"none\" id=\"H-to-J\" style=\"stroke:#181818;stroke-width:1.0;\"/><polygon fill=\"#181818\" points=\"266.368,274.288,266.9174,264.4545,264.5953,269.6128,259.437,267.2907,266.368,274.288\" style=\"stroke:#181818;stroke-width:1.0;\"/></g><!--MD5=[2b82573237f2c331154edf96a45fa0df]\n",
       "link A to K--><g id=\"link_A_K\"><path d=\"M297.45,33.965 C306.486,49.082 321.758,74.634 331.861,91.536 \" fill=\"none\" id=\"A-to-K\" style=\"stroke:#181818;stroke-width:1.0;\"/><polygon fill=\"#181818\" points=\"334.563,96.058,333.3778,86.2807,331.9972,91.7665,326.5115,90.3859,334.563,96.058\" style=\"stroke:#181818;stroke-width:1.0;\"/></g><!--MD5=[eada28b63b3843c3c30fc61fede252c5]\n",
       "link K to L--><g id=\"link_K_L\"><path d=\"M342,124.094 C342,138.692 342,162.001 342,178.429 \" fill=\"none\" id=\"K-to-L\" style=\"stroke:#181818;stroke-width:1.0;\"/><polygon fill=\"#181818\" points=\"342,183.715,346,174.715,342,178.715,338,174.715,342,183.715\" style=\"stroke:#181818;stroke-width:1.0;\"/></g><!--MD5=[680657d857fd7981444d7c9e9e58a27c]\n",
       "link L to M--><g id=\"link_L_M\"><path d=\"M342,213.094 C342,227.692 342,251.001 342,267.429 \" fill=\"none\" id=\"L-to-M\" style=\"stroke:#181818;stroke-width:1.0;\"/><polygon fill=\"#181818\" points=\"342,272.715,346,263.715,342,267.715,338,263.715,342,272.715\" style=\"stroke:#181818;stroke-width:1.0;\"/></g><!--MD5=[4ec426a3d3b67f6a5f64ed178cebc58c]\n",
       "link L to N--><g id=\"link_L_N\"><path d=\"M351.674,210.874 C364.748,226.245 388.107,253.707 402.789,270.968 \" fill=\"none\" id=\"L-to-N\" style=\"stroke:#181818;stroke-width:1.0;\"/><polygon fill=\"#181818\" points=\"406.323,275.123,403.538,265.6761,403.0832,271.3146,397.4446,270.8598,406.323,275.123\" style=\"stroke:#181818;stroke-width:1.0;\"/></g><!--MD5=[7de1d7f7d981e034e1170e318286d489]\n",
       "link K to O--><g id=\"link_K_O\"><path d=\"M351.71,122.233 C364.378,137.541 386.596,164.387 400.789,181.537 \" fill=\"none\" id=\"K-to-O\" style=\"stroke:#181818;stroke-width:1.0;\"/><polygon fill=\"#181818\" points=\"404.214,185.675,401.5557,176.1917,401.0255,181.8236,395.3935,181.2933,404.214,185.675\" style=\"stroke:#181818;stroke-width:1.0;\"/></g><!--MD5=[680f1aeb2d553fc850e26fd16e55d452]\n",
       "@startuml\n",
       "(A) - -> (B)\n",
       "(B) - -> (C)\n",
       "(B) - -> (H)\n",
       "(C) - -> (D)\n",
       "(C) - -> (G)\n",
       "(D) - -> (E)\n",
       "(D) - -> (F)\n",
       "(H) - -> (I)\n",
       "(H) - -> (J)\n",
       "(A) - -> (K)\n",
       "(K) - -> (L)\n",
       "(L) - -> (M)\n",
       "(L) - -> (N)\n",
       "(K) - -> (O)\n",
       "@enduml\n",
       "\n",
       "PlantUML version 1.2022.7beta11(Unknown compile time)\n",
       "(GPL source distribution)\n",
       "Java Runtime: Java(TM) SE Runtime Environment\n",
       "JVM: Java HotSpot(TM) 64-Bit Server VM\n",
       "Default Encoding: UTF-8\n",
       "Language: en\n",
       "Country: US\n",
       "--></g></svg>"
      ],
      "text/plain": [
       "<IPython.core.display.SVG object>"
      ]
     },
     "execution_count": 10,
     "metadata": {},
     "output_type": "execute_result"
    }
   ],
   "source": [
    "%%plantuml\n",
    "@startuml\n",
    "(A) --> (B)\n",
    "(B) --> (C)\n",
    "(B) --> (H)\n",
    "(C) --> (D)\n",
    "(C) --> (G)\n",
    "(D) --> (E)\n",
    "(D) --> (F)\n",
    "(H) --> (I)\n",
    "(H) --> (J)\n",
    "(A) --> (K)\n",
    "(K) --> (L)\n",
    "(L) --> (M)\n",
    "(L) --> (N)\n",
    "(K) --> (O)\n",
    "@enduml"
   ]
  },
  {
   "cell_type": "code",
   "execution_count": 11,
   "metadata": {},
   "outputs": [
    {
     "data": {
      "text/plain": [
       "False"
      ]
     },
     "execution_count": 11,
     "metadata": {},
     "output_type": "execute_result"
    }
   ],
   "source": [
    "def is_height_balanced(root):\n",
    "    if not root:\n",
    "        return 1\n",
    "    l = is_height_balanced(root.left)\n",
    "    r = is_height_balanced(root.right)\n",
    "    if not (l and r) or abs(l - r) > 1:\n",
    "        return False\n",
    "    else:\n",
    "        if abs(l - r) < 2:\n",
    "            return max(l, r) + 1\n",
    "root = binary_tree([\"A\", \"B\", \"K\", \"C\", \"H\", \"L\", \"O\", \"D\", \"G\", \"I\", \"J\", \"M\", \"N\", None, None, \"E\", \"F\"])\n",
    "root = binary_tree([3,9,20,None,None,15,7])\n",
    "root = binary_tree([1,2,2,3,3,None,None,4,4])\n",
    "bool(is_height_balanced(root))"
   ]
  },
  {
   "cell_type": "markdown",
   "metadata": {},
   "source": [
    "## Book Solution"
   ]
  },
  {
   "cell_type": "code",
   "execution_count": 12,
   "metadata": {},
   "outputs": [
    {
     "data": {
      "text/plain": [
       "True"
      ]
     },
     "execution_count": 12,
     "metadata": {},
     "output_type": "execute_result"
    }
   ],
   "source": [
    "def is_balanced_tree(root):\n",
    "    from collections import namedtuple\n",
    "    BalancedStatusWithHeight = namedtuple('BalancedStatusWithHeight', ('balanced', 'height'))\n",
    "    def check_balanced(tree):\n",
    "        if not tree:\n",
    "            return BalancedStatusWithHeight(True, -1)\n",
    "\n",
    "        left_result = check_balanced(tree.left)\n",
    "        if not left_result.balanced:\n",
    "            return BalancedStatusWithHeight(False, 0)\n",
    "        \n",
    "        right_result = check_balanced(tree.right)\n",
    "        if not right_result.balanced:\n",
    "            return BalancedStatusWithHeight(False, 0)\n",
    "\n",
    "        is_balanced = abs(left_result.height - right_result.height) <= 1\n",
    "        height = max(left_result.height, right_result.height) + 1\n",
    "        return BalancedStatusWithHeight(is_balanced, height)\n",
    "\n",
    "    return check_balanced(root).balanced\n",
    "root = binary_tree([1,2,2,3,3,None,None,4,4])\n",
    "root = binary_tree([3,9,20,None,None,15,7])\n",
    "is_balanced_tree(root)"
   ]
  },
  {
   "cell_type": "markdown",
   "metadata": {},
   "source": [
    "## Variants\n",
    "Q. Write a program that returns the size of the largest subtree that is complete\n",
    "\n",
    "Q. Define a node in a binary tree to be k-balanced if the difference in the number of nodes in its left and right subtrees is no more than k. Design an algorithm that takes as input a binary tree and positive integer k, and retums a node in the binary tree such that the node is not k-balanced, but all of its descendants are k-balanced. "
   ]
  },
  {
   "cell_type": "markdown",
   "metadata": {},
   "source": [
    "# Test if  a binary tree is symmetric"
   ]
  },
  {
   "cell_type": "markdown",
   "metadata": {},
   "source": [
    "## My Try with Py\n",
    "In this approach I am checking each level one by one if it is palindromic or not.\n",
    "I am storing every level in a list and then checking if it is a palimdrome. If this runs all the way then tree is symmetric else not symmetric."
   ]
  },
  {
   "cell_type": "code",
   "execution_count": 13,
   "metadata": {},
   "outputs": [
    {
     "data": {
      "text/plain": [
       "True"
      ]
     },
     "execution_count": 13,
     "metadata": {},
     "output_type": "execute_result"
    }
   ],
   "source": [
    "def is_tree_symmetric(root):\n",
    "    from collections import deque\n",
    "    queue = deque([root])\n",
    "    while queue:\n",
    "        level = []\n",
    "        while queue:\n",
    "            node = queue.popleft()\n",
    "            if node is not None:\n",
    "                level.extend([node.left, node.right])\n",
    "        if not all([(level[i].data if level[i] else None) == (level[~i].data if level[~i] else None) for i in range(len(level)//2)]):\n",
    "            return False\n",
    "        queue.extend(level)\n",
    "    return True\n",
    "root = binary_tree([1,2,2,3,4,4,3])\n",
    "is_tree_symmetric(root)"
   ]
  },
  {
   "cell_type": "markdown",
   "metadata": {},
   "source": [
    "## Better Approach\n",
    "We are comparing the left and right of all subtrees and if they are equal then inner function will return true or else false."
   ]
  },
  {
   "cell_type": "code",
   "execution_count": 14,
   "metadata": {},
   "outputs": [
    {
     "data": {
      "text/plain": [
       "True"
      ]
     },
     "execution_count": 14,
     "metadata": {},
     "output_type": "execute_result"
    }
   ],
   "source": [
    "def is_tree_symmetric(root):\n",
    "    def check_symmetric(subtree_0, subtree_1):\n",
    "        if not subtree_0 and not subtree_1:\n",
    "            return True\n",
    "        elif subtree_0 and subtree_1:\n",
    "            return (\n",
    "                subtree_0.data == subtree_1.data\n",
    "                and check_symmetric(subtree_0.left, subtree_1.right)\n",
    "                and check_symmetric(subtree_0.right, subtree_1.left)\n",
    "            )\n",
    "        return False\n",
    "    return not root or check_symmetric(root.left, root.right)\n",
    "root = binary_tree([1,2,2,3,4,4,3])\n",
    "is_tree_symmetric(root)"
   ]
  },
  {
   "cell_type": "markdown",
   "metadata": {},
   "source": [
    "# Compute the lowest common ancestor in a binary tree"
   ]
  },
  {
   "cell_type": "markdown",
   "metadata": {},
   "source": [
    "## My Try With Py\n",
    "in this I maintained a object which will be separated from the recursion stack and i manipulate my logic using that `status` object.\n",
    "I am checking after getting first element in the tree how far it has to go back in order to get the next element using DFS.\n",
    "Both elements should be in tree for my logic."
   ]
  },
  {
   "cell_type": "code",
   "execution_count": 15,
   "metadata": {},
   "outputs": [
    {
     "name": "stdout",
     "output_type": "stream",
     "text": [
      "1 2 4 5 8 9 3 6 7 "
     ]
    }
   ],
   "source": [
    "preorder_tree_traversal(binary_tree([1,2,3,4,5,6,7,None,None,8,9]))"
   ]
  },
  {
   "cell_type": "code",
   "execution_count": 16,
   "metadata": {},
   "outputs": [
    {
     "data": {
      "text/plain": [
       "BinaryTreeNode(data:3)"
      ]
     },
     "execution_count": 16,
     "metadata": {},
     "output_type": "execute_result"
    }
   ],
   "source": [
    "def lca(root, p, q):\n",
    "    #from collections import namedtuple\n",
    "    #status = namedtuple(\"status\", (\"flag\", \"final\", \"min_depth\", \"ca\"))\n",
    "    class status:\n",
    "        def __init__(self, flag, final, min_depth, ca):\n",
    "            self.flag = flag\n",
    "            self.final = final \n",
    "            self.min_depth = min_depth\n",
    "            self.ca = ca\n",
    "    Status = status(0, None, float(\"inf\"), None)\n",
    "\n",
    "    def dfs(root, depth=0):\n",
    "        depth += 1\n",
    "        if not root: return None\n",
    "        if root.data == p or root.data == q:\n",
    "            if not Status.flag:\n",
    "                Status.min_depth = depth\n",
    "                Status.flag = 1\n",
    "            else:\n",
    "                Status.final = Status.ca\n",
    "\n",
    "        dfs(root.left, depth)\n",
    "        if Status.min_depth > depth:\n",
    "            Status.min_depth = depth\n",
    "            Status.ca = root\n",
    "        \n",
    "        dfs(root.right, depth)\n",
    "        if Status.min_depth > depth:\n",
    "            Status.min_depth = depth\n",
    "            Status.ca = root\n",
    "\n",
    "    dfs(root)\n",
    "    return Status.final\n",
    "\n",
    "root = binary_tree([1,2,3,4,5,6,7,None,None,8,9])\n",
    "root = binary_tree([3,5,1,6,2,0,8,None,None,7,4])\n",
    "lca(root,5,1)"
   ]
  },
  {
   "cell_type": "markdown",
   "metadata": {},
   "source": [
    "## Book Approach\n",
    "Ok so this is quite interesting. Logic was quite simple.\n",
    "We have just to find the smallest subtree which are going to have both the elements.\n",
    "\n",
    "We do that by performing DFS. First we traverse deep into the left subtree then we return ancestor as None in the leaf. From there we get back up the stack and check where we first find the two elements. In whatever subtree we find both elements we return it's root.\n",
    "\n",
    "Time-complexity: O(h), O(1)"
   ]
  },
  {
   "cell_type": "code",
   "execution_count": null,
   "metadata": {},
   "outputs": [],
   "source": [
    "def lca(tree, node0, node1):\n",
    "    from collections import namedtuple\n",
    "    Status = namedtuple(\"Status\", (\"num_target_nodes\", \"ancestor\"))\n",
    "    def lca_helper(tree, node0, node1):\n",
    "        if not tree:\n",
    "            return Status(0, None)\n",
    "        \n",
    "        left_result = lca_helper(tree.left, node0, node1)\n",
    "        if left_result.num_target_nodes == 2:\n",
    "            # Found both in left subtree\n",
    "            return left_result\n",
    "        \n",
    "        right_result = lca_helper(tree.right, node0, node1)\n",
    "        if right_result.num_target_nodes == 2:\n",
    "            # Found both in right subtree\n",
    "            return right_result\n",
    "        \n",
    "        num_target_nodes = (\n",
    "            left_result.num_target_nodes + right_result.num_target_nodes\n",
    "            + int(tree is node0) + int(tree is node1)\n",
    "        )\n",
    "        return Status(num_target_nodes, tree if num_target_nodes == 2 else None)\n",
    "    return lca_helper(tree, node0, node1).ancestor"
   ]
  },
  {
   "cell_type": "markdown",
   "metadata": {},
   "source": [
    "# Sum the root to leaf paths in a binary tree"
   ]
  },
  {
   "attachments": {
    "f432f308-c74e-465d-bd7e-202fd3039064.png": {
     "image/png": "[encoded data removed]"
    }
   },
   "cell_type": "markdown",
   "metadata": {},
   "source": [
    "![image.png](attachment:f432f308-c74e-465d-bd7e-202fd3039064.png)"
   ]
  },
  {
   "cell_type": "markdown",
   "metadata": {},
   "source": [
    "There is a binary tree where each node contains a binary digit. A root to leaf path node can be associated as a binary number(MSB at root, LSB at leaf).\n",
    "\n",
    "e.g. in above tree we have $(1000)_2, (1001)_2, (10110)_2,$etc.\n",
    "\n",
    "Design an alogrithm to calculate the sum of binary numbers represented by root to leaf paths."
   ]
  },
  {
   "cell_type": "markdown",
   "metadata": {},
   "source": [
    "## My Try With Py"
   ]
  },
  {
   "cell_type": "code",
   "execution_count": 48,
   "metadata": {},
   "outputs": [
    {
     "data": {
      "text/plain": [
       "[21]"
      ]
     },
     "execution_count": 48,
     "metadata": {},
     "output_type": "execute_result"
    }
   ],
   "source": [
    "def rl_sum(root):\n",
    "    res = [0]\n",
    "    def dfs(root, num=root.data):\n",
    "        if not (root.left or root.right):\n",
    "            #res[0] += binary_to_int(num)\n",
    "            res[0] += num\n",
    "        if root.left: \n",
    "            dfs(root.left, num*2 + root.left.data)\n",
    "        if root.right:\n",
    "            dfs(root.right, num*2 + root.right.data)\n",
    "    dfs(root)\n",
    "    return res\n",
    "root = binary_tree([1,0,1,0,1,0,0])\n",
    "rl_sum(root)"
   ]
  },
  {
   "cell_type": "markdown",
   "metadata": {},
   "source": [
    "# Book Approach"
   ]
  },
  {
   "cell_type": "code",
   "execution_count": null,
   "metadata": {},
   "outputs": [],
   "source": [
    "def rl_sum(tree, partial_path_sum=0):\n",
    "    if not tree:\n",
    "        return 0\n",
    "    \n",
    "    partial_path_sum = pari"
   ]
  }
 ],
 "metadata": {
  "kernelspec": {
   "display_name": "Python 3 (ipykernel)",
   "language": "python",
   "name": "python3"
  },
  "language_info": {
   "codemirror_mode": {
    "name": "ipython",
    "version": 3
   },
   "file_extension": ".py",
   "mimetype": "text/x-python",
   "name": "python",
   "nbconvert_exporter": "python",
   "pygments_lexer": "ipython3",
   "version": "3.10.7"
  },
  "vscode": {
   "interpreter": {
    "hash": "916dbcbb3f70747c44a77c7bcd40155683ae19c65e1c03b4aa3499c5328201f1"
   }
  }
 },
 "nbformat": 4,
 "nbformat_minor": 4
}

{
 "cells": [
  {
   "cell_type": "markdown",
   "id": "4f6c2e51-83f2-4f7d-8b16-f5d4e1f2f36f",
   "metadata": {},
   "source": [
    "# Linked Lists"
   ]
  },
  {
   "cell_type": "code",
   "execution_count": 57,
   "id": "3440e659-4280-4cdf-87ea-2a23a6b5fdb8",
   "metadata": {},
   "outputs": [],
   "source": [
    "class ListNode:\n",
    "    def __init__(self, data=0, next_node=None):\n",
    "        self.data = data\n",
    "        self.next = next_node\n",
    "    def __repr__(self):\n",
    "        return f\"ListNode(data={self.data})\"\n",
    "\n",
    "def search_list(L, key):\n",
    "    while L and L.data != key:\n",
    "        L = L.next\n",
    "    return L # returns null if key not present\n",
    "\n",
    "def insert_after(node, new_node):\n",
    "    new_node.next = node.next\n",
    "    node.next = new_node\n",
    "\n",
    "# Assuming node is not a tail\n",
    "def delete_after(node):\n",
    "    node.next = node.next.next\n",
    "\n",
    "def print_list(node):\n",
    "    curr = node\n",
    "    while curr:\n",
    "        print(curr.data, end='->')\n",
    "        curr = curr.next\n",
    "    print('X')"
   ]
  },
  {
   "cell_type": "markdown",
   "id": "844a8d3c-3ac2-4a80-b00b-747fc664637f",
   "metadata": {},
   "source": [
    "# Merge two sorted lists\n",
    "Q. Consider two singly linked lists in which each node holds a number. Assume the lists are sorted. Merge the two lists so that returning list is also sorted."
   ]
  },
  {
   "cell_type": "code",
   "execution_count": 58,
   "id": "37d827c8-9503-40be-bb8a-aeaf98be0718",
   "metadata": {},
   "outputs": [],
   "source": [
    "def merge_sorted_lists(L1, L2):\n",
    "    res = ListNode()\n",
    "    L3 = res\n",
    "    while L1 and L2:\n",
    "        if L1.data <= L2.data:\n",
    "            insert_after(L3, ListNode(L1.data))\n",
    "            L1 = L1.next\n",
    "        else:\n",
    "            insert_after(L3, ListNode(L2.data))\n",
    "            L2 = L2.next\n",
    "        L3 = L3.next\n",
    "    while L1:\n",
    "        insert_after(L3, ListNode(L1.data))\n",
    "        L1 = L1.next\n",
    "        L3 = L3.next\n",
    "    while L2:\n",
    "        insert_after(L3, ListNode(L2.data))\n",
    "        L2 = L2.next\n",
    "        L3 = L3.next\n",
    "    return res.next"
   ]
  },
  {
   "cell_type": "markdown",
   "id": "9ac53406-49d9-4263-a874-bc509494e4c2",
   "metadata": {},
   "source": [
    "### Better Code"
   ]
  },
  {
   "cell_type": "code",
   "execution_count": 59,
   "id": "12602821-ac5a-49e1-834c-6c8d47bbc090",
   "metadata": {},
   "outputs": [],
   "source": [
    "def merge_two_sorted_lists(L1, L2):\n",
    "    dummy_head = tail = ListNode()\n",
    "    while L1 and L2:\n",
    "        if L1.data <= L2.data:\n",
    "            tail.next, L1 = L1, L1.next\n",
    "        else:\n",
    "            tail.next, L2 = L2, L2.next\n",
    "        tail = tail.next\n",
    "    tail.next = L1 or L2\n",
    "    return dummy_head.next"
   ]
  },
  {
   "cell_type": "markdown",
   "id": "c0dd13ae-b5fa-4b27-b65a-e7409c4d7818",
   "metadata": {},
   "source": [
    "## Reverse a single sublist\n",
    "Q. Write a program which takes a single linked list L and two integers s and f as arguments, and reverses the order of the nodes from the sth node to fth node, inclusive. the numbering begins at 1 i.e., the head node is the first node. Do not allocate additional nodes."
   ]
  },
  {
   "cell_type": "code",
   "execution_count": 60,
   "id": "7cec41c3-1fbb-4f2a-b162-91f477fe9646",
   "metadata": {},
   "outputs": [
    {
     "name": "stdout",
     "output_type": "stream",
     "text": [
      "0->1->2->3->4->5->6->7->8->9->10->X\n",
      "0->1->8->7->6->5->4->3->2->9->10->X\n"
     ]
    }
   ],
   "source": [
    "def reverse_sublist(L, s, f):\n",
    "    ptr = L\n",
    "    L_start = L\n",
    "    count = 1\n",
    "    \n",
    "    while count < f:\n",
    "        if count == s - 1:\n",
    "            temp = ptr\n",
    "            L_start = ptr.next\n",
    "        ptr = ptr.next\n",
    "        count += 1\n",
    "    prev = ptr.next\n",
    "    ptr.next = temp\n",
    "    \n",
    "    count = 1\n",
    "    curr = L_start\n",
    "    while count <= f - s + 2:\n",
    "        next = curr.next\n",
    "        curr.next = prev\n",
    "        prev, curr = curr, next\n",
    "        count += 1\n",
    "L = curr = ListNode()\n",
    "for i in range(10):\n",
    "    insert_after(curr, ListNode(i+1))\n",
    "    curr = curr.next\n",
    "print_list(L)\n",
    "reverse_sublist(L, 3, 9)\n",
    "print_list(L)"
   ]
  },
  {
   "cell_type": "markdown",
   "id": "26a0fb2e-0fc0-40ea-916d-0a1e449944f9",
   "metadata": {},
   "source": [
    "### Better Code"
   ]
  },
  {
   "cell_type": "code",
   "execution_count": 61,
   "id": "f46c1d40-e3d1-4f31-989d-ccf4e81616f3",
   "metadata": {},
   "outputs": [
    {
     "name": "stdout",
     "output_type": "stream",
     "text": [
      "0->1->2->3->4->5->6->7->8->9->10->X\n",
      "0->1->8->7->6->5->4->3->2->9->10->X\n"
     ]
    }
   ],
   "source": [
    "def reverse_sublist(L, start, finish):\n",
    "    dummy_node = sublist_head = ListNode(0, L)\n",
    "    for _ in range(1, start):\n",
    "        sublist_head = sublist_head.next\n",
    "        \n",
    "    sublist_iter = sublist_head.next\n",
    "    for _ in range(finish - start):\n",
    "        temp = sublist_iter.next\n",
    "        sublist_iter.next = temp.next\n",
    "        temp.next = sublist_head.next\n",
    "        sublist_head.next = temp\n",
    "        \n",
    "    return dummy_node.next\n",
    "L = curr = ListNode()\n",
    "for i in range(10):\n",
    "    insert_after(curr, ListNode(i+1))\n",
    "    curr = curr.next\n",
    "\n",
    "print_list(L)\n",
    "reverse_sublist(L, 3, 9)\n",
    "print_list(L)"
   ]
  },
  {
   "cell_type": "markdown",
   "id": "a0360824-6cba-4e66-b72a-2120e234b174",
   "metadata": {},
   "source": [
    "## Test for cyclicity\n",
    "Q. Write a program that takes the head of the singly linked list and returns null if there does not exist a cycle, and the node at the start of the cycle, if a cycle is present."
   ]
  },
  {
   "cell_type": "markdown",
   "id": "53fe40b7-e75e-4eca-8007-1758975df888",
   "metadata": {},
   "source": [
    "### My try with Py\n",
    "following solution uses O(n) space."
   ]
  },
  {
   "cell_type": "code",
   "execution_count": 62,
   "id": "77bd2206-e128-49b0-9f2d-029e938ca18a",
   "metadata": {},
   "outputs": [
    {
     "data": {
      "text/plain": [
       "ListNode(data=1)"
      ]
     },
     "execution_count": 62,
     "metadata": {},
     "output_type": "execute_result"
    }
   ],
   "source": [
    "def test_cyclicity(L):\n",
    "    s = set()\n",
    "    ptr = L\n",
    "    while ptr and ptr not in s:\n",
    "        s.add(ptr)\n",
    "        ptr = ptr.next\n",
    "    return ptr\n",
    "head = curr = ListNode(1)\n",
    "insert_after(curr, ListNode(2))\n",
    "curr = curr.next\n",
    "insert_after(curr, ListNode(3))\n",
    "curr = curr.next\n",
    "curr.next = head\n",
    "test_cyclicity(head)"
   ]
  },
  {
   "cell_type": "markdown",
   "id": "704f55fb-1087-46e2-9619-743705a93717",
   "metadata": {},
   "source": [
    "Without additional space.\n",
    "keep increasing the fast iterator. If there is a cycle then fast iterator will be behind slow at one time. And that's when we return True knowing that there is a cycle. But we can't return the head of cycle.\n",
    "I don't know the maths but fast iterator somehow can match or be just before the slow iterator in the loop"
   ]
  },
  {
   "cell_type": "code",
   "execution_count": 63,
   "id": "a21b2c72-e6ab-4101-bdb1-abd385f09be5",
   "metadata": {},
   "outputs": [
    {
     "name": "stdout",
     "output_type": "stream",
     "text": [
      "True\n"
     ]
    }
   ],
   "source": [
    "def test_cyclicity(L):\n",
    "    norm = fast = L\n",
    "    count = 1\n",
    "    while norm:\n",
    "        speed = count\n",
    "        while speed and fast:\n",
    "            if fast.next == norm:\n",
    "                return True\n",
    "            if fast.next == None:\n",
    "                return False\n",
    "            fast = fast.next\n",
    "            speed -= 1\n",
    "        count += 1\n",
    "        norm = norm.next\n",
    "\n",
    "head = curr = ListNode(1)\n",
    "insert_after(curr, ListNode(2))\n",
    "curr = curr.next\n",
    "insert_after(curr, ListNode(3))\n",
    "curr = curr.next\n",
    "insert_after(curr, ListNode(4))\n",
    "curr = curr.next\n",
    "curr.next = head\n",
    "print(test_cyclicity(head))"
   ]
  },
  {
   "cell_type": "markdown",
   "id": "b2e94c77-0616-44da-a96a-65fe86be31df",
   "metadata": {},
   "source": [
    "### Book solution\n"
   ]
  },
  {
   "cell_type": "markdown",
   "id": "89aeb9fb-40dd-4449-bf2f-7964ee4fe651",
   "metadata": {
    "tags": []
   },
   "source": [
    "#### BruteForce (My implementation)\n",
    "we can have two iterators outer loop and inner loop.\n",
    "\n",
    "Outer loop traverses one by one and inner loop traverses the same length traversed by outer loop. if the node is reached twice by inner loop then it contains the cycle.\n",
    "\n",
    "Time: $O(n^2)$"
   ]
  },
  {
   "cell_type": "code",
   "execution_count": 64,
   "id": "9583e2bf-8eee-4faa-81c1-f5622ec8c751",
   "metadata": {},
   "outputs": [
    {
     "name": "stdout",
     "output_type": "stream",
     "text": [
      "ListNode(data=1)\n"
     ]
    }
   ],
   "source": [
    "def has_cycle(L):\n",
    "    outer = inner = L\n",
    "    outer_len = 0\n",
    "    while outer:\n",
    "        inner_len = outer_len\n",
    "        count = 0\n",
    "        while inner_len:\n",
    "            if inner == outer:\n",
    "                count += 1\n",
    "                if count == 2:\n",
    "                    return inner \n",
    "            inner = inner.next\n",
    "            inner_len -= 1\n",
    "        # resetting inner to start of list\n",
    "        inner = L\n",
    "        outer = outer.next\n",
    "        outer_len += 1\n",
    "    return outer\n",
    "\n",
    "head = curr = ListNode(1)\n",
    "insert_after(curr, ListNode(2))\n",
    "curr = curr.next\n",
    "insert_after(curr, ListNode(3))\n",
    "curr = curr.next\n",
    "insert_after(curr, ListNode(4))\n",
    "curr = curr.next\n",
    "curr.next = head\n",
    "print(has_cycle(head))"
   ]
  },
  {
   "cell_type": "markdown",
   "id": "4470835d-f55b-4708-985e-ebfa01d78ea5",
   "metadata": {},
   "source": [
    "Now doing it in O(n) time.\n",
    "We can use two iterators one fast and one slow. slow iterator steps one at a time and fast iterator steps two at a time. If there's a loop they'll meet eventually. why they'll meet? Because fast iterator will jump over the slow iterator and the slow iterator will equal the fast iterator eventually.\n",
    "\n",
    "But the problem is finding the head of the loop. Once we know that there is a cycle we can first calculate the length of cycle say C. then we'll start from the head of list again and the first node which is equal to the node which is C after is the first element of the cycle."
   ]
  },
  {
   "cell_type": "code",
   "execution_count": 65,
   "id": "256b8568-0e74-4bc4-ae16-e9411280f0c9",
   "metadata": {},
   "outputs": [
    {
     "name": "stdout",
     "output_type": "stream",
     "text": [
      "ListNode(data=1)\n"
     ]
    }
   ],
   "source": [
    "def has_cycle(L):\n",
    "    def len_cycle(cycle_head):\n",
    "        \"\"\"finding the length of the cycle.\"\"\"\n",
    "        step = 1\n",
    "        left = cycle_head\n",
    "        right = left.next\n",
    "        while right != left:\n",
    "            step += 1\n",
    "            right = right.next\n",
    "        return step\n",
    "    \n",
    "    fast = slow = L\n",
    "    while fast and fast.next and fast.next.next:\n",
    "        slow = slow.next\n",
    "        fast = fast.next.next\n",
    "        if slow == fast:\n",
    "            cycle_len = len_cycle(slow)\n",
    "            after_cycle_len = L\n",
    "            for _ in range(cycle_len):\n",
    "                after_cycle_len = after_cycle_len.next\n",
    "            while L != after_cycle_len:\n",
    "                L = L.next\n",
    "                after_cycle_len = after_cycle_len.next\n",
    "            return after_cycle_len\n",
    "    return False\n",
    "head = curr = ListNode(1)\n",
    "insert_after(curr, ListNode(2))\n",
    "curr = curr.next\n",
    "insert_after(curr, ListNode(3))\n",
    "curr = curr.next\n",
    "insert_after(curr, ListNode(4))\n",
    "curr = curr.next\n",
    "curr.next = head\n",
    "print(has_cycle(head))"
   ]
  },
  {
   "cell_type": "markdown",
   "id": "8c48ac05-7699-47e5-bbb6-195ab0a1627e",
   "metadata": {},
   "source": [
    "# Test for overlapping lists\n",
    "Q. Given two singly linked list there may be list nodes that are common to both. Write a program that takes two cycle-free singly linked lists, and determines if there exists a node that is common to both lists."
   ]
  },
  {
   "cell_type": "markdown",
   "id": "86884e1a-7da4-44c4-b4a5-31245c464d7e",
   "metadata": {},
   "source": [
    "## My Try with Py\n",
    "We will have two pointers for every pointer in one list another pointer will iterate through whole list and if at any point of time two of those pointer point to the same node then the linked lists are overlapping.\n",
    "time- $O(n^2)$"
   ]
  },
  {
   "cell_type": "code",
   "execution_count": 66,
   "id": "a2374d2f-9858-4e68-8d83-986d5f89af7c",
   "metadata": {},
   "outputs": [
    {
     "data": {
      "text/plain": [
       "True"
      ]
     },
     "execution_count": 66,
     "metadata": {},
     "output_type": "execute_result"
    }
   ],
   "source": [
    "def are_overlapping(L1, L2):\n",
    "    a, b = L1, L2\n",
    "    while a:\n",
    "        b = L2\n",
    "        while b:\n",
    "            if a is b:\n",
    "                return True\n",
    "            b = b.next\n",
    "        a = a.next\n",
    "    return False\n",
    "\n",
    "head1 = curr1 = ListNode(1)\n",
    "head2 = curr2 = ListNode(2)\n",
    "c = ListNode(3)\n",
    "d = ListNode(4)\n",
    "insert_after(curr1, c)\n",
    "insert_after(curr2, c)\n",
    "are_overlapping(head1, head2)"
   ]
  },
  {
   "cell_type": "markdown",
   "id": "f3f9926a-7cbb-4d31-a833-a9c6955ee7c9",
   "metadata": {},
   "source": [
    "Using hashtable to store nodes then another loop to see if the node is already in hashtable:"
   ]
  },
  {
   "cell_type": "code",
   "execution_count": 67,
   "id": "f12e6b9e-f911-44ea-98e5-90ae37a5f724",
   "metadata": {},
   "outputs": [
    {
     "data": {
      "text/plain": [
       "ListNode(data=4)"
      ]
     },
     "execution_count": 67,
     "metadata": {},
     "output_type": "execute_result"
    }
   ],
   "source": [
    "def are_overlapping(l1, l2):\n",
    "    used = set()\n",
    "    while l1:\n",
    "        used.add(l1)\n",
    "        l1 = l1.next\n",
    "    while l2:\n",
    "        if l2 in used:\n",
    "            return l2\n",
    "        l2 = l2.next\n",
    "    return False\n",
    "\n",
    "head1 = curr1 = ListNode(1)\n",
    "head2 = curr2 = ListNode(2)\n",
    "c = ListNode(3)\n",
    "d = ListNode(4)\n",
    "insert_after(curr1, d)\n",
    "insert_after(curr2, d)\n",
    "are_overlapping(head1, head2)"
   ]
  },
  {
   "cell_type": "markdown",
   "id": "2357f7a4-05c1-453b-a838-dd39ebc070ec",
   "metadata": {},
   "source": [
    "If lists merge then they can't diverge so if they both have same tail then they are merged. then if we want to return the first node which is common then we can find out the length of smaller linked list and subtract it from bigger linked list's length. Subtracting them and adding one will give the position corresponding to the head of shorter one and then we can proceed further and whenever two nodes become same it is the head."
   ]
  },
  {
   "cell_type": "code",
   "execution_count": 68,
   "id": "e24e5711-6261-40c2-84a6-c33443b47bd6",
   "metadata": {},
   "outputs": [
    {
     "data": {
      "text/plain": [
       "False"
      ]
     },
     "execution_count": 68,
     "metadata": {},
     "output_type": "execute_result"
    }
   ],
   "source": [
    "def are_overlapping(l1, l2):\n",
    "    if not l1 or not l2:\n",
    "        return False\n",
    "    len1 = len2 = 1\n",
    "    cur1, cur2 = l1, l2\n",
    "    while cur1.next:\n",
    "        len1 += 1\n",
    "        cur1 = cur1.next\n",
    "    while cur2.next:\n",
    "        len2 += 1\n",
    "        cur2 = cur2.next\n",
    "    if cur1 is cur2:\n",
    "        if len1 == min(len1, len2):\n",
    "            small, big = l1, l2\n",
    "        else:\n",
    "            small, big = l2, l1\n",
    "        diff = abs(len1 - len2)\n",
    "        while diff:\n",
    "            big = big.next\n",
    "            diff -= 1\n",
    "        while big is not small:\n",
    "            small = small.next\n",
    "            big = big.next\n",
    "        return big \n",
    "    return False\n",
    "head1 = curr1 = ListNode(1)\n",
    "head2 = curr2 = ListNode(2)\n",
    "c = ListNode(3)\n",
    "d = ListNode(4)\n",
    "insert_after(curr1, c)\n",
    "insert_after(curr2, d)\n",
    "are_overlapping(head1, head2)"
   ]
  },
  {
   "cell_type": "markdown",
   "id": "0743a761-cc6f-430f-83a5-4995407bc985",
   "metadata": {},
   "source": [
    "### cleaner code"
   ]
  },
  {
   "cell_type": "code",
   "execution_count": 69,
   "id": "303dc2b3-0773-45d3-859d-179bdbf4b7ee",
   "metadata": {},
   "outputs": [
    {
     "data": {
      "text/plain": [
       "ListNode(data=4)"
      ]
     },
     "execution_count": 69,
     "metadata": {},
     "output_type": "execute_result"
    }
   ],
   "source": [
    "def overlapping_no_cycle_lists(L1, L2):\n",
    "    def length(L):\n",
    "        length = 0\n",
    "        while L:\n",
    "            length += 1\n",
    "            L = L.next\n",
    "        return length\n",
    "    \n",
    "    L1_len, L2_len = length(L1), length(L2)\n",
    "    if L1_len > L2_len:\n",
    "        L1, L2 = L1, L2 # L2 is the longer list\n",
    "    for _ in range(abs(L1_len - L2_len)):\n",
    "        L2 = L2.next\n",
    "        \n",
    "    while L1 and L2 and L1 is not L2:\n",
    "        L1, L2 = L1.next, L2.next\n",
    "    return L1\n",
    "head1 = curr1 = ListNode(1)\n",
    "head2 = curr2 = ListNode(2)\n",
    "c = ListNode(3)\n",
    "d = ListNode(4)\n",
    "insert_after(curr1, d)\n",
    "insert_after(curr2, d)\n",
    "are_overlapping(head1, head2)"
   ]
  },
  {
   "cell_type": "markdown",
   "id": "9a59de0a-28c5-4387-9b17-98fc6565475b",
   "metadata": {},
   "source": [
    "# Test for overlapping lists - lists may have cycles\n",
    "Q. Question same as above but now linked list may have cycles."
   ]
  },
  {
   "cell_type": "markdown",
   "id": "8ad1ae4e-f361-4eea-8ee5-ae047b2a157a",
   "metadata": {},
   "source": [
    "#### My Try With Py"
   ]
  },
  {
   "cell_type": "code",
   "execution_count": 70,
   "id": "17f840e4-7773-4347-a0ab-e7185d294381",
   "metadata": {},
   "outputs": [
    {
     "name": "stdout",
     "output_type": "stream",
     "text": [
      "True\n",
      "False\n"
     ]
    }
   ],
   "source": [
    "def overlapping_lists_with_cycle(l1, l2):\n",
    "    def has_cycle(head):\n",
    "        slow = fast = head\n",
    "        while fast and fast.next and fast.next.next:\n",
    "            slow = slow.next\n",
    "            fast = fast.next.next\n",
    "            if slow is fast:\n",
    "                return True, slow\n",
    "        return False, None\n",
    "    is_cycle_l1, l1_iter = has_cycle(l1)\n",
    "    is_cycle_l2, l2_iter = has_cycle(l2)\n",
    "    # if one has cycle and other doesn't\n",
    "    if is_cycle_l1 ^ is_cycle_l2: \n",
    "        return False\n",
    "    elif not is_cycle_l1 and not is_cycle_l2:\n",
    "        head1, head2 = l1, l2\n",
    "        while head1.next:\n",
    "            head1 = head1.next\n",
    "        while head2.next:\n",
    "            head2 = head2.next\n",
    "        if head1 is not head2:\n",
    "            return False\n",
    "        else:\n",
    "            return True\n",
    "    else:\n",
    "        if l1_iter is l2_iter:\n",
    "            return True\n",
    "        head = l1_iter\n",
    "        l1_iter = l1_iter.next\n",
    "        while l1_iter is not head:\n",
    "            if l1_iter is l2_iter:\n",
    "                return True\n",
    "            l1_iter = l1_iter.next\n",
    "        return False\n",
    "head1 = curr1 = ListNode(1)\n",
    "head2 = curr2 = ListNode(2)\n",
    "c = ListNode(3)\n",
    "d = ListNode(4)\n",
    "e = ListNode(5)\n",
    "f = ListNode(6)\n",
    "insert_after(curr1, c)\n",
    "curr1 = curr1.next\n",
    "insert_after(curr1, d)\n",
    "curr1 = curr1.next\n",
    "insert_after(curr1, e)\n",
    "curr1 = curr1.next\n",
    "insert_after(curr1, f)\n",
    "curr1 = curr1.next\n",
    "insert_after(curr1, d)\n",
    "insert_after(curr2, d)\n",
    "print(overlapping_lists_with_cycle(head1, head2))\n",
    "curr1 = a = ListNode(3)\n",
    "curr2 = b = ListNode(4)\n",
    "c = ListNode(1)\n",
    "d = ListNode(2)\n",
    "insert_after(curr1, c)\n",
    "curr1 = curr1.next\n",
    "insert_after(curr1, a)\n",
    "insert_after(curr2, d)\n",
    "curr2 = curr2.next\n",
    "insert_after(curr2, b)\n",
    "print(overlapping_lists_with_cycle(a, b))"
   ]
  },
  {
   "cell_type": "code",
   "execution_count": 71,
   "id": "77e3fcdd-e385-493d-96de-304394b016ba",
   "metadata": {},
   "outputs": [
    {
     "name": "stdout",
     "output_type": "stream",
     "text": [
      "ListNode(data=3)\n",
      "None\n"
     ]
    }
   ],
   "source": [
    "def overlapping_lists_with_cycle(head1, head2):\n",
    "    root1, root2 = has_cycle(head1), has_cycle(head2)\n",
    "    if root1 ^ root2:\n",
    "        return None \n",
    "    elif not root1 and not root2:\n",
    "        return overlapping_no_cycle_lists(head1, head2)\n",
    "    temp = root2\n",
    "    while True:\n",
    "        temp = temp.next\n",
    "        if temp is root1 or temp is root2:\n",
    "            break\n",
    "    if temp is not root1:\n",
    "        return None\n",
    "    def distance(a, b):\n",
    "        length = 0\n",
    "        while a is not b:\n",
    "            length += 1\n",
    "            a = a.next\n",
    "        return length\n",
    "    head1_stem_len, head2_stem_len = distance(head1, root1), distance(head2, root2)\n",
    "    #if they overlap before cycle starts\n",
    "    if stem1_length > stem2_length:\n",
    "        head1, head2 = head2, head1\n",
    "        root1, root2 = root2, root1\n",
    "    for _ in range(abs(head1_stem_len - head2_stem_len)):\n",
    "        head2 = head2.next\n",
    "    while head2 is not head1 and head1 is not root1 and head2 is not root2:\n",
    "        head1, head2 = head1.next, head2.next\n",
    "    return head1 if head1 is head2 else root1 \n",
    "head1 = curr1 = ListNode(1)\n",
    "head2 = curr2 = ListNode(2)\n",
    "c = ListNode(3)\n",
    "d = ListNode(4)\n",
    "e = ListNode(5)\n",
    "f = ListNode(6)\n",
    "insert_after(curr1, c)\n",
    "curr1 = curr1.next\n",
    "insert_after(curr1, d)\n",
    "curr1 = curr1.next\n",
    "insert_after(curr1, e)\n",
    "curr1 = curr1.next\n",
    "insert_after(curr1, f)\n",
    "curr1 = curr1.next\n",
    "insert_after(curr1, d)\n",
    "insert_after(curr2, d)\n",
    "print(overlapping_lists_with_cycle(head1, head2))\n",
    "curr1 = a = ListNode(3)\n",
    "curr2 = b = ListNode(4)\n",
    "c = ListNode(1)\n",
    "d = ListNode(2)\n",
    "insert_after(curr1, c)\n",
    "curr1 = curr1.next\n",
    "insert_after(curr1, a)\n",
    "insert_after(curr2, d)\n",
    "curr2 = curr2.next\n",
    "insert_after(curr2, b)\n",
    "print(overlapping_lists_with_cycle(a, b))"
   ]
  },
  {
   "cell_type": "markdown",
   "id": "0951690f-cb66-4468-ae5f-32638422c8ce",
   "metadata": {},
   "source": [
    "# Delete a Node"
   ]
  },
  {
   "cell_type": "code",
   "execution_count": 72,
   "id": "836fcb24-d036-4b71-829e-c4f49f1267d0",
   "metadata": {},
   "outputs": [],
   "source": [
    "def delete_from_list(head, node):\n",
    "    if head is node:\n",
    "        node.data = node.next.data\n",
    "        node.next = node.next.next\n",
    "        return\n",
    "    while head and head.next is not node:\n",
    "        head = head.next\n",
    "    head.next = node.next\n",
    "    node.next = None\n",
    "\n",
    "def delete_from_list(node):\n",
    "    if node.next is None:\n",
    "        del node\n",
    "        return\n",
    "    node.data = node.next.data\n",
    "    node.next = node.next.next"
   ]
  },
  {
   "cell_type": "markdown",
   "id": "5028b609-407c-4074-8904-cf3c0ae45cb9",
   "metadata": {},
   "source": [
    "# Remove the kth last element from a list"
   ]
  },
  {
   "cell_type": "code",
   "execution_count": 73,
   "id": "913e3506-0bc2-4c93-bae6-9e3221d2dcba",
   "metadata": {},
   "outputs": [
    {
     "name": "stdout",
     "output_type": "stream",
     "text": [
      "1->2->3->4->5->X\n",
      "2->3->4->5->X\n"
     ]
    }
   ],
   "source": [
    " def delete_from_last(head, k):\n",
    "    l_head = head\n",
    "    def length(head):\n",
    "        length = 0\n",
    "        while head:\n",
    "            length += 1\n",
    "            head = head.next\n",
    "        return length\n",
    "    l_len = length(head) - k\n",
    "    for _ in range(0, l_len):\n",
    "        head = head.next\n",
    "    delete_from_list(head)\n",
    "    \n",
    "curr1 = a = ListNode(1)\n",
    "insert_after(curr1, ListNode(2))\n",
    "curr1 = curr1.next\n",
    "insert_after(curr1, ListNode(3))\n",
    "curr1 = curr1.next\n",
    "insert_after(curr1, ListNode(4))\n",
    "curr1 = curr1.next\n",
    "insert_after(curr1, ListNode(5))\n",
    "curr1 = curr1.next\n",
    "print_list(a)\n",
    "delete_from_last(a, 5)\n",
    "print_list(a)"
   ]
  },
  {
   "cell_type": "markdown",
   "id": "4f221a3b-56b5-41ac-b668-98dbb8b26279",
   "metadata": {},
   "source": [
    "#### Amazing Approach (Mind blowwwinggggg....)\n",
    "$1,2,3,4,5,6,7$\n",
    "\n",
    "$7,6,5,4,3,2,1$\n",
    "\n",
    "See if we want to remove the 3rd element from last. Then, we can have two iterators one pointing to the element at pos 3 and another at pos1. Now if we keep increasing both iterators maintaining the difference and when element previously at pos3 is now at end then element at pos1 will now be pointing to (k+1)th element.\n",
    "We need to point to the k-th element in the end then we can just instead of pointing at pos3 we can point it at pos4 first before increasing iterators in tandem."
   ]
  },
  {
   "cell_type": "code",
   "execution_count": 74,
   "id": "cede1e46-f375-4554-a68c-773b632168e9",
   "metadata": {},
   "outputs": [
    {
     "name": "stdout",
     "output_type": "stream",
     "text": [
      "1->2->3->4->5->X\n",
      "1->2->4->5->X\n"
     ]
    }
   ],
   "source": [
    "def remove_kth_last(L, k):\n",
    "    first = second = L\n",
    "    for _ in range(k):\n",
    "        first = first.next\n",
    "    while first:\n",
    "        first, second = first.next, second.next\n",
    "    delete_from_list(second)\n",
    "curr1 = a = ListNode(1)\n",
    "insert_after(curr1, ListNode(2))\n",
    "curr1 = curr1.next\n",
    "insert_after(curr1, ListNode(3))\n",
    "curr1 = curr1.next\n",
    "insert_after(curr1, ListNode(4))\n",
    "curr1 = curr1.next\n",
    "insert_after(curr1, ListNode(5))\n",
    "curr1 = curr1.next\n",
    "print_list(a)\n",
    "remove_kth_last(a, 3)\n",
    "print_list(a)"
   ]
  },
  {
   "cell_type": "markdown",
   "id": "2438c1f2",
   "metadata": {},
   "source": [
    "# Remove Duplicates"
   ]
  },
  {
   "cell_type": "code",
   "execution_count": 75,
   "id": "c05d8c4b",
   "metadata": {},
   "outputs": [
    {
     "name": "stdout",
     "output_type": "stream",
     "text": [
      "2->2->X\n",
      "2->X\n"
     ]
    }
   ],
   "source": [
    "def remove_duplicates(head):\n",
    "    l = r = head\n",
    "    prev = 0\n",
    "    while l and l.next:\n",
    "        prev = l.data\n",
    "        while r and r.data == prev:\n",
    "            r = r.next\n",
    "        l.next = r\n",
    "        l = l.next\n",
    "head = ListNode(2, ListNode(2, ListNode(3, ListNode(5, ListNode(7, ListNode(11, ListNode(11)))))))\n",
    "head2 = ListNode(2,ListNode(2))\n",
    "print_list(head2)\n",
    "remove_duplicates(head2)\n",
    "print_list(head2)"
   ]
  },
  {
   "cell_type": "markdown",
   "id": "70a013c6",
   "metadata": {},
   "source": [
    "# Implement cyclic right shift for singly linked lists"
   ]
  },
  {
   "cell_type": "code",
   "execution_count": 76,
   "id": "7f7bc671",
   "metadata": {},
   "outputs": [
    {
     "name": "stdout",
     "output_type": "stream",
     "text": [
      "1->X\n",
      "1->X\n"
     ]
    }
   ],
   "source": [
    "def right_shift(head, k):\n",
    "    def length(head):\n",
    "        count = 0\n",
    "        while head:\n",
    "            count += 1\n",
    "            head = head.next\n",
    "        return count\n",
    "    k = k % length(head)\n",
    "    if k == 0:\n",
    "        return head\n",
    "    prev, curr = None, head\n",
    "    for _ in range(k):\n",
    "        prev = curr\n",
    "        curr = curr.next\n",
    "    prev.next = None\n",
    "    prev = curr\n",
    "    while curr.next:\n",
    "        curr = curr.next\n",
    "    curr.next = head\n",
    "    return prev\n",
    "head = ListNode(1, ListNode(2, ListNode(3, ListNode(4, ListNode(5, ListNode(6, ListNode(7)))))))\n",
    "head = ListNode(1)\n",
    "print_list(head)\n",
    "head = right_shift(head, 5)\n",
    "print_list(head)"
   ]
  },
  {
   "cell_type": "markdown",
   "id": "9590ef66",
   "metadata": {},
   "source": [
    "## Cooler Code"
   ]
  },
  {
   "cell_type": "code",
   "execution_count": 77,
   "id": "49762b66",
   "metadata": {},
   "outputs": [],
   "source": [
    "def cyclically_right_shift_list(L, k):\n",
    "    if not L:\n",
    "        return L\n",
    "    tail, n = L, 1\n",
    "    # Calculating list length\n",
    "    while tail.next:\n",
    "        n += 1\n",
    "        tail = tail.next\n",
    "    k %= n\n",
    "    if k == 0:\n",
    "        return L\n",
    "    \n",
    "    tail.next = L\n",
    "    steps_to_new_head, new_tail = n - k, tail\n",
    "    while steps_to_new_head:\n",
    "        steps_to_new_head -= 1\n",
    "        new_tail = new_tail.next\n",
    "    new_head = new_tail.next\n",
    "    new_tail.next = None\n",
    "    return new_head"
   ]
  },
  {
   "cell_type": "markdown",
   "id": "fdf0dc21",
   "metadata": {},
   "source": [
    "# Even Odd Merge"
   ]
  },
  {
   "cell_type": "code",
   "execution_count": 78,
   "id": "a6b975cd",
   "metadata": {},
   "outputs": [
    {
     "name": "stdout",
     "output_type": "stream",
     "text": [
      "0->1->X\n",
      "0->1->X\n"
     ]
    }
   ],
   "source": [
    "def even_odd_merge(head):\n",
    "    if not head:\n",
    "        return head\n",
    "    even, odd = ListNode(0), ListNode(0)\n",
    "    even_ptr, odd_ptr = even, odd\n",
    "    count = 0\n",
    "    while head:\n",
    "        if (count & 1):\n",
    "            odd_ptr.next = head\n",
    "            odd_ptr = odd_ptr.next\n",
    "        else:\n",
    "            even_ptr.next = head\n",
    "            even_ptr = even_ptr.next\n",
    "        count += 1\n",
    "        head = head.next\n",
    "    even_ptr.next = odd.next\n",
    "    odd_ptr.next = None\n",
    "    return even.next\n",
    "head = ListNode(0, ListNode(1, ListNode(2, ListNode(3, ListNode(4, ListNode(5, ListNode(6)))))))\n",
    "head = ListNode(0, ListNode(1, ListNode(2, ListNode(3, ListNode(4, ListNode(5))))))\n",
    "head = ListNode(0, ListNode(1))\n",
    "print_list(head)\n",
    "head = even_odd_merge(head)\n",
    "print_list(head)"
   ]
  },
  {
   "cell_type": "code",
   "execution_count": 79,
   "id": "9519c354",
   "metadata": {},
   "outputs": [],
   "source": [
    "def even_odd_merge(L):\n",
    "    if not L:\n",
    "        return L\n",
    "\n",
    "    even, odd = ListNode(0), ListNode(0)\n",
    "    tails, turn = [even, odd], 0\n",
    "    while L:\n",
    "        tails[turn].next = L\n",
    "        L = L.next\n",
    "        tails[turn] = tails[turn].next\n",
    "        turn ^= 1\n",
    "    tails[1].next = None\n",
    "    tails[0].next = odd.next\n",
    "    return even.next"
   ]
  },
  {
   "cell_type": "markdown",
   "id": "6ee504fc",
   "metadata": {},
   "source": [
    "# isPalindrome Linked List\n",
    "Q. Test whether a singly linked list is palindromic"
   ]
  },
  {
   "cell_type": "markdown",
   "id": "aea52a8e",
   "metadata": {},
   "source": [
    "below is $O(n)$ time and space"
   ]
  },
  {
   "cell_type": "code",
   "execution_count": 80,
   "id": "50eb0584",
   "metadata": {},
   "outputs": [
    {
     "data": {
      "text/plain": [
       "True"
      ]
     },
     "execution_count": 80,
     "metadata": {},
     "output_type": "execute_result"
    }
   ],
   "source": [
    "def is_palindrome(L):\n",
    "    slow = fast = L\n",
    "    stack = []\n",
    "    while fast:\n",
    "        stack.append(slow.data)\n",
    "        if not fast.next:\n",
    "            stack.pop()\n",
    "            slow = slow.next\n",
    "            break\n",
    "        slow, fast = slow.next, fast.next.next\n",
    "    \n",
    "    while slow and stack:\n",
    "        if slow.data != stack.pop():\n",
    "            return False\n",
    "        slow = slow.next\n",
    "    return True\n",
    "head = ListNode(1, ListNode(2, ListNode(3, ListNode(2, ListNode(1)))))\n",
    "is_palindrome(head)"
   ]
  },
  {
   "cell_type": "markdown",
   "id": "3a1e5ff7",
   "metadata": {},
   "source": [
    "In this approach I can separate and reverse the half of list and will provide remaining list with a new head. Then I can traverse through both lists in tandem and can check for palindromicity."
   ]
  },
  {
   "cell_type": "code",
   "execution_count": 115,
   "id": "7ea707b4",
   "metadata": {},
   "outputs": [
    {
     "data": {
      "text/plain": [
       "True"
      ]
     },
     "execution_count": 115,
     "metadata": {},
     "output_type": "execute_result"
    }
   ],
   "source": [
    "def is_palindrome(L):\n",
    "    slow = fast =  L\n",
    "    even = False\n",
    "    while fast and fast.next:\n",
    "        if not fast.next.next:\n",
    "            even = True\n",
    "            break\n",
    "        slow, fast = slow.next, fast.next.next\n",
    "    head1, slow.next = slow.next, None\n",
    "    # reversing\n",
    "    curr = next = head\n",
    "    prev = None\n",
    "    while curr:\n",
    "        next, curr.next = curr.next, prev\n",
    "        prev, curr = curr, next\n",
    "    head2 = prev if even else prev.next\n",
    "    while head1 and head2:\n",
    "        if head1.data != head2.data:\n",
    "            return False\n",
    "        head1, head2 = head1.next, head2.next\n",
    "    return True\n",
    "head = ListNode(1)\n",
    "is_palindrome(head)"
   ]
  },
  {
   "cell_type": "markdown",
   "id": "b71326c8",
   "metadata": {},
   "source": [
    "# List Pivoting\n",
    "For any integer k, the pivot of a list of integers w.r.t to k is that list with its nodes reordered so that all nodes containing keys less than k appear before nodes containing k, and all keys greater than k appear after the node containing k. [Like in quicksort]\n",
    "\n",
    "**Q.** Implement a function that takes a linked list and an integer k and performs a pivot of list with respect to k."
   ]
  },
  {
   "cell_type": "code",
   "execution_count": 120,
   "id": "e32cd927",
   "metadata": {},
   "outputs": [
    {
     "name": "stdout",
     "output_type": "stream",
     "text": [
      "3->2->2->5->7->11->11->X\n"
     ]
    }
   ],
   "source": [
    "def pivot_list(L, k):\n",
    "    less, equal, more = ListNode(0), ListNode(0), ListNode(0)\n",
    "    less_curr, equal_curr, more_curr = less, equal, more\n",
    "    while L:\n",
    "        if L.data < k:\n",
    "            less_curr.next = L\n",
    "            less_curr = less_curr.next\n",
    "        elif L.data == k:\n",
    "            equal_curr.next = L\n",
    "            equal_curr = equal_curr.next\n",
    "        else:\n",
    "            more_curr.next = L\n",
    "            more_curr = more_curr.next\n",
    "        L = L.next\n",
    "    less_curr.next, equal_curr.next, more_curr.next = equal.next, more.next, None\n",
    "    return less.next\n",
    "head = ListNode(3, ListNode(2, ListNode(2, ListNode(11, ListNode(7, ListNode(5, ListNode(11)))))))\n",
    "head = pivot_list(head, 7)\n",
    "print_list(head)"
   ]
  },
  {
   "cell_type": "markdown",
   "id": "bcf2628d",
   "metadata": {},
   "source": [
    "# Add List-Based Integers"
   ]
  },
  {
   "cell_type": "code",
   "execution_count": 135,
   "id": "08797617",
   "metadata": {},
   "outputs": [
    {
     "name": "stdout",
     "output_type": "stream",
     "text": [
      "0->2->3->1->X\n"
     ]
    }
   ],
   "source": [
    "def add_list(l1, l2):\n",
    "    l3, carry = ListNode(0), 0\n",
    "    l3_curr = l3\n",
    "    while l1 or l2 or carry:\n",
    "        sum = (\n",
    "            (l1.data if l1 else 0) +\n",
    "            (l2.data if l2 else 0) +\n",
    "            carry\n",
    "        )\n",
    "        carry = sum // 10\n",
    "        l3_curr.next = ListNode(sum % 10)\n",
    "        l3_curr = l3_curr.next\n",
    "        l1 = l1.next if l1 else None\n",
    "        l2 = l2.next if l2 else None\n",
    "    return l3.next\n",
    "l1 = ListNode(3, ListNode(1, ListNode(4)))\n",
    "l2 = ListNode(7, ListNode(0, ListNode(9)))\n",
    "print_list(add_list(l1, l2))"
   ]
  },
  {
   "cell_type": "code",
   "execution_count": null,
   "id": "757a677c",
   "metadata": {},
   "outputs": [],
   "source": []
  }
 ],
 "metadata": {
  "kernelspec": {
   "display_name": "Python 3 (ipykernel)",
   "language": "python",
   "name": "python3"
  },
  "language_info": {
   "codemirror_mode": {
    "name": "ipython",
    "version": 3
   },
   "file_extension": ".py",
   "mimetype": "text/x-python",
   "name": "python",
   "nbconvert_exporter": "python",
   "pygments_lexer": "ipython3",
   "version": "3.10.7"
  },
  "vscode": {
   "interpreter": {
    "hash": "916dbcbb3f70747c44a77c7bcd40155683ae19c65e1c03b4aa3499c5328201f1"
   }
  }
 },
 "nbformat": 4,
 "nbformat_minor": 5
}

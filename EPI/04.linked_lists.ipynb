{
 "cells": [
  {
   "cell_type": "markdown",
   "id": "4f6c2e51-83f2-4f7d-8b16-f5d4e1f2f36f",
   "metadata": {},
   "source": [
    "# Linked Lists"
   ]
  },
  {
   "cell_type": "code",
   "execution_count": 9,
   "id": "3440e659-4280-4cdf-87ea-2a23a6b5fdb8",
   "metadata": {},
   "outputs": [],
   "source": [
    "class ListNode:\n",
    "    def __init__(self, data=0, next_node=None):\n",
    "        self.data = data\n",
    "        self.next = next_node\n",
    "\n",
    "def search_list(L, key):\n",
    "    while L and L.data != key:\n",
    "        L = L.next\n",
    "    return L # returns null if key not present\n",
    "\n",
    "def insert_after(node, new_node):\n",
    "    new_node.next = node.next\n",
    "    node.next = new_node\n",
    "\n",
    "# Assuming node is not a tail\n",
    "def delete_after(node):\n",
    "    node.next = node.next.next\n",
    "\n",
    "def print_list(node):\n",
    "    curr = node\n",
    "    while curr:\n",
    "        print(curr.data, end='->')\n",
    "        curr = curr.next\n",
    "    print('X')"
   ]
  },
  {
   "cell_type": "markdown",
   "id": "844a8d3c-3ac2-4a80-b00b-747fc664637f",
   "metadata": {},
   "source": [
    "# Merge two sorted lists\n",
    "Q. Consider two singly linked lists in which each node holds a number. Assume the lists are sorted. Merge the two lists so that returning list is also sorted."
   ]
  },
  {
   "cell_type": "code",
   "execution_count": 10,
   "id": "37d827c8-9503-40be-bb8a-aeaf98be0718",
   "metadata": {},
   "outputs": [],
   "source": [
    "def merge_sorted_lists(L1, L2):\n",
    "    res = ListNode()\n",
    "    L3 = res\n",
    "    while L1 and L2:\n",
    "        if L1.data <= L2.data:\n",
    "            insert_after(L3, ListNode(L1.data))\n",
    "            L1 = L1.next\n",
    "        else:\n",
    "            insert_after(L3, ListNode(L2.data))\n",
    "            L2 = L2.next\n",
    "        L3 = L3.next\n",
    "    while L1:\n",
    "        insert_after(L3, ListNode(L1.data))\n",
    "        L1 = L1.next\n",
    "        L3 = L3.next\n",
    "    while L2:\n",
    "        insert_after(L3, ListNode(L2.data))\n",
    "        L2 = L2.next\n",
    "        L3 = L3.next\n",
    "    return res.next"
   ]
  },
  {
   "cell_type": "markdown",
   "id": "9ac53406-49d9-4263-a874-bc509494e4c2",
   "metadata": {},
   "source": [
    "### Better Code"
   ]
  },
  {
   "cell_type": "code",
   "execution_count": 11,
   "id": "12602821-ac5a-49e1-834c-6c8d47bbc090",
   "metadata": {},
   "outputs": [],
   "source": [
    "def merge_two_sorted_lists(L1, L2):\n",
    "    dummy_head = tail = ListNode()\n",
    "    while L1 and L2:\n",
    "        if L1.data <= L2.data:\n",
    "            tail.next, L1 = L1, L1.next\n",
    "        else:\n",
    "            tail.next, L2 = L2, L2.next\n",
    "        tail = tail.next\n",
    "    tail.next = L1 or L2\n",
    "    return dummy_head.next"
   ]
  },
  {
   "cell_type": "markdown",
   "id": "c0dd13ae-b5fa-4b27-b65a-e7409c4d7818",
   "metadata": {},
   "source": [
    "## Reverse a single sublist\n",
    "Q. Write a program which takes a single linked list L and two integers s and f as arguments, and reverses the order of the nodes from the sth node to fth node, inclusive. the numbering begins at 1 i.e., the head node is the first node. Do not allocate additional nodes."
   ]
  },
  {
   "cell_type": "code",
   "execution_count": 22,
   "id": "7cec41c3-1fbb-4f2a-b162-91f477fe9646",
   "metadata": {},
   "outputs": [
    {
     "name": "stdout",
     "output_type": "stream",
     "text": [
      "0->1->2->3->4->5->6->7->8->9->10->X\n",
      "0->1->8->7->6->5->4->3->2->9->10->X\n"
     ]
    }
   ],
   "source": [
    "def reverse_sublist(L, s, f):\n",
    "    ptr = L\n",
    "    L_start = L\n",
    "    count = 1\n",
    "    \n",
    "    while count < f:\n",
    "        if count == s - 1:\n",
    "            temp = ptr\n",
    "            L_start = ptr.next\n",
    "        ptr = ptr.next\n",
    "        count += 1\n",
    "    prev = ptr.next\n",
    "    ptr.next = temp\n",
    "    \n",
    "    count = 1\n",
    "    curr = L_start\n",
    "    while count <= f - s + 2:\n",
    "        next = curr.next\n",
    "        curr.next = prev\n",
    "        prev, curr = curr, next\n",
    "        count += 1\n",
    "L = curr = ListNode()\n",
    "for i in range(10):\n",
    "    insert_after(curr, ListNode(i+1))\n",
    "    curr = curr.next\n",
    "print_list(L)\n",
    "reverse_sublist(L, 3, 9)\n",
    "print_list(L)"
   ]
  },
  {
   "cell_type": "markdown",
   "id": "26a0fb2e-0fc0-40ea-916d-0a1e449944f9",
   "metadata": {},
   "source": [
    "### Better Code"
   ]
  },
  {
   "cell_type": "code",
   "execution_count": 33,
   "id": "f46c1d40-e3d1-4f31-989d-ccf4e81616f3",
   "metadata": {},
   "outputs": [
    {
     "name": "stdout",
     "output_type": "stream",
     "text": [
      "0->1->2->3->4->5->6->7->8->9->10->X\n",
      "0->1->8->7->6->5->4->3->2->9->10->X\n"
     ]
    }
   ],
   "source": [
    "def reverse_sublist(L, start, finish):\n",
    "    dummy_node = sublist_head = ListNode(0, L)\n",
    "    for _ in range(1, start):\n",
    "        sublist_head = sublist_head.next\n",
    "        \n",
    "    sublist_iter = sublist_head.next\n",
    "    for _ in range(finish - start):\n",
    "        temp = sublist_iter.next\n",
    "        sublist_iter.next = temp.next\n",
    "        temp.next = sublist_head.next\n",
    "        sublist_head.next = temp\n",
    "        \n",
    "    return dummy_node.next\n",
    "L = curr = ListNode()\n",
    "for i in range(10):\n",
    "    insert_after(curr, ListNode(i+1))\n",
    "    curr = curr.next\n",
    "\n",
    "print_list(L)\n",
    "reverse_sublist(L, 3, 9)\n",
    "print_list(L)"
   ]
  },
  {
   "cell_type": "code",
   "execution_count": null,
   "id": "fe54ed88-caf1-4693-a9b3-e99cfc29245f",
   "metadata": {},
   "outputs": [],
   "source": []
  }
 ],
 "metadata": {
  "kernelspec": {
   "display_name": "Python 3 (ipykernel)",
   "language": "python",
   "name": "python3"
  },
  "language_info": {
   "codemirror_mode": {
    "name": "ipython",
    "version": 3
   },
   "file_extension": ".py",
   "mimetype": "text/x-python",
   "name": "python",
   "nbconvert_exporter": "python",
   "pygments_lexer": "ipython3",
   "version": "3.10.5"
  }
 },
 "nbformat": 4,
 "nbformat_minor": 5
}

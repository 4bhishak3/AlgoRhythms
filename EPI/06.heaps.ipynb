{
 "cells": [
  {
   "cell_type": "markdown",
   "id": "47cb0e54-0707-4adf-a886-2a7df371f963",
   "metadata": {},
   "source": [
    "# Heaps\n",
    "specialized binary tree. keys must satisfy heap property.\n",
    "\n",
    "e.g.\n",
    "in max-heap: key at each node is at least as great as key stored at its children.\n",
    "\n",
    "if parent at i then children are at 2i+1 and 2i+2\n",
    "\n",
    "**insertion**: O(logn)\n",
    "\n",
    "**lookup at max element**: O(1)\n",
    "\n",
    "**deletion of max element**: O(logn)"
   ]
  },
  {
   "cell_type": "markdown",
   "id": "df9398ad-2321-4deb-9503-410661757c97",
   "metadata": {},
   "source": [
    "## Example Usecase\n",
    "From a stream we need to know k longest subtstring. In stream we can't back to read a value. \n",
    "As we process inputs we keep track of k longest substring. the string to be evicted from heap when longer stirng is to be added is the smaller one. So, min-heap is going to be effective."
   ]
  },
  {
   "cell_type": "code",
   "execution_count": 1,
   "id": "ccdc4eca-23b8-4771-b758-3a3901e98c89",
   "metadata": {},
   "outputs": [
    {
     "data": {
      "text/plain": [
       "['dsaa', 'ehll', 'ehll']"
      ]
     },
     "execution_count": 1,
     "metadata": {},
     "output_type": "execute_result"
    }
   ],
   "source": [
    "import heapq\n",
    "def top_k(k, stream):\n",
    "    # Entries compared by their lengths\n",
    "    import itertools\n",
    "    min_heap = [(len(s), s) for s in itertools.islice(stream, k)]\n",
    "    heapq.heapify(min_heap)\n",
    "    for next_string in stream:\n",
    "        heapq.heappushpop(min_heap, (len(next_string), next_string))\n",
    "    return [p[1] for p in heapq.nsmallest(k, min_heap)]\n",
    "top_k(3, [\"ehll\",\"s\",\"dsaa\",\"ew\"])"
   ]
  },
  {
   "cell_type": "markdown",
   "id": "89085483-0461-4d86-9ad1-e521c97917bd",
   "metadata": {},
   "source": [
    "## Note\n",
    "- Use **heap** when all you care about is largest or smallest elements and you don't need to support fast lookup, delete or search operations.\n",
    "- for k-largest use min-heap and for k-smallest use max-heap"
   ]
  },
  {
   "cell_type": "markdown",
   "id": "0d095a6e-c9d9-47e7-873b-883fcd446ed1",
   "metadata": {},
   "source": [
    "## heap operations\n",
    "- **heapq.heapify(L)**: which transforms the elements in L into heap in place.\n",
    "- **heapq.nlargest(k, L)|heap.nsmallest(k,L)**: k-largest|k-smallest elements in L.\n",
    "- **heapq.heappush(h, e)**: pushes new element on heap h.\n",
    "- **heapq.heappop(h)**: pops smallest element from heap\n",
    "- **heapq.heappushpop(h, a)**: pushes a on the heap and then pops and returns the smallest element\n",
    "- e = h[0] returns smallest element on the heap without popping it."
   ]
  },
  {
   "cell_type": "markdown",
   "id": "1815dba5-47ec-43fb-9de2-fc3680066b5c",
   "metadata": {},
   "source": [
    "# Merge Sorted Files\n",
    "Write a program that takes input a set of sroted sequences and computes the union of these sequences as a sorted sequence.\n",
    "\n",
    "e.g. [3,5,7], [0,6] and [0,6,28] is input then output should be [0,0,3,5,6,6,7,28]"
   ]
  },
  {
   "cell_type": "code",
   "execution_count": 2,
   "id": "8c0060a5-6c7b-47da-9c46-4b2e5bfdf1dd",
   "metadata": {},
   "outputs": [
    {
     "data": {
      "text/plain": [
       "[0, 0, 3, 5, 6, 7, 6, 28]"
      ]
     },
     "execution_count": 2,
     "metadata": {},
     "output_type": "execute_result"
    }
   ],
   "source": [
    "def merge_sorted_files(sorted_files):\n",
    "    res = []\n",
    "    for i in range(len(sorted_files)):\n",
    "        res += sorted_files[i]\n",
    "    heapq.heapify(res)\n",
    "    return res\n",
    "merge_sorted_files([[3,5,7],[0,6],[0,6,28]])"
   ]
  },
  {
   "cell_type": "markdown",
   "id": "b530004c-5dab-4f7c-a9ab-37a943970fd0",
   "metadata": {},
   "source": [
    "### Approach\n",
    "store the iterator for each of the sorted arrays in another array like (first_elem, arr_num). Put first element from each iterator in min-heap.\n",
    "while min heap is not empty\n",
    " - pull out smallest entry from heap and from what array it belongs.\n",
    " - now call next() on whatever array we pulled smallest entry from to get next\n",
    " - and push next element on heap"
   ]
  },
  {
   "cell_type": "code",
   "execution_count": 3,
   "id": "ae43aa1f-6da7-486e-ae22-56501c5e9d76",
   "metadata": {},
   "outputs": [
    {
     "data": {
      "text/plain": [
       "[0, 0, 3, 5, 6, 6, 7, 28]"
      ]
     },
     "execution_count": 3,
     "metadata": {},
     "output_type": "execute_result"
    }
   ],
   "source": [
    "def merge_sorted_files(sorted_files):\n",
    "    min_heap = []\n",
    "    sorted_arrays = [iter(x) for x in sorted_files]\n",
    "    \n",
    "    # pushing first element from every sorted array on heap\n",
    "    for i, array_iter in enumerate(sorted_arrays):\n",
    "        first_element = next(array_iter, None)\n",
    "        if first_element is not None:\n",
    "            heapq.heappush(min_heap, (first_element, i))\n",
    "    \n",
    "    res = []\n",
    "    while min_heap:\n",
    "        smallest_elem, smallest_arr_i = heapq.heappop(min_heap)\n",
    "        res.append(smallest_elem)\n",
    "        smallest_arr_iter = sorted_arrays[smallest_arr_i]\n",
    "        next_smallest_elem = next(smallest_arr_iter, None)\n",
    "        if next_smallest_elem is not None:\n",
    "            heapq.heappush(min_heap, (next_smallest_elem, smallest_arr_i))\n",
    "    return res\n",
    "merge_sorted_files([[3,5,7],[0,6],[0,6,28]])"
   ]
  },
  {
   "cell_type": "code",
   "execution_count": 4,
   "id": "e3643085-70c3-478a-8bf3-429dd1bc5d80",
   "metadata": {},
   "outputs": [],
   "source": [
    "def merge_sorted_arrays(sorted_arrays):\n",
    "    return list(heapq.merge(*sorted_arrays))"
   ]
  },
  {
   "cell_type": "markdown",
   "id": "277e6189-5018-41ac-91b8-99ff6a169e89",
   "metadata": {},
   "source": [
    "Let k be the number of input sequences. Then there are no more than k elements in the min-heap.\n",
    "Extract-min and insert take O(log k) time. Hence we can do the merge in O(nlogk) time. Space complexity is O(k)"
   ]
  },
  {
   "cell_type": "markdown",
   "id": "6b9dda2a-3e2d-4a23-9ee0-97d1d80a3a70",
   "metadata": {},
   "source": [
    "# Sort an increasing-decreasing array"
   ]
  },
  {
   "cell_type": "code",
   "execution_count": 5,
   "id": "9d6773af-54fd-47cb-8223-d5369a0184a8",
   "metadata": {},
   "outputs": [
    {
     "data": {
      "text/plain": [
       "[57, 131, 190, 221, 294, 339, 418, 442, 452, 493]"
      ]
     },
     "execution_count": 5,
     "metadata": {},
     "output_type": "execute_result"
    }
   ],
   "source": [
    "def sort_inc_dec_arr(arr):\n",
    "    A = []\n",
    "    INC, DEC = range(2)\n",
    "    ls, curr = [arr[0]], INC\n",
    "    for i in range(1, len(arr)):\n",
    "        if arr[i] >= arr[i-1] and curr == DEC:\n",
    "            A.append(ls[::-1])\n",
    "            ls, curr = [arr[i]], INC\n",
    "        elif arr[i] <= arr[i-1] and curr == INC:\n",
    "            A.append(ls)\n",
    "            ls, curr = [arr[i]], DEC\n",
    "        else:\n",
    "            ls.append(arr[i])\n",
    "    A.append(ls[::-1])\n",
    "    return merge_sorted_files(A)\n",
    "sort_inc_dec_arr([57,131,493,294,221,339,418,452,442,190])"
   ]
  },
  {
   "cell_type": "code",
   "execution_count": 6,
   "id": "c5f9dd8c-c9d6-4fc0-9475-ea997b49f15b",
   "metadata": {},
   "outputs": [
    {
     "data": {
      "text/plain": [
       "[57, 131, 190, 221, 294, 339, 418, 442, 452, 493]"
      ]
     },
     "execution_count": 6,
     "metadata": {},
     "output_type": "execute_result"
    }
   ],
   "source": [
    "def sort_inc_dec_arr(arr):\n",
    "    A = []\n",
    "    INC, DEC = range(2)\n",
    "    ls, curr = [arr[0]], INC\n",
    "    for i in range(1, len(arr)+1):\n",
    "        if (i == len(arr) # we need not append last list separately after loop\n",
    "            or (arr[i] >= arr[i-1] and curr == DEC)\n",
    "            or (arr[i] <= arr[i-1] and curr == INC)\n",
    "        ):\n",
    "            A.append(ls if curr == INC else ls[::-1])\n",
    "            ls = [arr[i]] if i != len(arr) else None\n",
    "            curr = INC if curr == DEC else DEC\n",
    "        else:\n",
    "            ls.append(arr[i])\n",
    "    return merge_sorted_files(A)\n",
    "sort_inc_dec_arr([57,131,493,294,221,339,418,452,442,190])"
   ]
  },
  {
   "cell_type": "code",
   "execution_count": 7,
   "id": "afb72f6e-71ef-45aa-9512-544af1e6fa72",
   "metadata": {},
   "outputs": [
    {
     "data": {
      "text/plain": [
       "[57, 131, 190, 221, 294, 339, 418, 442, 452, 493]"
      ]
     },
     "execution_count": 7,
     "metadata": {},
     "output_type": "execute_result"
    }
   ],
   "source": [
    "def sort_inc_dec_arr(arr):\n",
    "    A = []\n",
    "    INC, DEC = range(2)\n",
    "    start_idx, curr = 0, INC\n",
    "    for i in range(1, len(arr)+1):\n",
    "        if (i == len(arr)\n",
    "            or (arr[i] <= arr[i-1] and curr == INC)\n",
    "            or (arr[i] >= arr[i-1] and curr == DEC)\n",
    "           ):\n",
    "            A.append(arr[start_idx:i] if curr == INC \n",
    "                     else arr[i-1:start_idx-1:-1])\n",
    "            start_idx = i\n",
    "            curr = INC if curr == DEC else DEC\n",
    "    return merge_sorted_files(A)\n",
    "sort_inc_dec_arr([57,131,493,294,221,339,418,452,442,190])"
   ]
  },
  {
   "cell_type": "markdown",
   "id": "6a2d18a9-a395-42b1-b057-81c7c22c5222",
   "metadata": {},
   "source": [
    "Time complexity: O(nlogk)"
   ]
  },
  {
   "cell_type": "markdown",
   "id": "bf9a894f-d9d0-419d-bd15-7c485d3df3e5",
   "metadata": {},
   "source": [
    "# Sort an almost sorted array\n",
    "Write a program which takes input a very long sequence of numbers and prints the numbers in sorted order. Each element is atmost k away from its correctly sorted position."
   ]
  },
  {
   "cell_type": "code",
   "execution_count": 8,
   "id": "41f0f115-7e7d-47cc-b805-b1826773b598",
   "metadata": {},
   "outputs": [
    {
     "data": {
      "text/plain": [
       "[-1, 2, 3, 4, 5, 8, 6]"
      ]
     },
     "execution_count": 8,
     "metadata": {},
     "output_type": "execute_result"
    }
   ],
   "source": [
    "def sort_approx_sorted_array(A, k):\n",
    "    min_heap = A[:k+1]\n",
    "    heapq.heapify(min_heap)\n",
    "    res = []\n",
    "    for i in range(k+1, len(A)):\n",
    "        res.append(heapq.heappushpop(min_heap, A[i]))\n",
    "    res = res + min_heap\n",
    "    return res\n",
    "sort_approx_sorted_array([3,-1,2,6,4,5,8], 2)"
   ]
  },
  {
   "cell_type": "code",
   "execution_count": 9,
   "id": "fbe68c02-a09a-4fe8-972d-ae13a9e34cc5",
   "metadata": {},
   "outputs": [
    {
     "data": {
      "text/plain": [
       "[-1, 2, 3, 4, 5, 6, 8]"
      ]
     },
     "execution_count": 9,
     "metadata": {},
     "output_type": "execute_result"
    }
   ],
   "source": [
    "def sort_approx_sorted_array(A, k):\n",
    "    from itertools import islice\n",
    "    min_heap, res = [], []\n",
    "    for i in islice(A, k):\n",
    "        heapq.heappush(min_heap, i)\n",
    "    for i in A[k:]:\n",
    "        res.append(heapq.heappushpop(min_heap, i))\n",
    "    while min_heap:\n",
    "        res.append(heapq.heappop(min_heap))\n",
    "    return res\n",
    "sort_approx_sorted_array([3,-1,2,6,4,5,8], 2)"
   ]
  },
  {
   "cell_type": "markdown",
   "id": "fb16481c-59ec-43b6-b497-b1a26c5af71b",
   "metadata": {},
   "source": [
    "# Compute K closest stars\n",
    "Consider a coordinate system for the Milky Wayk, in which the Earth(0,0,0). Model stars as points, and assume distances are in light years. Compute k closest stars to earth. \n",
    "\n",
    "Time: O(nlogk) Space: O(k)"
   ]
  },
  {
   "cell_type": "code",
   "execution_count": 10,
   "id": "0c7a7a46-102b-4a32-ac17-748485345573",
   "metadata": {},
   "outputs": [
    {
     "data": {
      "text/plain": [
       "[star(3,3,3), star(1,1,1)]"
      ]
     },
     "execution_count": 10,
     "metadata": {},
     "output_type": "execute_result"
    }
   ],
   "source": [
    "class Star:\n",
    "    def __init__(self, x, y, z):\n",
    "        self.x = x\n",
    "        self.y = y\n",
    "        self.z = z\n",
    "        \n",
    "    @property\n",
    "    def distance(self):\n",
    "        return ((self.x)**2 + (self.y)**2 + (self.z)**2)**0.5\n",
    "    def __lt__(self, rhs):\n",
    "        return self.distance < rhs.distance\n",
    "    def __repr__(self):\n",
    "        return f\"star({self.x},{self.y},{self.z})\"\n",
    "\n",
    "def k_closest_stars(A, k):\n",
    "    from itertools import islice\n",
    "    max_heap = []\n",
    "    for star in islice(A, k):\n",
    "        heapq.heappush(max_heap, (-star.distance, star))\n",
    "    for star in A[k:]:\n",
    "        heapq.heappushpop(max_heap, (-star.distance, star))\n",
    "    return [star[1] for star in max_heap]\n",
    "A = [Star(1,1,1), Star(3,3,3), Star(-4,-4,-4), Star(6,6,6)]\n",
    "k_closest_stars(A, 2)"
   ]
  },
  {
   "cell_type": "markdown",
   "id": "f0806c14-7fc7-49ae-8dd8-1eee4adbb201",
   "metadata": {},
   "source": [
    "# Compute the median of online data\n",
    "Compute the running median of a sequence of numbers. The sequence is presented in a streaming fashion - we cannot back up to read an earlier value."
   ]
  },
  {
   "cell_type": "markdown",
   "id": "231e2b7b-4fe1-443e-bdf6-fe0daf2b5b4f",
   "metadata": {},
   "source": [
    "We can take advantage of previous computations. Median divides the array into two subarrays. Now next median will be largest element of smaller half or smallest element of larger half. We created two heaps - minheap for larger half and maxheap for smaller half. Now first element comes in we first move it to min heap then pop out and move into max heap. median is that first element itself. Now comes second element we move it into min heap then pop out and move into max heap. Now you see whatever elements comes will move into max heap ultimately. We need to balance min heap and max heap. So if max heap is > then min heap then pull out largest from max heap and push it into min heap.<br/>\n",
    "now first element comes into min heap then into max heap and now max heap is greater than min heap it moves back to min heap. now comes second element we move it into min heap and pull out minimum element from min heap and push it into max heap. now both lengths are equal which means even number of elements so their average would be next median. now comes the third element. if that element is larger than median then we push it into min heap and it will stay in min heap and smallest element from min heap will be pushed to max heap. and so on."
   ]
  },
  {
   "cell_type": "code",
   "execution_count": 11,
   "id": "205fd8bf-d52e-4249-a708-1b2bbbd854b3",
   "metadata": {},
   "outputs": [],
   "source": [
    "def median_online_data(stream):\n",
    "    min_heap, max_heap = [], []\n",
    "    result = []\n",
    "    for x in stream:\n",
    "        heapq.heappush(max_heap, -heapq.heappushpop(min_heap, x))\n",
    "        if len(max_heap) > len(min_heap):\n",
    "            heapq.heappush(min_heap, -heapq.heappop(max_heap))\n",
    "        result.append(0.5 * (min_heap[0] + (-max_heap[0]))\n",
    "                      if len(min_heap) == len(max_heap)\n",
    "                      else min_heap[0]\n",
    "                     )\n",
    "    return result"
   ]
  },
  {
   "cell_type": "code",
   "execution_count": 18,
   "id": "907528a8-e44a-4ce7-95b8-a5285979caa9",
   "metadata": {},
   "outputs": [
    {
     "data": {
      "text/plain": [
       "[1, 0.5, 1, 2.0, 2, 1.5, 1]"
      ]
     },
     "execution_count": 18,
     "metadata": {},
     "output_type": "execute_result"
    }
   ],
   "source": [
    " def online_median(A):\n",
    "    min_heap, max_heap = [], []\n",
    "    ans = []\n",
    "    for i in range(len(A)):\n",
    "        heapq.heappush(min_heap, A[i])\n",
    "        if len(min_heap) > len(max_heap) + 1:\n",
    "            heapq.heappush(max_heap, -heapq.heappop(min_heap))\n",
    "            ans.append((min_heap[0] + (-max_heap[0])) / 2)\n",
    "            continue\n",
    "        ans.append(min_heap[0])\n",
    "    return ans\n",
    "online_median([1,0,3,5,2,0,1])"
   ]
  },
  {
   "cell_type": "code",
   "execution_count": null,
   "id": "db7c7551-9fee-4b04-9451-dcaf66d635bc",
   "metadata": {},
   "outputs": [],
   "source": []
  }
 ],
 "metadata": {
  "kernelspec": {
   "display_name": "Python 3 (ipykernel)",
   "language": "python",
   "name": "python3"
  },
  "language_info": {
   "codemirror_mode": {
    "name": "ipython",
    "version": 3
   },
   "file_extension": ".py",
   "mimetype": "text/x-python",
   "name": "python",
   "nbconvert_exporter": "python",
   "pygments_lexer": "ipython3",
   "version": "3.10.9"
  }
 },
 "nbformat": 4,
 "nbformat_minor": 5
}

{
 "cells": [
  {
   "cell_type": "markdown",
   "id": "4a8d3334-a0b3-4942-a175-cd9ed67517c4",
   "metadata": {},
   "source": [
    "# Ch1: Primitives"
   ]
  },
  {
   "cell_type": "markdown",
   "id": "0966f9a0-5382-490a-b9ee-6796c4d2d1c4",
   "metadata": {},
   "source": [
    "number of bits which are one"
   ]
  },
  {
   "cell_type": "code",
   "execution_count": 2,
   "id": "eaf9d54d-e058-41c6-9f43-bbdea4bb23bf",
   "metadata": {},
   "outputs": [
    {
     "data": {
      "text/plain": [
       "2"
      ]
     },
     "execution_count": 2,
     "metadata": {},
     "output_type": "execute_result"
    }
   ],
   "source": [
    "# No. of which are one\n",
    "def count(x):\n",
    "    j = 0\n",
    "    while x:\n",
    "        j += x & 1\n",
    "        x >>= 1\n",
    "    return j\n",
    "count(12)"
   ]
  },
  {
   "cell_type": "markdown",
   "id": "39a7d249-9598-400a-8973-1a1e0a6fed39",
   "metadata": {},
   "source": [
    "# Count Parity"
   ]
  },
  {
   "cell_type": "markdown",
   "id": "295396ff-240d-4b5f-be00-471918b5601e",
   "metadata": {},
   "source": [
    "\n",
    "Counting parity T(n) = O(n)"
   ]
  },
  {
   "cell_type": "code",
   "execution_count": 3,
   "id": "f1418f57-05fe-4a7f-810e-edacd8a7fbb7",
   "metadata": {},
   "outputs": [
    {
     "data": {
      "text/plain": [
       "1"
      ]
     },
     "execution_count": 3,
     "metadata": {},
     "output_type": "execute_result"
    }
   ],
   "source": [
    "# count the parity\n",
    "def parity(x):\n",
    "    j = 0\n",
    "    while x:\n",
    "        j ^= x & 1\n",
    "        x >>= 1\n",
    "    return j\n",
    "parity(7)"
   ]
  },
  {
   "cell_type": "markdown",
   "id": "4e8acd72-7adf-4efd-9425-6c61e1953278",
   "metadata": {},
   "source": [
    "Counting Parity (more improved) T(n) = O(k)\n",
    "\n",
    "In this we're clearing lowest set of bits(i.e. all bits till lowest 1) by performign x & (x-1).\n",
    "\n",
    "e.g.:\n",
    "1. 1100 & 1011 = 1000\n",
    "2. 110101 & 110100 = 110100\n",
    "   > 110100 & 110011 = 110000\n",
    "   \n",
    "   Like in above example we removed 1 from lsb then the next 1 from 4th position. and this is how we proceed. Ignoring all the zeroes decreases time."
   ]
  },
  {
   "cell_type": "code",
   "execution_count": 1,
   "id": "b7d3d947-8ab0-45bf-b5ae-88eda1d66e8c",
   "metadata": {},
   "outputs": [
    {
     "data": {
      "text/plain": [
       "0"
      ]
     },
     "execution_count": 1,
     "metadata": {},
     "output_type": "execute_result"
    }
   ],
   "source": [
    "def parity(x):\n",
    "    j = 0\n",
    "    while x:\n",
    "        j ^= 1\n",
    "        x &= x - 1\n",
    "    return j\n",
    "parity(12)"
   ]
  },
  {
   "cell_type": "markdown",
   "id": "d419b264-2b45-48f2-a784-ce6796bf9b15",
   "metadata": {},
   "source": [
    "## Parity using lookup table (i.e. caching)\n",
    "e.g. we can use lookup table for 2 bit words\n",
    "all possible combination would be (00), (01), (10), (11). so our cache (lookup table) would look like (0, 1, 1, 0).\n",
    "So, to compute parity of (11101010), we first shift given no. by 6 to get first two MSBs. (00000011) and use it in our lookup table to get it's parity. Then shift the given number by 4. We'll get (00001110) and then use mask (00000011) to get the next required two bits. Similarly, repeat the steps for other two 2-bit lookups.\n",
    "\n",
    "---\n",
    "\n",
    "So, we are shifting as follows:\n",
    "shift by no.of bits in lookup table * 3\n",
    "shift by no.of bits in lookup table * 2 & 000(NO.OFBITSINLOOKUPTABLE) MASK. in this case(00000011)\n",
    "shift by no.of bits in lookup table & masking\n",
    "no shifting & masking\n",
    "\n",
    "---\n",
    "\n",
    "Let n be the word size and L be the word size in cache.\n",
    "Time complexity: T(n) = O(n/L)"
   ]
  },
  {
   "cell_type": "code",
   "execution_count": null,
   "id": "3c860e9a-f206-4520-8bdd-587712c664e6",
   "metadata": {},
   "outputs": [],
   "source": [
    "def parity(x):\n",
    "    MASK_SIZE = 16\n",
    "    BIT_MASK = 0xFFFF\n",
    "    # here PRECOMPUTED_PARITY is lookup table\n",
    "    return (\n",
    "        PRECOMPUTED_PARITY[x >> (3 * MASK_SIZE)] ^\n",
    "        PRECOMPUTED_PARITY[x >> (2 * MASK_SIZE) & BIT_MASK] ^\n",
    "        PRECOMPUTED_PARITY[(x >> MASK_SIZE) & BIT_MASK] ^\n",
    "        PRECOMPUTED_PARITY[x & BIT_MASK])"
   ]
  },
  {
   "cell_type": "markdown",
   "id": "cdbd5343-5b7e-4e9a-94ce-0a5aa7e5c454",
   "metadata": {
    "tags": []
   },
   "source": [
    "we can improve from worst case time complexity O(n) from previous algorithm using some XOR properties.\n",
    "1. associative\n",
    "2. commutative\n",
    "3. XOR of a group of bits is its parity\n",
    "\n",
    "e.g.\n",
    "find parity of 11010111.\n",
    "It's parity will be same as parity of (1101) Xor'd with (0111) which is (1010).\n",
    "then parity of 1010 will be same as parity of (10) xor'd with (10). i.e. of (00)\n",
    "now for last (00) = (0) xor'd with (0) i.e. 0.\n",
    "\n",
    "Hence this method takes **T(n) = O(logn)**.\n",
    "\n",
    "### Algorithm Intuition.\n",
    "11010111 xor will be stored in last 4 bits.\n",
    "11010111 ^ 00001101 and similarily on repeating we will get our parity on last bit."
   ]
  },
  {
   "cell_type": "code",
   "execution_count": 1,
   "id": "c62d4f7b-785d-4a38-87d1-f8c1539e1635",
   "metadata": {},
   "outputs": [
    {
     "data": {
      "text/plain": [
       "0"
      ]
     },
     "execution_count": 1,
     "metadata": {},
     "output_type": "execute_result"
    }
   ],
   "source": [
    "def parity(x):\n",
    "    x ^= x >> 32\n",
    "    x ^= x >> 16\n",
    "    x ^= x >> 8\n",
    "    x ^= x >> 4\n",
    "    x ^= x >> 2\n",
    "    x ^= x >> 1\n",
    "    return x & 0x1\n",
    "parity(12)"
   ]
  },
  {
   "cell_type": "markdown",
   "id": "a3ec079d-1ae4-468d-bd61-50643327bef4",
   "metadata": {},
   "source": [
    "# Swap Bits"
   ]
  },
  {
   "cell_type": "markdown",
   "id": "207f5baf-e9a7-4c02-9084-dda7d7136efe",
   "metadata": {},
   "source": [
    "Q. A 64-bit integer can be viewed as an array of 64bits, with the bit at index 0 corresponding to the\n",
    "least significant bit (LSB), and the bit at index 63 corresponding to the most significant bit (MSB).\n",
    "Implement code that takes as input a 64-bit integer and swaps the bits at indices i and j."
   ]
  },
  {
   "cell_type": "markdown",
   "id": "bcc4c89b-4971-4210-8414-a9fd786046ad",
   "metadata": {},
   "source": [
    "My Try with Py"
   ]
  },
  {
   "cell_type": "code",
   "execution_count": 41,
   "id": "30483e5e-411a-4c41-b0f8-f85a3f4af606",
   "metadata": {},
   "outputs": [
    {
     "data": {
      "text/plain": [
       "7"
      ]
     },
     "execution_count": 41,
     "metadata": {},
     "output_type": "execute_result"
    }
   ],
   "source": [
    "def swap_bits(number, i, j):\n",
    "    # make sure i is greater than j\n",
    "    if (i < j):\n",
    "        i, j = j, i\n",
    "        \n",
    "    # extracting ith and jth bits\n",
    "    x = number & 2**i\n",
    "    y = number & 2**j\n",
    "\n",
    "    # if y is 0 then\n",
    "    if (x ^ y == x):\n",
    "        # placing 1\n",
    "        number |= x >> (i-j)\n",
    "        # removing 1\n",
    "        number &= ~x\n",
    "    \n",
    "    # if x is 0 then\n",
    "    if (x ^ y == y):\n",
    "        # placing 1\n",
    "        number |= y << (i-j)\n",
    "        # removing 1\n",
    "        number &= ~y\n",
    "    \n",
    "    return number\n",
    "\n",
    "swap_bits(14, 0, 3)"
   ]
  },
  {
   "cell_type": "markdown",
   "id": "6954f396-e1a0-4fd4-b441-e9ee151ba437",
   "metadata": {},
   "source": [
    "Let's see a better approach"
   ]
  },
  {
   "cell_type": "code",
   "execution_count": 52,
   "id": "5dd89359-0154-43a1-98ff-03cdbdc49e7f",
   "metadata": {},
   "outputs": [
    {
     "data": {
      "text/plain": [
       "7"
      ]
     },
     "execution_count": 52,
     "metadata": {},
     "output_type": "execute_result"
    }
   ],
   "source": [
    "def swap_bits(number, i, j):\n",
    "    # Extract ith and jth bits to see if they differ\n",
    "    \n",
    "    if (number >> i) & 1 != (number >> j) & 1:\n",
    "        # ith and jth bits differ\n",
    "        # Select bits to flip with bitmask\n",
    "        bit_mask = (1 << i) | (1 << j)\n",
    "        # here we just xor the bit mask bcz\n",
    "        # 0 ^ 1 = 1\n",
    "        # 1 ^ 1 = 0, we swapped here 0 and 1.\n",
    "        number ^= bit_mask\n",
    "    return number\n",
    "swap_bits(14, 0, 3)"
   ]
  },
  {
   "cell_type": "markdown",
   "id": "27111e45-93de-44a9-a9de-256c4620e9f7",
   "metadata": {},
   "source": [
    "# Reverse Bits"
   ]
  },
  {
   "cell_type": "markdown",
   "id": "9da3baf3-276a-4f88-9750-bdd1aecc4170",
   "metadata": {},
   "source": [
    "Q. Write a program that takes a 64-bit unsigned integer and retums the 64-bit unsigned integer consisting of the bits of the input in reverse order. For example, if the input is (1110000000000001), the\n",
    "output should be (1000000000000111)."
   ]
  },
  {
   "cell_type": "markdown",
   "id": "4a8c5a7a-2337-43a6-8c6a-8f435a05de8e",
   "metadata": {},
   "source": [
    "My Try with Py (Brute-Force)"
   ]
  },
  {
   "cell_type": "code",
   "execution_count": 55,
   "id": "20f1069e-9235-4c89-8ca7-aea3db080a61",
   "metadata": {},
   "outputs": [
    {
     "data": {
      "text/plain": [
       "7"
      ]
     },
     "execution_count": 55,
     "metadata": {},
     "output_type": "execute_result"
    }
   ],
   "source": [
    "def reverse_bits(number):\n",
    "    for i in range(2):\n",
    "        number = swap_bits(number, i, 4-i-1)\n",
    "    return number\n",
    "reverse_bits(14)"
   ]
  },
  {
   "cell_type": "markdown",
   "id": "58305e88-3152-45e5-9853-626410bbaf55",
   "metadata": {},
   "source": [
    "### Using Lookup Table\n",
    "make a lookup table such that for every 16-bit integer y, A[y] holds its bit reversal.\n",
    "let number be divided into 4 16-bits numbers. y3, y2, y1, y0.\n",
    "so,\n",
    "* y3 is bit reversal of y0\n",
    "* y2 is bit reversal of y1\n",
    "* y1 is bit reversal of y2\n",
    "* y0 is bit reversal of y3\n",
    "\n",
    "**Time Complexity: T(n) = O(n/L)**\n",
    "where, n = word size and L = word size of cache"
   ]
  },
  {
   "cell_type": "code",
   "execution_count": null,
   "id": "70219f13-f8c2-49a8-819d-8d50d59e897e",
   "metadata": {},
   "outputs": [],
   "source": [
    "def reverse_bits(x):\n",
    "    MASK_SIZE = 16\n",
    "    BIT_MASK = 0xFFFF\n",
    "    return (\n",
    "        PRECOMPUTED_REVERSE[x & BIT_MASK] << (3 * MASK_SIZE) |\n",
    "        PRECOMPUTED_REVERSE[(x >> MASK_SIZE) & BIT_MASK] << (2 * MASK_SIZE) |\n",
    "        PRECOMPUTED_REVERSE[(x >> (2 * MASK_SIZE)) & BIT_MASK] << MASK_SIZE |\n",
    "        PRECOMPUTED_REVERSE[(x >> (3 * MASK_SIZE)) & BIT_MASK])"
   ]
  },
  {
   "cell_type": "markdown",
   "id": "a5d25e68",
   "metadata": {},
   "source": [
    "# Find the closest integer with the same weight"
   ]
  },
  {
   "cell_type": "code",
   "execution_count": 9,
   "id": "a9596323",
   "metadata": {},
   "outputs": [
    {
     "data": {
      "text/plain": [
       "5"
      ]
     },
     "execution_count": 9,
     "metadata": {},
     "output_type": "execute_result"
    }
   ],
   "source": [
    "def same_weight(n):\n",
    "    def swap_bits(n, i, j):\n",
    "        x, y = 1 << i, 1 << j\n",
    "        if not (\n",
    "            n & x == x and n & y == y or \n",
    "            n & x == 0 and n & y == 0\n",
    "        ): return n ^ (x | y)\n",
    "        return n\n",
    "    count, n1 = 0, n\n",
    "    temp = n & 1\n",
    "    while n & 1 == temp:\n",
    "        n >>= 1\n",
    "        count += 1\n",
    "    return swap_bits(n1, count, count - 1)\n",
    "same_weight(6)"
   ]
  },
  {
   "cell_type": "markdown",
   "id": "1588af60",
   "metadata": {},
   "source": [
    "## better code"
   ]
  },
  {
   "cell_type": "code",
   "execution_count": 10,
   "id": "b276de17",
   "metadata": {},
   "outputs": [
    {
     "data": {
      "text/plain": [
       "5"
      ]
     },
     "execution_count": 10,
     "metadata": {},
     "output_type": "execute_result"
    }
   ],
   "source": [
    "def same_weight(n):\n",
    "    NUM_UNSIGNED_BITS = 64\n",
    "    for i in range(NUM_UNSIGNED_BITS - 1):\n",
    "        if (n >> i) & 1 != (n >> i + 1) & 1:\n",
    "            return n ^ (1 << i | 1 << (i + 1)) # swap bits\n",
    "    raise ValueError(\"every bit is same\")\n",
    "same_weight(6)"
   ]
  },
  {
   "cell_type": "markdown",
   "id": "5a5cd91a",
   "metadata": {},
   "source": [
    "# Check if a decimal number is a palindrome"
   ]
  },
  {
   "cell_type": "code",
   "execution_count": 15,
   "id": "1acbc75d",
   "metadata": {},
   "outputs": [
    {
     "data": {
      "text/plain": [
       "True"
      ]
     },
     "execution_count": 15,
     "metadata": {},
     "output_type": "execute_result"
    }
   ],
   "source": [
    "def is_palindrome(num):\n",
    "    bits = 32\n",
    "    num2 = num\n",
    "    f, b = 0, num % 10\n",
    "    while not f:\n",
    "        f = num2 // 10**bits\n",
    "        num2 %= 10**bits\n",
    "        bits -= 1\n",
    "    while f == b and num != 0:\n",
    "        f = num2 // 10**bits\n",
    "        num2 %= 10**bits\n",
    "        num //= 10\n",
    "        b = num % 10\n",
    "        bits -= 1\n",
    "    return f==b\n",
    "is_palindrome(121)"
   ]
  },
  {
   "cell_type": "code",
   "execution_count": 22,
   "id": "9b8dfd1e-8dca-4ad5-b695-edb4c298229a",
   "metadata": {},
   "outputs": [
    {
     "data": {
      "text/plain": [
       "True"
      ]
     },
     "execution_count": 22,
     "metadata": {},
     "output_type": "execute_result"
    }
   ],
   "source": [
    "def is_palindrome_number(x):\n",
    "    import math\n",
    "    if x <= 0:\n",
    "        return x == 0\n",
    "    \n",
    "    nums_digit = math.floor(math.log10(x)) + 1\n",
    "    msd_mask = 10 ** (nums_digit - 1)\n",
    "    \n",
    "    # we are going till half of number of digits\n",
    "    for i in range(nums_digit//2):\n",
    "        if x // msd_mask != x % 10:\n",
    "            return False\n",
    "        x %= msd_mask # removing MSD\n",
    "        x //= 10      # removing LSD\n",
    "        msd_mask //= 100 # as we are removing two digits that's why by 100 and not by 10\n",
    "    return True\n",
    "is_palindrome_number(15177151)"
   ]
  },
  {
   "cell_type": "code",
   "execution_count": 29,
   "id": "1ef9b3d7-1b5e-480d-9756-426048afde5b",
   "metadata": {},
   "outputs": [
    {
     "name": "stdout",
     "output_type": "stream",
     "text": [
      "[main 9dcc211] decimal integer palindrome\n",
      " 3 files changed, 269 insertions(+), 16 deletions(-)\n"
     ]
    }
   ],
   "source": [
    "! git commit -m \"decimal inte"
   ]
  },
  {
   "cell_type": "code",
   "execution_count": null,
   "id": "7e56d1c6-ed49-4294-92a3-917b17e6f9fb",
   "metadata": {},
   "outputs": [],
   "source": []
  }
 ],
 "metadata": {
  "kernelspec": {
   "display_name": "Python 3 (ipykernel)",
   "language": "python",
   "name": "python3"
  },
  "language_info": {
   "codemirror_mode": {
    "name": "ipython",
    "version": 3
   },
   "file_extension": ".py",
   "mimetype": "text/x-python",
   "name": "python",
   "nbconvert_exporter": "python",
   "pygments_lexer": "ipython3",
   "version": "3.10.9"
  },
  "vscode": {
   "interpreter": {
    "hash": "916dbcbb3f70747c44a77c7bcd40155683ae19c65e1c03b4aa3499c5328201f1"
   }
  }
 },
 "nbformat": 4,
 "nbformat_minor": 5
}

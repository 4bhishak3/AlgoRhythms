{
 "cells": [
  {
   "cell_type": "markdown",
   "id": "a05f871e-7f91-4aa4-b9fb-15df1772a8a8",
   "metadata": {},
   "source": [
    "# Strings"
   ]
  },
  {
   "cell_type": "markdown",
   "id": "68f19157-b114-405e-9c15-12c366faa264",
   "metadata": {},
   "source": [
    "## Palindromic Strings"
   ]
  },
  {
   "cell_type": "code",
   "execution_count": 3,
   "id": "38e6bdf0-1c1d-4373-8315-1e52bacc6a01",
   "metadata": {},
   "outputs": [
    {
     "data": {
      "text/plain": [
       "False"
      ]
     },
     "execution_count": 3,
     "metadata": {},
     "output_type": "execute_result"
    }
   ],
   "source": [
    "# doesn't uses any extra space!!\n",
    "def is_palindromic(s):\n",
    "    # notice here s[~i] is s[-(i+1)]\n",
    "    return all(s[i] == s[~i] for i in range(len(s)//2))"
   ]
  },
  {
   "cell_type": "markdown",
   "id": "34710ba4-08c5-4eb1-a849-d8bd7f1de2c5",
   "metadata": {},
   "source": [
    "## string library\n",
    "- `strip()`\n",
    "- `s.startswith(prefix)`\n",
    "- `s.endswith(suffix)`\n",
    "- `s.split(',')`\n",
    "- `','.join(['a','b'])`\n",
    "- `s.tolower()`"
   ]
  },
  {
   "cell_type": "markdown",
   "id": "c2b236c1-7df9-4d77-9171-69aa560e9ba2",
   "metadata": {},
   "source": [
    "## some caveats\n",
    "- strings are immutable. So even single concatenation in for loop `n` times has a time complexity of O($n^2$)\n",
    "- updating a mutable string from front is slow, so see if it's possible to write the values from back"
   ]
  },
  {
   "cell_type": "markdown",
   "id": "61824e0b-bef2-4cec-ac3d-5c67e8e065ed",
   "metadata": {},
   "source": [
    "## Interconvert Strings and Integers\n",
    "Q. Implement an integer to string conversion function, and a string to integer conversion function."
   ]
  },
  {
   "cell_type": "code",
   "execution_count": 36,
   "id": "3f8e638e-3831-48a8-8bcf-718abe70824f",
   "metadata": {},
   "outputs": [
    {
     "data": {
      "text/plain": [
       "'-123'"
      ]
     },
     "execution_count": 36,
     "metadata": {},
     "output_type": "execute_result"
    }
   ],
   "source": [
    "def integer_to_string(x):\n",
    "    string = []\n",
    "    is_neg = False\n",
    "    if x < 0:\n",
    "        is_neg, x = True, -x\n",
    "    while (x):\n",
    "        string.append(chr(ord('0') + x % 10))\n",
    "        x //= 10\n",
    "    return ('-' if is_neg else '') + ''.join(reversed(string))\n",
    "integer_to_string(-123)"
   ]
  },
  {
   "cell_type": "code",
   "execution_count": 58,
   "id": "6764d842-e95e-4634-a161-e1fd679d8bb5",
   "metadata": {},
   "outputs": [
    {
     "data": {
      "text/plain": [
       "-130"
      ]
     },
     "execution_count": 58,
     "metadata": {},
     "output_type": "execute_result"
    }
   ],
   "source": [
    "def string_to_integer(x):\n",
    "    sign = -1 if x[0] == '-' else 1\n",
    "    nums = 0\n",
    "    for i in x[x[0] == '-':]:\n",
    "        nums = nums * 10 + (ord(i) - ord('0'))\n",
    "    return sign * nums\n",
    "string_to_integer(\"-130\")"
   ]
  },
  {
   "cell_type": "code",
   "execution_count": 40,
   "id": "6e248b04-90f6-469a-8b00-d44237fdee1c",
   "metadata": {},
   "outputs": [],
   "source": [
    "def string_to_integer(x):\n",
    "    return functools.reduce(\n",
    "        lambda running_sum, c: running_sum * 10 + string.digits.index(c),\n",
    "        s[s[0] == '-':], 0) * (-1 if s[0] == '-' else 1)"
   ]
  },
  {
   "cell_type": "markdown",
   "id": "29ad9029-868d-4fbc-b9fb-aeb1a974b7bc",
   "metadata": {},
   "source": [
    "## Base Conversion\n",
    "Q. Write a program that performs base conversion"
   ]
  },
  {
   "cell_type": "code",
   "execution_count": 103,
   "id": "9733b237-b01c-4a49-842e-18ac78955e4b",
   "metadata": {},
   "outputs": [
    {
     "data": {
      "text/plain": [
       "'1B2'"
      ]
     },
     "execution_count": 103,
     "metadata": {},
     "output_type": "execute_result"
    }
   ],
   "source": [
    "import string\n",
    "def convert_base(s, b1, b2):\n",
    "    is_neg = True if s[0] == '-' else False\n",
    "    dec_num = 0\n",
    "    for i in s[s[0] == '-':]:\n",
    "        dec_num = dec_num * b1 + string.hexdigits.index(i.lower())\n",
    "    num = []\n",
    "    while dec_num:\n",
    "        num.append(string.hexdigits[dec_num % b2].upper())\n",
    "        dec_num //= b2\n",
    "    return ('-' if is_neg else '') + ''.join(reversed(num))\n",
    "convert_base(\"434\", 10, 16)"
   ]
  },
  {
   "cell_type": "code",
   "execution_count": 105,
   "id": "a2fd03d6-70b4-4476-a366-c60ad60cc1d6",
   "metadata": {},
   "outputs": [
    {
     "data": {
      "text/plain": [
       "'A'"
      ]
     },
     "execution_count": 105,
     "metadata": {},
     "output_type": "execute_result"
    }
   ],
   "source": [
    "def convert_from_base(num_as_int, base):\n",
    "    return ('' if num_as_int == 0\n",
    "            else convert_from_base(num_as_int // base, base) +\n",
    "                 string.hexdigits[num_as_int % base].upper()\n",
    "           )\n",
    "convert_from_base(10, 16)"
   ]
  },
  {
   "cell_type": "markdown",
   "id": "7ff4bec1-3496-4e65-9ec3-044f5e3dac33",
   "metadata": {},
   "source": [
    "## Computer spreadsheet column encoding\n",
    "Q. Implement a function that converts spreadsheet column id to the corresponding integer with \"A\" corresponding to 1"
   ]
  },
  {
   "cell_type": "code",
   "execution_count": 120,
   "id": "b05c6e0e-b0b7-445f-b2e8-313cddc768e6",
   "metadata": {},
   "outputs": [
    {
     "data": {
      "text/plain": [
       "728"
      ]
     },
     "execution_count": 120,
     "metadata": {},
     "output_type": "execute_result"
    }
   ],
   "source": [
    "string.ascii_uppercase\n",
    "def decode_column_id(s):\n",
    "    num = 0\n",
    "    for i in s:\n",
    "        num = num * 26 + (string.ascii_uppercase.index(i.upper())+1)\n",
    "    return num\n",
    "decode_column_id(\"AAZ\")"
   ]
  },
  {
   "cell_type": "code",
   "execution_count": 126,
   "id": "59e313e9-37a7-4d7c-8916-358b86872c23",
   "metadata": {},
   "outputs": [
    {
     "data": {
      "text/plain": [
       "27"
      ]
     },
     "execution_count": 126,
     "metadata": {},
     "output_type": "execute_result"
    }
   ],
   "source": [
    "import functools\n",
    "def decode_column_id(s):\n",
    "    return functools.reduce(\n",
    "        lambda result, c: result * 26 + string.ascii_uppercase.index(c.upper()) + 1, s, 0\n",
    "    )\n",
    "decode_column_id(\"AA\")"
   ]
  },
  {
   "cell_type": "markdown",
   "id": "35b716c7-c1a6-4294-9b78-d51946ba5e4e",
   "metadata": {},
   "source": [
    "## Replace And Remove\n",
    "Q. Write a program which takes as input an array of characters, and removes each 'b' and replaces each'a'by two 'd's. Specifically, along with the array, you are provided an integer-valued size. Size denotes the number of entries of the array that the operation is to be applied to. You do not have to worry about preserving subsequent entries. For example, if the array is (a,b,a,c,-) and the size is 4, then you can return (d,d,d,d,c). You can assume there is enough space in the array to hold the final result"
   ]
  },
  {
   "cell_type": "code",
   "execution_count": 139,
   "id": "25fbb7ce-36a9-4d56-aa03-e7a617090286",
   "metadata": {},
   "outputs": [
    {
     "name": "stdout",
     "output_type": "stream",
     "text": [
      "2\n"
     ]
    },
    {
     "data": {
      "text/plain": [
       "['c', 'c', 'd']"
      ]
     },
     "execution_count": 139,
     "metadata": {},
     "output_type": "execute_result"
    }
   ],
   "source": [
    "def replace_and_remove(char_array, n):\n",
    "    write_idx, a_count = 0, 0\n",
    "    \n",
    "    # removing b\n",
    "    for i in range(len(char_array)):\n",
    "        if char_array[i] != 'b':\n",
    "            char_array[write_idx] = char_array[i]\n",
    "            write_idx += 1\n",
    "        if char_array[i] == 'a':\n",
    "            a_count += 1\n",
    "            \n",
    "    # replacing 'a' with 'dd'\n",
    "    print(write_idx)\n",
    "    cur_idx = write_idx - 1\n",
    "    while(cur_idx >= 0):\n",
    "        if char_array[cur_idx] == 'a':\n",
    "            char_array[cur_idx] = char_array[cur_idx+1] = 'd'\n",
    "            write_idx -= 2\n",
    "        else:\n",
    "            char_array[cur_idx + 1] = char_array[cur_idx]\n",
    "            wi\n",
    "        cur_idx -= 1\n",
    "\n",
    "A = ['a','b','c','e','b','a']\n",
    "A = ['b','c','d']\n",
    "replace_and_remove(A, 10)\n",
    "A"
   ]
  },
  {
   "cell_type": "code",
   "execution_count": null,
   "id": "bf2375fc-c974-4bee-8b8e-1945cf708851",
   "metadata": {},
   "outputs": [],
   "source": []
  }
 ],
 "metadata": {
  "kernelspec": {
   "display_name": "Python 3 (ipykernel)",
   "language": "python",
   "name": "python3"
  },
  "language_info": {
   "codemirror_mode": {
    "name": "ipython",
    "version": 3
   },
   "file_extension": ".py",
   "mimetype": "text/x-python",
   "name": "python",
   "nbconvert_exporter": "python",
   "pygments_lexer": "ipython3",
   "version": "3.10.5"
  }
 },
 "nbformat": 4,
 "nbformat_minor": 5
}

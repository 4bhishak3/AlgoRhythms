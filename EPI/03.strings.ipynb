{
 "cells": [
  {
   "cell_type": "markdown",
   "id": "a05f871e-7f91-4aa4-b9fb-15df1772a8a8",
   "metadata": {},
   "source": [
    "# Strings"
   ]
  },
  {
   "cell_type": "markdown",
   "id": "68f19157-b114-405e-9c15-12c366faa264",
   "metadata": {},
   "source": [
    "## Palindromic Strings"
   ]
  },
  {
   "cell_type": "code",
   "execution_count": 1,
   "id": "38e6bdf0-1c1d-4373-8315-1e52bacc6a01",
   "metadata": {},
   "outputs": [],
   "source": [
    "# doesn't uses any extra space!!\n",
    "def is_palindromic(s):\n",
    "    # notice here s[~i] is s[-(i+1)]\n",
    "    return all(s[i] == s[~i] for i in range(len(s)//2))"
   ]
  },
  {
   "cell_type": "markdown",
   "id": "34710ba4-08c5-4eb1-a849-d8bd7f1de2c5",
   "metadata": {
    "jupyter": {
     "source_hidden": true
    },
    "tags": []
   },
   "source": [
    "## string library\n",
    "- `strip()`\n",
    "- `s.startswith(prefix)`\n",
    "- `s.endswith(suffix)`\n",
    "- `s.split(',')`\n",
    "- `','.join(['a','b'])`\n",
    "- `s.tolower()`"
   ]
  },
  {
   "cell_type": "markdown",
   "id": "c2b236c1-7df9-4d77-9171-69aa560e9ba2",
   "metadata": {},
   "source": [
    "## some caveats\n",
    "- strings are immutable. So even single concatenation in for loop `n` times has a time complexity of O($n^2$)\n",
    "- updating a mutable string from front is slow, so see if it's possible to write the values from back"
   ]
  },
  {
   "cell_type": "markdown",
   "id": "61824e0b-bef2-4cec-ac3d-5c67e8e065ed",
   "metadata": {},
   "source": [
    "## Interconvert Strings and Integers\n",
    "Q. Implement an integer to string conversion function, and a string to integer conversion function."
   ]
  },
  {
   "cell_type": "code",
   "execution_count": 2,
   "id": "3f8e638e-3831-48a8-8bcf-718abe70824f",
   "metadata": {},
   "outputs": [
    {
     "data": {
      "text/plain": [
       "'-123'"
      ]
     },
     "execution_count": 2,
     "metadata": {},
     "output_type": "execute_result"
    }
   ],
   "source": [
    "def integer_to_string(x):\n",
    "    string = []\n",
    "    is_neg = False\n",
    "    if x < 0:\n",
    "        is_neg, x = True, -x\n",
    "    while (x):\n",
    "        string.append(chr(ord('0') + x % 10))\n",
    "        x //= 10\n",
    "    return ('-' if is_neg else '') + ''.join(reversed(string))\n",
    "integer_to_string(-123)"
   ]
  },
  {
   "cell_type": "code",
   "execution_count": 3,
   "id": "6764d842-e95e-4634-a161-e1fd679d8bb5",
   "metadata": {},
   "outputs": [
    {
     "data": {
      "text/plain": [
       "-130"
      ]
     },
     "execution_count": 3,
     "metadata": {},
     "output_type": "execute_result"
    }
   ],
   "source": [
    "def string_to_integer(x):\n",
    "    sign = -1 if x[0] == '-' else 1\n",
    "    nums = 0\n",
    "    for i in x[x[0] == '-':]:\n",
    "        nums = nums * 10 + (ord(i) - ord('0'))\n",
    "    return sign * nums\n",
    "string_to_integer(\"-130\")"
   ]
  },
  {
   "cell_type": "code",
   "execution_count": 4,
   "id": "6e248b04-90f6-469a-8b00-d44237fdee1c",
   "metadata": {},
   "outputs": [],
   "source": [
    "def string_to_integer(x):\n",
    "    return functools.reduce(\n",
    "        lambda running_sum, c: running_sum * 10 + string.digits.index(c),\n",
    "        s[s[0] == '-':], 0) * (-1 if s[0] == '-' else 1)"
   ]
  },
  {
   "cell_type": "markdown",
   "id": "29ad9029-868d-4fbc-b9fb-aeb1a974b7bc",
   "metadata": {},
   "source": [
    "## Base Conversion\n",
    "Q. Write a program that performs base conversion"
   ]
  },
  {
   "cell_type": "code",
   "execution_count": 5,
   "id": "9733b237-b01c-4a49-842e-18ac78955e4b",
   "metadata": {},
   "outputs": [
    {
     "data": {
      "text/plain": [
       "'1B2'"
      ]
     },
     "execution_count": 5,
     "metadata": {},
     "output_type": "execute_result"
    }
   ],
   "source": [
    "import string\n",
    "def convert_base(s, b1, b2):\n",
    "    is_neg = True if s[0] == '-' else False\n",
    "    dec_num = 0\n",
    "    for i in s[s[0] == '-':]:\n",
    "        dec_num = dec_num * b1 + string.hexdigits.index(i.lower())\n",
    "    num = []\n",
    "    while dec_num:\n",
    "        num.append(string.hexdigits[dec_num % b2].upper())\n",
    "        dec_num //= b2\n",
    "    return ('-' if is_neg else '') + ''.join(reversed(num))\n",
    "convert_base(\"434\", 10, 16)"
   ]
  },
  {
   "cell_type": "code",
   "execution_count": 6,
   "id": "a2fd03d6-70b4-4476-a366-c60ad60cc1d6",
   "metadata": {},
   "outputs": [
    {
     "data": {
      "text/plain": [
       "'A'"
      ]
     },
     "execution_count": 6,
     "metadata": {},
     "output_type": "execute_result"
    }
   ],
   "source": [
    "def convert_from_base(num_as_int, base):\n",
    "    return ('' if num_as_int == 0\n",
    "            else convert_from_base(num_as_int // base, base) +\n",
    "                 string.hexdigits[num_as_int % base].upper()\n",
    "           )\n",
    "convert_from_base(10, 16)"
   ]
  },
  {
   "cell_type": "markdown",
   "id": "7ff4bec1-3496-4e65-9ec3-044f5e3dac33",
   "metadata": {},
   "source": [
    "## Computer spreadsheet column encoding\n",
    "Q. Implement a function that converts spreadsheet column id to the corresponding integer with \"A\" corresponding to 1"
   ]
  },
  {
   "cell_type": "code",
   "execution_count": 7,
   "id": "b05c6e0e-b0b7-445f-b2e8-313cddc768e6",
   "metadata": {},
   "outputs": [
    {
     "data": {
      "text/plain": [
       "728"
      ]
     },
     "execution_count": 7,
     "metadata": {},
     "output_type": "execute_result"
    }
   ],
   "source": [
    "string.ascii_uppercase\n",
    "def decode_column_id(s):\n",
    "    num = 0\n",
    "    for i in s:\n",
    "        num = num * 26 + (string.ascii_uppercase.index(i.upper())+1)\n",
    "    return num\n",
    "decode_column_id(\"AAZ\")"
   ]
  },
  {
   "cell_type": "code",
   "execution_count": 8,
   "id": "59e313e9-37a7-4d7c-8916-358b86872c23",
   "metadata": {},
   "outputs": [
    {
     "data": {
      "text/plain": [
       "27"
      ]
     },
     "execution_count": 8,
     "metadata": {},
     "output_type": "execute_result"
    }
   ],
   "source": [
    "import functools\n",
    "def decode_column_id(s):\n",
    "    return functools.reduce(\n",
    "        lambda result, c: result * 26 + string.ascii_uppercase.index(c.upper()) + 1, s, 0\n",
    "    )\n",
    "decode_column_id(\"AA\")"
   ]
  },
  {
   "cell_type": "markdown",
   "id": "35b716c7-c1a6-4294-9b78-d51946ba5e4e",
   "metadata": {},
   "source": [
    "## Replace And Remove\n",
    "Q. Write a program which takes as input an array of characters, and removes each 'b' and replaces each'a'by two 'd's. Specifically, along with the array, you are provided an integer-valued size. Size denotes the number of entries of the array that the operation is to be applied to. You do not have to worry about preserving subsequent entries. For example, if the array is (a,b,a,c,...) and the size is 4, then you can return (d,d,d,d,c,...). You can assume there is enough space in the array to hold the final result"
   ]
  },
  {
   "cell_type": "code",
   "execution_count": 24,
   "id": "25fbb7ce-36a9-4d56-aa03-e7a617090286",
   "metadata": {},
   "outputs": [
    {
     "data": {
      "text/plain": [
       "['d', 'd', 'd', 'd', 'c', 'd', 'd', 'd', 'e']"
      ]
     },
     "execution_count": 24,
     "metadata": {},
     "output_type": "execute_result"
    }
   ],
   "source": [
    "def replace_and_remove(A):\n",
    "    write_index = 0\n",
    "    for i in range(len(A)):\n",
    "        if A[i] != \"b\":\n",
    "            A[write_index] = A[i]\n",
    "            write_index += 1\n",
    "    write_index -= 1\n",
    "    i = len(A) - 1\n",
    "    while (i >= 0):\n",
    "        if A[write_index] == \"a\":\n",
    "            A[i] = A[i-1] = \"d\"\n",
    "            i -= 2\n",
    "        else:\n",
    "            A[i] = A[write_index]\n",
    "            i -= 1\n",
    "        write_index -= 1\n",
    "    return A\n",
    "replace_and_remove(['a','a','b','b','c','d','a','e','b'])"
   ]
  },
  {
   "cell_type": "markdown",
   "id": "21860e51-54dc-43e4-861a-e2c7176d14d8",
   "metadata": {},
   "source": [
    "## Variants\n",
    "**Variant**: You have an array C of characters. The characters may be letters, digits, blanks, and punctuation. The telex-encoding of the array C is an array T of characters in which letters, digits, and blanks appear as before, but punctuation marks are spelled out. For exalnple, telex-encoding entails replacing the character \".\" by the string \"DOT\", the character \",\" by \"COMMA\", the character \"?\" by \"QUESTION MARK\", and the character \"!\" by \"EXCLAMATION MARK\". Design an algorithm to perform telex-encoding with O(1) space. \n",
    "**Variant**: Write a program which merges two sorted arrays of integers, A and B. Specifically, the final result should be a sorted array of length m + n, where n and m are the lengths of A arrd B, respectively. Use O(1) additional storage. Assume the result is stored in A, which has sufficient space. These arrays are C-style arrays, i.e., contiguous preallocated blocks of memory."
   ]
  },
  {
   "cell_type": "markdown",
   "id": "3f679f1b-1fb5-4e17-8954-7e1d250755d7",
   "metadata": {},
   "source": [
    "## Test Palindromicity\n",
    "Q. A function which takes input a string s and returns true if s is a palindromic string."
   ]
  },
  {
   "cell_type": "code",
   "execution_count": 31,
   "id": "62be1abc-0cf2-45fe-aff1-b552413e0bd0",
   "metadata": {},
   "outputs": [
    {
     "data": {
      "text/plain": [
       "True"
      ]
     },
     "execution_count": 31,
     "metadata": {},
     "output_type": "execute_result"
    }
   ],
   "source": [
    "def is_palindromic_string(s):\n",
    "    l, r = 0, len(s) - 1\n",
    "    while l < r:\n",
    "        while l < r and not s[l].isalnum():\n",
    "            l += 1\n",
    "        while l < r and not s[r].isalnum():\n",
    "            r -= 1\n",
    "        if s[l].lower() != s[r].lower():\n",
    "            return False\n",
    "        l, r = l+1, r-1\n",
    "    return True\n",
    "is_palindromic_string(\"A man, a plan, a canal, Panama\")"
   ]
  },
  {
   "cell_type": "markdown",
   "id": "e68bc912-88cc-4ae4-8394-53a2f32894d7",
   "metadata": {},
   "source": [
    "## Reverse all the words in a sentence"
   ]
  },
  {
   "cell_type": "markdown",
   "id": "ff61e8e6-d51f-4948-8b6f-6ef230667576",
   "metadata": {},
   "source": [
    "Given a string containing a set of words separated by whitespace, we would like to transform it to a string in which the words appear in the reverse order. For example, \"Alice likes Bob\" transforms to \"Bob likes Alice\". We do not need to keep the original string. Implement a function for reversing the words in a string s."
   ]
  },
  {
   "cell_type": "markdown",
   "id": "21360f10-0f4d-45fb-aa4f-fab540bb80eb",
   "metadata": {},
   "source": [
    "### My Try With Py\n",
    "Time complexity - $O(n)$, Space complexityo - $O(n)$"
   ]
  },
  {
   "cell_type": "code",
   "execution_count": 35,
   "id": "130ee97f-bbf7-42b7-b008-08348b376f9e",
   "metadata": {},
   "outputs": [
    {
     "data": {
      "text/plain": [
       "'bruv mad you are up is what'"
      ]
     },
     "execution_count": 35,
     "metadata": {},
     "output_type": "execute_result"
    }
   ],
   "source": [
    "def reverse_words(s):\n",
    "    ls = s.split()\n",
    "    for i in range(len(ls) // 2):\n",
    "        ls[i], ls[~i] = ls[~i], ls[i]\n",
    "    return ' '.join(ls)\n",
    "reverse_words(\"what is up are you mad bruv\")"
   ]
  },
  {
   "cell_type": "code",
   "execution_count": 68,
   "id": "dc14e82f-70b7-432e-b906-93c2a468f78c",
   "metadata": {},
   "outputs": [
    {
     "data": {
      "text/plain": [
       "bytearray(b'good is blur')"
      ]
     },
     "execution_count": 68,
     "metadata": {},
     "output_type": "execute_result"
    }
   ],
   "source": [
    "# suppose given string is bytearray\n",
    "def reverse_words(s):\n",
    "    s.reverse()\n",
    "    def reverse_range(s, start, end):\n",
    "        while start < end:\n",
    "            s[start], s[end] = s[end], s[start]\n",
    "            start, end = start + 1, end - 1\n",
    "    start = 0\n",
    "    while True:\n",
    "        end = s.find(b' ', start)\n",
    "        if end < 0:\n",
    "            break\n",
    "        reverse_range(s, start, end - 1)\n",
    "        start = end + 1\n",
    "    reverse_range(s, start, len(s) - 1)\n",
    "a = bytearray(b'blur is good')\n",
    "reverse_words(a)\n",
    "a"
   ]
  },
  {
   "cell_type": "markdown",
   "id": "454542aa-abde-4436-9070-651a69593be3",
   "metadata": {},
   "source": [
    "## Computer Mnemonics For a Prime Number"
   ]
  },
  {
   "cell_type": "code",
   "execution_count": 84,
   "id": "5383b64a-0bcc-466d-9a65-a33c7a4469a4",
   "metadata": {},
   "outputs": [
    {
     "name": "stdout",
     "output_type": "stream",
     "text": [
      "3\n",
      "2\n",
      "0\n"
     ]
    },
    {
     "data": {
      "text/plain": [
       "'ad'"
      ]
     },
     "execution_count": 84,
     "metadata": {},
     "output_type": "execute_result"
    }
   ],
   "source": [
    "mnemonics = []\n",
    "def mnemonics_for_prime_number(number, mnemonics):\n",
    "    mp = ('','','abc','def','ghl','jkl','mno','pqrs','tuv','wxyz')\n",
    "    if not number:\n",
    "        mne\n",
    "    else:\n",
    "        digit = number % 10\n",
    "        print(digit)\n",
    "        number //= 10\n",
    "        for i in range(3):\n",
    "            return mp[digit][i] + mnemonics_for_prime_number(number, mnemonics)\n",
    "mnemonics_for_prime_number(23)"
   ]
  },
  {
   "cell_type": "code",
   "execution_count": null,
   "id": "12a3d187-0888-45cf-8f25-51db14c66506",
   "metadata": {},
   "outputs": [],
   "source": []
  }
 ],
 "metadata": {
  "kernelspec": {
   "display_name": "Python 3 (ipykernel)",
   "language": "python",
   "name": "python3"
  },
  "language_info": {
   "codemirror_mode": {
    "name": "ipython",
    "version": 3
   },
   "file_extension": ".py",
   "mimetype": "text/x-python",
   "name": "python",
   "nbconvert_exporter": "python",
   "pygments_lexer": "ipython3",
   "version": "3.10.5"
  }
 },
 "nbformat": 4,
 "nbformat_minor": 5
}

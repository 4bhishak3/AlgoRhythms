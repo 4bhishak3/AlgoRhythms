{
 "cells": [
  {
   "cell_type": "markdown",
   "id": "a05f871e-7f91-4aa4-b9fb-15df1772a8a8",
   "metadata": {},
   "source": [
    "# Strings"
   ]
  },
  {
   "cell_type": "markdown",
   "id": "68f19157-b114-405e-9c15-12c366faa264",
   "metadata": {},
   "source": [
    "## Palindromic Strings"
   ]
  },
  {
   "cell_type": "code",
   "execution_count": 3,
   "id": "38e6bdf0-1c1d-4373-8315-1e52bacc6a01",
   "metadata": {},
   "outputs": [
    {
     "data": {
      "text/plain": [
       "False"
      ]
     },
     "execution_count": 3,
     "metadata": {},
     "output_type": "execute_result"
    }
   ],
   "source": [
    "# doesn't uses any extra space!!\n",
    "def is_palindromic(s):\n",
    "    # notice here s[~i] is s[-(i+1)]\n",
    "    return all(s[i] == s[~i] for i in range(len(s)//2))"
   ]
  },
  {
   "cell_type": "markdown",
   "id": "34710ba4-08c5-4eb1-a849-d8bd7f1de2c5",
   "metadata": {},
   "source": [
    "## string library\n",
    "- `strip()`\n",
    "- `s.startswith(prefix)`\n",
    "- `s.endswith(suffix)`\n",
    "- `s.split(',')`\n",
    "- `','.join(['a','b'])`\n",
    "- `s.tolower()`"
   ]
  },
  {
   "cell_type": "markdown",
   "id": "c2b236c1-7df9-4d77-9171-69aa560e9ba2",
   "metadata": {},
   "source": [
    "## some caveats\n",
    "- strings are immutable. So even single concatenation in for loop `n` times has a time complexity of O($n^2$)\n",
    "- updating a mutable string from front is slow, so see if it's possible to write the values from back"
   ]
  },
  {
   "cell_type": "markdown",
   "id": "61824e0b-bef2-4cec-ac3d-5c67e8e065ed",
   "metadata": {},
   "source": [
    "## Interconvert Strings and Integers\n",
    "Q. Implement an integer to string conversion function, and a string to integer conversion function."
   ]
  },
  {
   "cell_type": "code",
   "execution_count": 36,
   "id": "3f8e638e-3831-48a8-8bcf-718abe70824f",
   "metadata": {},
   "outputs": [
    {
     "data": {
      "text/plain": [
       "'-123'"
      ]
     },
     "execution_count": 36,
     "metadata": {},
     "output_type": "execute_result"
    }
   ],
   "source": [
    "def integer_to_string(x):\n",
    "    string = []\n",
    "    is_neg = False\n",
    "    if x < 0:\n",
    "        is_neg, x = True, -x\n",
    "    while (x):\n",
    "        string.append(chr(ord('0') + x % 10))\n",
    "        x //= 10\n",
    "    return ('-' if is_neg else '') + ''.join(reversed(string))\n",
    "integer_to_string(-123)"
   ]
  },
  {
   "cell_type": "code",
   "execution_count": 43,
   "id": "6764d842-e95e-4634-a161-e1fd679d8bb5",
   "metadata": {},
   "outputs": [
    {
     "data": {
      "text/plain": [
       "-10"
      ]
     },
     "execution_count": 43,
     "metadata": {},
     "output_type": "execute_result"
    }
   ],
   "source": [
    "def string_to_integer(x):\n",
    "    sign = -1 if x[0] == '-' else 1\n",
    "    start_index = 1 if x[0] == '-' else 0\n",
    "    nums = 0\n",
    "    for i in x[start_index:]:\n",
    "        nums = nums * 10 + (ord(i) - ord('0'))\n",
    "    return sign * nums\n",
    "string_to_integer(\"-10\")"
   ]
  },
  {
   "cell_type": "code",
   "execution_count": 40,
   "id": "6e248b04-90f6-469a-8b00-d44237fdee1c",
   "metadata": {},
   "outputs": [],
   "source": [
    "def string_to_integer(x):\n",
    "    return functools.reduce(\n",
    "        lambda running_sum, c: running_sum * 10 + string.digits.index(c),\n",
    "        s[s[0] == '-':], 0) * (-1 if s[0] == '-' else 1)"
   ]
  },
  {
   "cell_type": "code",
   "execution_count": 42,
   "id": "f4d22a81-4c37-4f91-82c9-ada7f61d277b",
   "metadata": {},
   "outputs": [
    {
     "data": {
      "text/plain": [
       "'ow'"
      ]
     },
     "execution_count": 42,
     "metadata": {},
     "output_type": "execute_result"
    }
   ],
   "source": []
  },
  {
   "cell_type": "code",
   "execution_count": null,
   "id": "9733b237-b01c-4a49-842e-18ac78955e4b",
   "metadata": {},
   "outputs": [],
   "source": []
  }
 ],
 "metadata": {
  "kernelspec": {
   "display_name": "Python 3 (ipykernel)",
   "language": "python",
   "name": "python3"
  },
  "language_info": {
   "codemirror_mode": {
    "name": "ipython",
    "version": 3
   },
   "file_extension": ".py",
   "mimetype": "text/x-python",
   "name": "python",
   "nbconvert_exporter": "python",
   "pygments_lexer": "ipython3",
   "version": "3.10.5"
  }
 },
 "nbformat": 4,
 "nbformat_minor": 5
}

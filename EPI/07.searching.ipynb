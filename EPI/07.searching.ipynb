{
 "cells": [
  {
   "cell_type": "markdown",
   "id": "e4159bf2-4204-4428-a246-893b7a7755a4",
   "metadata": {},
   "source": [
    "# Binary Search\n",
    "Many implementations of binary search includes a common bug.\n",
    "What is that bug you ask? i.e. M = (L+U) // 2\n",
    "This can lead to overflow (very less likely in python but in other programming languages yes it does).\n",
    "So, what is the correct way? M = L + (U-L) // 2"
   ]
  },
  {
   "cell_type": "code",
   "execution_count": 2,
   "id": "a5096936-d3f1-40f4-98ac-54188b5b5419",
   "metadata": {},
   "outputs": [
    {
     "data": {
      "text/plain": [
       "3"
      ]
     },
     "execution_count": 2,
     "metadata": {},
     "output_type": "execute_result"
    }
   ],
   "source": [
    "def binary_search(A, x):\n",
    "    L, U = 0, len(A)\n",
    "    while L <= U:\n",
    "        M = L + (U-L) // 2\n",
    "        if A[M] == x:\n",
    "            return M\n",
    "        elif A[M] < x:\n",
    "            L = M + 1\n",
    "        else:\n",
    "            U = M - 1\n",
    "binary_search([1,2,3,4,5], 4)"
   ]
  },
  {
   "cell_type": "markdown",
   "id": "4befa292-7441-44cb-b355-ae012f100eed",
   "metadata": {},
   "source": [
    "**Note:** When defining user-defined types, we explicitly need to implement comparison and make sure they're transitive.\n"
   ]
  },
  {
   "cell_type": "markdown",
   "id": "f4951565-894f-46ae-8aec-58368de217e3",
   "metadata": {},
   "source": [
    "# Sorting Libraries\n",
    "`bisect.bisect_left(a,x)`: returns the index of the first entry that is greater than or equal to the target value.\n",
    "`bisect.bisect_right(a,x)`: returns the index of the first entry that is greater than the targeted value."
   ]
  },
  {
   "cell_type": "markdown",
   "id": "af443d57-9863-4e69-bcd8-a6b09aa4a415",
   "metadata": {},
   "source": [
    "# Search a sorted array for first occurrence of k"
   ]
  },
  {
   "cell_type": "code",
   "execution_count": 10,
   "id": "f0016b73-0317-40b3-bfd8-374bce2f58ef",
   "metadata": {},
   "outputs": [
    {
     "data": {
      "text/plain": [
       "3"
      ]
     },
     "execution_count": 10,
     "metadata": {},
     "output_type": "execute_result"
    }
   ],
   "source": [
    "import bisect\n",
    "def first_occurrence(A, k):\n",
    "    ele_idx = bisect.bisect_left(A, 4)\n",
    "    return None if A[ele_idx] != k else ele_idx\n",
    "first_occurrence([1,2,3,4,4,5], 4)"
   ]
  },
  {
   "cell_type": "code",
   "execution_count": 11,
   "id": "3502e52a-2dbf-4d8f-bc1f-5773e6455593",
   "metadata": {},
   "outputs": [
    {
     "data": {
      "text/plain": [
       "1"
      ]
     },
     "execution_count": 11,
     "metadata": {},
     "output_type": "execute_result"
    }
   ],
   "source": [
    "def first_occurrence(A, k):\n",
    "    # finding the middle element and then traversing backwards till first.\n",
    "    L, U = 0, len(A)\n",
    "    found = False\n",
    "    while L <= U:\n",
    "        M = L + (U-L)//2\n",
    "        if A[M] == k:\n",
    "            found = True\n",
    "            break\n",
    "        elif A[M] < k:\n",
    "            L = M + 1\n",
    "        else:\n",
    "            U = M - 1\n",
    "    if not found:\n",
    "        return None\n",
    "    while A[M-1] == k:\n",
    "        M -= 1\n",
    "    return M\n",
    "first_occurrence([1,2,2,3,4,5], 2)"
   ]
  },
  {
   "cell_type": "markdown",
   "id": "d07e3d61-f995-4754-b7df-68db13c3d76d",
   "metadata": {},
   "source": [
    "## Better Approach"
   ]
  },
  {
   "cell_type": "code",
   "execution_count": 12,
   "id": "bbb867ba-b618-4a6c-a656-036c7f46afd0",
   "metadata": {},
   "outputs": [
    {
     "data": {
      "text/plain": [
       "2"
      ]
     },
     "execution_count": 12,
     "metadata": {},
     "output_type": "execute_result"
    }
   ],
   "source": [
    "def first_occurrence(A, k):\n",
    "    L, U, result = 0, len(A) - 1, - 1\n",
    "    while L <= U:\n",
    "        M = L + (U-L) // 2\n",
    "        if A[M] == k:\n",
    "            result = M # store the index\n",
    "            U = M - 1 # might also be present before\n",
    "        elif A[M] < k:\n",
    "            L = M + 1\n",
    "        else:\n",
    "            U = M - 1\n",
    "    return result\n",
    "first_occurrence([1,2,3,3,4], 3)"
   ]
  },
  {
   "cell_type": "markdown",
   "id": "1bcdd8d2-da15-4810-aacd-b023e0021a3e",
   "metadata": {},
   "source": [
    "**Variants:**\n",
    "* find first occurrence of element greater than given element\n",
    "* A is unsorted array of n integers with A[0] >= A[1] and A[n-2] <= A[n-1]. Call an index i a local minimum if A[i] is less than or equal to its neighbors. How would you efficiently find a local minimum, if one exists?\n",
    "* Write a program which tests if p is a prefix of a string in an array of sorted strings."
   ]
  },
  {
   "cell_type": "markdown",
   "id": "4d7447a8-4a0c-4bfa-aa4b-07a94bdb7ef5",
   "metadata": {},
   "source": [
    "# Search a sorted array for entry equal to its index\n",
    "WAP that takes sorted array as input and returns an index i such that element at index i equals i."
   ]
  },
  {
   "cell_type": "code",
   "execution_count": 13,
   "id": "13d15f99-b797-41e7-9205-6598496bbe2f",
   "metadata": {},
   "outputs": [
    {
     "data": {
      "text/plain": [
       "3"
      ]
     },
     "execution_count": 13,
     "metadata": {},
     "output_type": "execute_result"
    }
   ],
   "source": [
    "def entry_equal_index(A):\n",
    "    L, U = 0, len(A) - 1\n",
    "    while L <= U:\n",
    "        M = L + (U-L) // 2\n",
    "        if M == A[M]:\n",
    "            return M\n",
    "        elif M < A[M]:\n",
    "            U = M - 1\n",
    "        else:\n",
    "            L = M + 1\n",
    "    return None\n",
    "entry_equal_index([-2, 0, 2, 3, 6, 7, 9])"
   ]
  },
  {
   "cell_type": "markdown",
   "id": "9ddef28a-7101-42b9-874c-7bc0ab33a44d",
   "metadata": {},
   "source": [
    "# Search smallest in a cyclically sorted array\n",
    "WAP for finding the position of the smallest element in a cyclically sorted array."
   ]
  },
  {
   "cell_type": "code",
   "execution_count": 16,
   "id": "75d23ebe-79d3-4787-80cd-98fbfdf8c2fd",
   "metadata": {},
   "outputs": [
    {
     "data": {
      "text/plain": [
       "0"
      ]
     },
     "execution_count": 16,
     "metadata": {},
     "output_type": "execute_result"
    }
   ],
   "source": [
    "def search_smallest_cycle(A):\n",
    "    L, U = 0, len(A) - 1\n",
    "    while L <= U:\n",
    "        M = L + (U-L) // 2\n",
    "        if A[M] < A[U]:\n",
    "            U = M\n",
    "        elif A[M] > A[U]:\n",
    "            L = M + 1\n",
    "        else:\n",
    "            return A[M]\n",
    "search_smallest_cycle([4,5,0,1,2,3])"
   ]
  },
  {
   "cell_type": "code",
   "execution_count": 19,
   "id": "e0eec7e8-e2d5-4345-ab20-056afd0f8ecd",
   "metadata": {},
   "outputs": [
    {
     "data": {
      "text/plain": [
       "0"
      ]
     },
     "execution_count": 19,
     "metadata": {},
     "output_type": "execute_result"
    }
   ],
   "source": [
    "def search_smallest_cycle(A):\n",
    "    L, U = 0, len(A) - 1\n",
    "    while L < U: # if L<= U then it will get stuck in else condition\n",
    "        M = L + (U-L) // 2\n",
    "        if A[M] > A[U]:\n",
    "            L = M+1\n",
    "        else:\n",
    "            U = M\n",
    "    return A[L]\n",
    "search_smallest_cycle([4,5,0,1,2,3])"
   ]
  },
  {
   "cell_type": "markdown",
   "id": "3e75c785-eef5-479d-ad6c-ffe7923cddfa",
   "metadata": {},
   "source": [
    "# Compute the integer square root\n",
    "WAP which takes non negative integer and returns the largest integer whose square is less than or equal to the given integer.\n",
    "\n",
    "e.g. \n",
    "* if the input is 16 then return 4\n",
    "* if the input is 26 then return 5"
   ]
  },
  {
   "cell_type": "code",
   "execution_count": 44,
   "id": "f1a4b183-496c-4bf2-ac60-50e9f8c760ed",
   "metadata": {},
   "outputs": [
    {
     "data": {
      "text/plain": [
       "9"
      ]
     },
     "execution_count": 44,
     "metadata": {},
     "output_type": "execute_result"
    }
   ],
   "source": [
    "def int_square_root(x):\n",
    "    L, U, res = 0, x, -1\n",
    "    while L <= U:\n",
    "        M = L + (U-L) // 2\n",
    "        if M*M <= x:\n",
    "            res = M\n",
    "            L = M + 1\n",
    "        else:\n",
    "            U = M - 1\n",
    "    return res\n",
    "int_square_root(82)"
   ]
  },
  {
   "cell_type": "markdown",
   "id": "29c94ffc-3aa7-4355-ab59-224c13797029",
   "metadata": {},
   "source": [
    "# Compute real square root\n",
    "WAP which takes as input a floating point value and return its square root."
   ]
  },
  {
   "cell_type": "code",
   "execution_count": 52,
   "id": "ecca806a-559d-47ea-bcc2-ea77a8300359",
   "metadata": {},
   "outputs": [
    {
     "data": {
      "text/plain": [
       "5.999847412109375"
      ]
     },
     "execution_count": 52,
     "metadata": {},
     "output_type": "execute_result"
    }
   ],
   "source": [
    "def square_root(x):\n",
    "    import math\n",
    "    l, r = (x, 1.) if x < 1 else (1., x)\n",
    "    while not math.isclose(l, r, abs_tol=0.0005):\n",
    "        m = (l + r) / 2\n",
    "        if m*m <= x:\n",
    "            l = m\n",
    "        else:\n",
    "            r = m\n",
    "    return l\n",
    "square_root(36)"
   ]
  },
  {
   "cell_type": "code",
   "execution_count": null,
   "id": "c89d8ca2-1da6-4422-8e37-2831bd34bcf0",
   "metadata": {},
   "outputs": [],
   "source": []
  }
 ],
 "metadata": {
  "kernelspec": {
   "display_name": "Python 3 (ipykernel)",
   "language": "python",
   "name": "python3"
  },
  "language_info": {
   "codemirror_mode": {
    "name": "ipython",
    "version": 3
   },
   "file_extension": ".py",
   "mimetype": "text/x-python",
   "name": "python",
   "nbconvert_exporter": "python",
   "pygments_lexer": "ipython3",
   "version": "3.10.9"
  }
 },
 "nbformat": 4,
 "nbformat_minor": 5
}

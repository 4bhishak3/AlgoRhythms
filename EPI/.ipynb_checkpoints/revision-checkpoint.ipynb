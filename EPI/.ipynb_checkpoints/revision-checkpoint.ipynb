{
 "cells": [
  {
   "cell_type": "markdown",
   "metadata": {},
   "source": [
    "# Bits"
   ]
  },
  {
   "cell_type": "markdown",
   "metadata": {},
   "source": [
    "## Swap Bits"
   ]
  },
  {
   "cell_type": "code",
   "execution_count": 9,
   "metadata": {},
   "outputs": [
    {
     "data": {
      "text/plain": [
       "44"
      ]
     },
     "execution_count": 9,
     "metadata": {},
     "output_type": "execute_result"
    }
   ],
   "source": [
    "def swap_bits(n, i, j):\n",
    "    x, y = 1 << i, 1 << j\n",
    "    if not (\n",
    "        (n & x == x and n & y == y) or\n",
    "        (n & x == 0 and n & y == 0)\n",
    "    ): return n ^ (x | y)\n",
    "    return n\n",
    "swap_bits(14, 1, 5)"
   ]
  },
  {
   "cell_type": "code",
   "execution_count": 2,
   "metadata": {},
   "outputs": [],
   "source": [
    "import heapq, itertools"
   ]
  },
  {
   "cell_type": "code",
   "execution_count": 23,
   "metadata": {},
   "outputs": [],
   "source": [
    "def top_k(k, stream):\n",
    "    min_heap = [(len(s),s) for s in itertools.slice(stream, k)]\n",
    "    heapq.heapify(min_heap)\n",
    "    for next_string in stream:\n",
    "        heapq.heappushpop(min_heap, (len(next_string), next_string))\n",
    "    return [p[1] for p in heapq.nsmallest(k, min_heap)]"
   ]
  },
  {
   "cell_type": "code",
   "execution_count": 27,
   "metadata": {},
   "outputs": [
    {
     "name": "stdout",
     "output_type": "stream",
     "text": [
      "[(0, 0), (5, 1), (3, 2)]\n"
     ]
    },
    {
     "data": {
      "text/plain": [
       "[0, 3, 4, 4, 5, 5, 6, 7]"
      ]
     },
     "execution_count": 27,
     "metadata": {},
     "output_type": "execute_result"
    }
   ],
   "source": [
    "def merge_k_sorted(A):\n",
    "    iters = [iter(a) for a in A]\n",
    "    min_heap = [(next(iters[i]), i) for i in range(len(iters))]\n",
    "    print(min_heap)\n",
    "    heapq.heapify(min_heap)\n",
    "    \n",
    "    res = []\n",
    "    while min_heap:\n",
    "        min_ele, min_idx = heapq.heappop(min_heap)\n",
    "        next_smallest = next(iters[min_idx], None)\n",
    "        if next_smallest:\n",
    "            heapq.heappush(min_heap, (next_smallest, min_idx))\n",
    "        res.append(min_ele)\n",
    "    return res\n",
    "merge_k_sorted([[0,4,6],[5,7], [3,4,5,]])"
   ]
  },
  {
   "cell_type": "code",
   "execution_count": 49,
   "metadata": {},
   "outputs": [
    {
     "name": "stdout",
     "output_type": "stream",
     "text": [
      "[(57, 0), (294, 1), (221, 2), (190, 3)]\n"
     ]
    },
    {
     "data": {
      "text/plain": [
       "[57, 131, 190, 221, 294, 339, 418, 442, 452, 493]"
      ]
     },
     "execution_count": 49,
     "metadata": {},
     "output_type": "execute_result"
    }
   ],
   "source": [
    "def sort_inc_dec_array(A):\n",
    "    sorted_subarrays = []\n",
    "    INC, DEC = 0, 1\n",
    "    turn = INC\n",
    "    l = 0\n",
    "    for i in range(1, len(A)+1):\n",
    "        if i == len(A):\n",
    "            sorted_subarrays.append(A[l:i] if turn == INC else list(reversed(A[l:i])))\n",
    "            break\n",
    "        if (A[i-1] <= A[i] and turn == DEC):\n",
    "            sorted_subarrays.append(list(reversed(A[l:i-1])))\n",
    "            l = i-1\n",
    "            turn = INC\n",
    "        elif (A[i-1] > A[i] and turn == INC):\n",
    "            sorted_subarrays.append(A[l:i-1])\n",
    "            l = i-1\n",
    "            turn = DEC\n",
    "    return merge_k_sorted(sorted_subarrays)\n",
    "sort_inc_dec_array([57, 131, 493, 294, 221, 339, 418, 452, 442, 190])"
   ]
  },
  {
   "cell_type": "code",
   "execution_count": null,
   "metadata": {},
   "outputs": [],
   "source": []
  }
 ],
 "metadata": {
  "kernelspec": {
   "display_name": "Python 3 (ipykernel)",
   "language": "python",
   "name": "python3"
  },
  "language_info": {
   "codemirror_mode": {
    "name": "ipython",
    "version": 3
   },
   "file_extension": ".py",
   "mimetype": "text/x-python",
   "name": "python",
   "nbconvert_exporter": "python",
   "pygments_lexer": "ipython3",
   "version": "3.10.9"
  },
  "vscode": {
   "interpreter": {
    "hash": "916dbcbb3f70747c44a77c7bcd40155683ae19c65e1c03b4aa3499c5328201f1"
   }
  }
 },
 "nbformat": 4,
 "nbformat_minor": 4
}

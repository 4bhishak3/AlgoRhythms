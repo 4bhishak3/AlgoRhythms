{
 "cells": [
  {
   "cell_type": "markdown",
   "id": "47cb0e54-0707-4adf-a886-2a7df371f963",
   "metadata": {},
   "source": [
    "# Heaps\n",
    "specialized binary tree. keys must satisfy heap property.\n",
    "\n",
    "e.g.\n",
    "in max-heap: key at each node is at least as great as key stored at its children.\n",
    "\n",
    "if parent at i then children are at 2i+1 and 2i+2\n",
    "\n",
    "**insertion**: O(logn)\n",
    "\n",
    "**lookup at max element**: O(1)\n",
    "\n",
    "**deletion of max element**: O(logn)"
   ]
  },
  {
   "cell_type": "markdown",
   "id": "df9398ad-2321-4deb-9503-410661757c97",
   "metadata": {},
   "source": [
    "## Example Usecase\n",
    "From a stream we need to know k longest subtstring. In stream we can't back to read a value. \n",
    "As we process inputs we keep track of k longest substring. the string to be evicted from heap when longer stirng is to be added is the smaller one. So, min-heap is going to be effective."
   ]
  },
  {
   "cell_type": "code",
   "execution_count": 10,
   "id": "ccdc4eca-23b8-4771-b758-3a3901e98c89",
   "metadata": {},
   "outputs": [
    {
     "data": {
      "text/plain": [
       "['dsaa', 'ehll', 'ehll']"
      ]
     },
     "execution_count": 10,
     "metadata": {},
     "output_type": "execute_result"
    }
   ],
   "source": [
    "def top_k(k, stream):\n",
    "    # Entries compared by their lengths\n",
    "    import itertools, heapq\n",
    "    min_heap = [(len(s), s) for s in itertools.islice(stream, k)]\n",
    "    heapq.heapify(min_heap)\n",
    "    for next_string in stream:\n",
    "        heapq.heappushpop(min_heap, (len(next_string), next_string))\n",
    "    return [p[1] for p in heapq.nsmallest(k, min_heap)]\n",
    "top_k(3, [\"ehll\",\"s\",\"dsaa\",\"ew\"])"
   ]
  },
  {
   "cell_type": "markdown",
   "id": "89085483-0461-4d86-9ad1-e521c97917bd",
   "metadata": {},
   "source": [
    "## Note\n",
    "- Use **heap** when all you care about is largest or smallest elements and you don't need to support fast lookup, delete or search operations.\n",
    "- for k-largest use min-heap and for k-smallest use max-heap"
   ]
  },
  {
   "cell_type": "markdown",
   "id": "0d095a6e-c9d9-47e7-873b-883fcd446ed1",
   "metadata": {},
   "source": [
    "## heap operations\n",
    "- **heapq.heapify(L)**: which transforms the elements in L into heap in place.\n",
    "- **heapq.nlargest(k, L)|heap.nsmallest(k,L)**: k-largest|k-smallest elements in L.\n",
    "- **heapq.heappush(h, e)**: pushes new element on heap h.\n",
    "- **heapq.heappop(h)**: pops smallest element from heap\n",
    "- **heapq.heappushpop(h, a)**: pushes a on the heap and then pops and returns the smallest element\n",
    "- e = h[0] returns smallest element on the heap without popping it."
   ]
  },
  {
   "cell_type": "code",
   "execution_count": null,
   "id": "eabb4b74-1896-4bf0-8b32-5876ae35b38e",
   "metadata": {},
   "outputs": [],
   "source": []
  }
 ],
 "metadata": {
  "kernelspec": {
   "display_name": "Python 3 (ipykernel)",
   "language": "python",
   "name": "python3"
  },
  "language_info": {
   "codemirror_mode": {
    "name": "ipython",
    "version": 3
   },
   "file_extension": ".py",
   "mimetype": "text/x-python",
   "name": "python",
   "nbconvert_exporter": "python",
   "pygments_lexer": "ipython3",
   "version": "3.10.8"
  }
 },
 "nbformat": 4,
 "nbformat_minor": 5
}

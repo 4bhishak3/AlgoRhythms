{
 "cells": [
  {
   "cell_type": "markdown",
   "id": "4f6c2e51-83f2-4f7d-8b16-f5d4e1f2f36f",
   "metadata": {},
   "source": [
    "# Linked Lists"
   ]
  },
  {
   "cell_type": "code",
   "execution_count": 1,
   "id": "3440e659-4280-4cdf-87ea-2a23a6b5fdb8",
   "metadata": {},
   "outputs": [],
   "source": [
    "class ListNode:\n",
    "    def __init__(self, data=0, next_node=None):\n",
    "        self.data = data\n",
    "        self.next = next_node\n",
    "    def __repr__(self):\n",
    "        return f\"ListNode(data={self.data})\"\n",
    "\n",
    "def search_list(L, key):\n",
    "    while L and L.data != key:\n",
    "        L = L.next\n",
    "    return L # returns null if key not present\n",
    "\n",
    "def insert_after(node, new_node):\n",
    "    new_node.next = node.next\n",
    "    node.next = new_node\n",
    "\n",
    "# Assuming node is not a tail\n",
    "def delete_after(node):\n",
    "    node.next = node.next.next\n",
    "\n",
    "def print_list(node):\n",
    "    curr = node\n",
    "    while curr:\n",
    "        print(curr.data, end='->')\n",
    "        curr = curr.next\n",
    "    print('X')"
   ]
  },
  {
   "cell_type": "markdown",
   "id": "844a8d3c-3ac2-4a80-b00b-747fc664637f",
   "metadata": {},
   "source": [
    "# Merge two sorted lists\n",
    "Q. Consider two singly linked lists in which each node holds a number. Assume the lists are sorted. Merge the two lists so that returning list is also sorted."
   ]
  },
  {
   "cell_type": "code",
   "execution_count": 2,
   "id": "37d827c8-9503-40be-bb8a-aeaf98be0718",
   "metadata": {},
   "outputs": [],
   "source": [
    "def merge_sorted_lists(L1, L2):\n",
    "    res = ListNode()\n",
    "    L3 = res\n",
    "    while L1 and L2:\n",
    "        if L1.data <= L2.data:\n",
    "            insert_after(L3, ListNode(L1.data))\n",
    "            L1 = L1.next\n",
    "        else:\n",
    "            insert_after(L3, ListNode(L2.data))\n",
    "            L2 = L2.next\n",
    "        L3 = L3.next\n",
    "    while L1:\n",
    "        insert_after(L3, ListNode(L1.data))\n",
    "        L1 = L1.next\n",
    "        L3 = L3.next\n",
    "    while L2:\n",
    "        insert_after(L3, ListNode(L2.data))\n",
    "        L2 = L2.next\n",
    "        L3 = L3.next\n",
    "    return res.next"
   ]
  },
  {
   "cell_type": "markdown",
   "id": "9ac53406-49d9-4263-a874-bc509494e4c2",
   "metadata": {},
   "source": [
    "### Better Code"
   ]
  },
  {
   "cell_type": "code",
   "execution_count": 3,
   "id": "12602821-ac5a-49e1-834c-6c8d47bbc090",
   "metadata": {},
   "outputs": [],
   "source": [
    "def merge_two_sorted_lists(L1, L2):\n",
    "    dummy_head = tail = ListNode()\n",
    "    while L1 and L2:\n",
    "        if L1.data <= L2.data:\n",
    "            tail.next, L1 = L1, L1.next\n",
    "        else:\n",
    "            tail.next, L2 = L2, L2.next\n",
    "        tail = tail.next\n",
    "    tail.next = L1 or L2\n",
    "    return dummy_head.next"
   ]
  },
  {
   "cell_type": "markdown",
   "id": "c0dd13ae-b5fa-4b27-b65a-e7409c4d7818",
   "metadata": {},
   "source": [
    "## Reverse a single sublist\n",
    "Q. Write a program which takes a single linked list L and two integers s and f as arguments, and reverses the order of the nodes from the sth node to fth node, inclusive. the numbering begins at 1 i.e., the head node is the first node. Do not allocate additional nodes."
   ]
  },
  {
   "cell_type": "code",
   "execution_count": 4,
   "id": "7cec41c3-1fbb-4f2a-b162-91f477fe9646",
   "metadata": {},
   "outputs": [
    {
     "name": "stdout",
     "output_type": "stream",
     "text": [
      "0->1->2->3->4->5->6->7->8->9->10->X\n",
      "0->1->8->7->6->5->4->3->2->9->10->X\n"
     ]
    }
   ],
   "source": [
    "def reverse_sublist(L, s, f):\n",
    "    ptr = L\n",
    "    L_start = L\n",
    "    count = 1\n",
    "    \n",
    "    while count < f:\n",
    "        if count == s - 1:\n",
    "            temp = ptr\n",
    "            L_start = ptr.next\n",
    "        ptr = ptr.next\n",
    "        count += 1\n",
    "    prev = ptr.next\n",
    "    ptr.next = temp\n",
    "    \n",
    "    count = 1\n",
    "    curr = L_start\n",
    "    while count <= f - s + 2:\n",
    "        next = curr.next\n",
    "        curr.next = prev\n",
    "        prev, curr = curr, next\n",
    "        count += 1\n",
    "L = curr = ListNode()\n",
    "for i in range(10):\n",
    "    insert_after(curr, ListNode(i+1))\n",
    "    curr = curr.next\n",
    "print_list(L)\n",
    "reverse_sublist(L, 3, 9)\n",
    "print_list(L)"
   ]
  },
  {
   "cell_type": "markdown",
   "id": "26a0fb2e-0fc0-40ea-916d-0a1e449944f9",
   "metadata": {},
   "source": [
    "### Better Code"
   ]
  },
  {
   "cell_type": "code",
   "execution_count": 5,
   "id": "f46c1d40-e3d1-4f31-989d-ccf4e81616f3",
   "metadata": {},
   "outputs": [
    {
     "name": "stdout",
     "output_type": "stream",
     "text": [
      "0->1->2->3->4->5->6->7->8->9->10->X\n",
      "0->1->8->7->6->5->4->3->2->9->10->X\n"
     ]
    }
   ],
   "source": [
    "def reverse_sublist(L, start, finish):\n",
    "    dummy_node = sublist_head = ListNode(0, L)\n",
    "    for _ in range(1, start):\n",
    "        sublist_head = sublist_head.next\n",
    "        \n",
    "    sublist_iter = sublist_head.next\n",
    "    for _ in range(finish - start):\n",
    "        temp = sublist_iter.next\n",
    "        sublist_iter.next = temp.next\n",
    "        temp.next = sublist_head.next\n",
    "        sublist_head.next = temp\n",
    "        \n",
    "    return dummy_node.next\n",
    "L = curr = ListNode()\n",
    "for i in range(10):\n",
    "    insert_after(curr, ListNode(i+1))\n",
    "    curr = curr.next\n",
    "\n",
    "print_list(L)\n",
    "reverse_sublist(L, 3, 9)\n",
    "print_list(L)"
   ]
  },
  {
   "cell_type": "markdown",
   "id": "a0360824-6cba-4e66-b72a-2120e234b174",
   "metadata": {},
   "source": [
    "## Test for cyclicity\n",
    "Q. Write a program that takes the head of the singly linked list and returns null if there does not exist a cycle, and the node at the start of the cycle, if a cycle is present."
   ]
  },
  {
   "cell_type": "markdown",
   "id": "53fe40b7-e75e-4eca-8007-1758975df888",
   "metadata": {},
   "source": [
    "### My try with Py\n",
    "following solution uses O(n) space."
   ]
  },
  {
   "cell_type": "code",
   "execution_count": 6,
   "id": "77bd2206-e128-49b0-9f2d-029e938ca18a",
   "metadata": {},
   "outputs": [
    {
     "data": {
      "text/plain": [
       "ListNode(data=1)"
      ]
     },
     "execution_count": 6,
     "metadata": {},
     "output_type": "execute_result"
    }
   ],
   "source": [
    "def test_cyclicity(L):\n",
    "    s = set()\n",
    "    ptr = L\n",
    "    while ptr and ptr not in s:\n",
    "        s.add(ptr)\n",
    "        ptr = ptr.next\n",
    "    return ptr\n",
    "head = curr = ListNode(1)\n",
    "insert_after(curr, ListNode(2))\n",
    "curr = curr.next\n",
    "insert_after(curr, ListNode(3))\n",
    "curr = curr.next\n",
    "curr.next = head\n",
    "test_cyclicity(head)"
   ]
  },
  {
   "cell_type": "markdown",
   "id": "704f55fb-1087-46e2-9619-743705a93717",
   "metadata": {},
   "source": [
    "Without additional space.\n",
    "keep increasing the fast iterator. If there is a cycle then fast iterator will be behind slow at one time. And that's when we return True knowing that there is a cycle. But we can't return the head of cycle.\n",
    "I don't know the maths but fast iterator somehow can match or be just before the slow iterator in the loop"
   ]
  },
  {
   "cell_type": "code",
   "execution_count": 7,
   "id": "a21b2c72-e6ab-4101-bdb1-abd385f09be5",
   "metadata": {},
   "outputs": [
    {
     "name": "stdout",
     "output_type": "stream",
     "text": [
      "True\n"
     ]
    }
   ],
   "source": [
    "def test_cyclicity(L):\n",
    "    norm = fast = L\n",
    "    count = 1\n",
    "    while norm:\n",
    "        speed = count\n",
    "        while speed and fast:\n",
    "            if fast.next == norm:\n",
    "                return True\n",
    "            if fast.next == None:\n",
    "                return False\n",
    "            fast = fast.next\n",
    "            speed -= 1\n",
    "        count += 1\n",
    "        norm = norm.next\n",
    "\n",
    "head = curr = ListNode(1)\n",
    "insert_after(curr, ListNode(2))\n",
    "curr = curr.next\n",
    "insert_after(curr, ListNode(3))\n",
    "curr = curr.next\n",
    "insert_after(curr, ListNode(4))\n",
    "curr = curr.next\n",
    "curr.next = head\n",
    "print(test_cyclicity(head))"
   ]
  },
  {
   "cell_type": "markdown",
   "id": "b2e94c77-0616-44da-a96a-65fe86be31df",
   "metadata": {},
   "source": [
    "### Book solution\n"
   ]
  },
  {
   "cell_type": "markdown",
   "id": "89aeb9fb-40dd-4449-bf2f-7964ee4fe651",
   "metadata": {
    "tags": []
   },
   "source": [
    "#### BruteForce (My implementation)\n",
    "we can have two iterators outer loop and inner loop.\n",
    "\n",
    "Outer loop traverses one by one and inner loop traverses the same length traversed by outer loop. if the node is reached twice by inner loop then it contains the cycle.\n",
    "\n",
    "Time: $O(n^2)$"
   ]
  },
  {
   "cell_type": "code",
   "execution_count": 8,
   "id": "9583e2bf-8eee-4faa-81c1-f5622ec8c751",
   "metadata": {},
   "outputs": [
    {
     "name": "stdout",
     "output_type": "stream",
     "text": [
      "ListNode(data=1)\n"
     ]
    }
   ],
   "source": [
    "def has_cycle(L):\n",
    "    outer = inner = L\n",
    "    outer_len = 0\n",
    "    while outer:\n",
    "        inner_len = outer_len\n",
    "        count = 0\n",
    "        while inner_len:\n",
    "            if inner == outer:\n",
    "                count += 1\n",
    "                if count == 2:\n",
    "                    return inner \n",
    "            inner = inner.next\n",
    "            inner_len -= 1\n",
    "        # resetting inner to start of list\n",
    "        inner = L\n",
    "        outer = outer.next\n",
    "        outer_len += 1\n",
    "    return outer\n",
    "\n",
    "head = curr = ListNode(1)\n",
    "insert_after(curr, ListNode(2))\n",
    "curr = curr.next\n",
    "insert_after(curr, ListNode(3))\n",
    "curr = curr.next\n",
    "insert_after(curr, ListNode(4))\n",
    "curr = curr.next\n",
    "curr.next = head\n",
    "print(has_cycle(head))"
   ]
  },
  {
   "cell_type": "markdown",
   "id": "4470835d-f55b-4708-985e-ebfa01d78ea5",
   "metadata": {},
   "source": [
    "Now doing it in O(n) time.\n",
    "We can use two iterators one fast and one slow. slow iterator steps one at a time and fast iterator steps two at a time. If there's a loop they'll meet eventually. why they'll meet? Because fast iterator will jump over the slow iterator and the slow iterator will equal the fast iterator eventually.\n",
    "\n",
    "But the problem is finding the head of the loop. Once we know that there is a cycle we can first calculate the length of cycle say C. then we'll start from the head of list again and the first node which is equal to the node which is C after is the first element of the cycle."
   ]
  },
  {
   "cell_type": "code",
   "execution_count": 12,
   "id": "256b8568-0e74-4bc4-ae16-e9411280f0c9",
   "metadata": {},
   "outputs": [
    {
     "name": "stdout",
     "output_type": "stream",
     "text": [
      "ListNode(data=1)\n"
     ]
    }
   ],
   "source": [
    "def has_cycle(L):\n",
    "    def len_cycle(cycle_head):\n",
    "        \"\"\"finding the length of the cycle.\"\"\"\n",
    "        step = 1\n",
    "        left = cycle_head\n",
    "        right = left.next\n",
    "        while right != left:\n",
    "            step += 1\n",
    "            right = right.next\n",
    "        return step\n",
    "    \n",
    "    fast = slow = L\n",
    "    while fast and fast.next and fast.next.next:\n",
    "        slow = slow.next\n",
    "        fast = fast.next.next\n",
    "        if slow == fast:\n",
    "            cycle_len = len_cycle(slow)\n",
    "            after_cycle_len = L\n",
    "            for _ in range(cycle_len):\n",
    "                after_cycle_len = after_cycle_len.next\n",
    "            while L != after_cycle_len:\n",
    "                L = L.next\n",
    "                after_cycle_len = after_cycle_len.next\n",
    "            return after_cycle_len\n",
    "    return False\n",
    "head = curr = ListNode(1)\n",
    "insert_after(curr, ListNode(2))\n",
    "curr = curr.next\n",
    "insert_after(curr, ListNode(3))\n",
    "curr = curr.next\n",
    "insert_after(curr, ListNode(4))\n",
    "curr = curr.next\n",
    "curr.next = head\n",
    "print(has_cycle(head))"
   ]
  },
  {
   "cell_type": "code",
   "execution_count": null,
   "id": "5a497887-3c66-4e43-880c-2840efdfa1ab",
   "metadata": {},
   "outputs": [],
   "source": []
  }
 ],
 "metadata": {
  "kernelspec": {
   "display_name": "Python 3 (ipykernel)",
   "language": "python",
   "name": "python3"
  },
  "language_info": {
   "codemirror_mode": {
    "name": "ipython",
    "version": 3
   },
   "file_extension": ".py",
   "mimetype": "text/x-python",
   "name": "python",
   "nbconvert_exporter": "python",
   "pygments_lexer": "ipython3",
   "version": "3.10.5"
  }
 },
 "nbformat": 4,
 "nbformat_minor": 5
}
